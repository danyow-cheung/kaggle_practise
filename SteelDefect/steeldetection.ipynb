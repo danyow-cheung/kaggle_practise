{
  "nbformat": 4,
  "nbformat_minor": 0,
  "metadata": {
    "colab": {
      "provenance": []
    },
    "kernelspec": {
      "name": "python3",
      "display_name": "Python 3"
    },
    "language_info": {
      "name": "python"
    }
  },
  "cells": [
    {
      "cell_type": "markdown",
      "source": [
        "**kaggle data to download**"
      ],
      "metadata": {
        "id": "_w13aU6yR2Q3"
      }
    },
    {
      "cell_type": "code",
      "source": [
        "# ! pip install -q kaggle\n",
        "# !mkdir ~/.kaggle\n",
        "# !cp kaggle.json ~/.kaggle\n",
        "# !kaggle competitions download -c severstal-steel-defect-detection"
      ],
      "metadata": {
        "id": "IKAoJu0zR7Eu"
      },
      "execution_count": 29,
      "outputs": []
    },
    {
      "cell_type": "code",
      "source": [
        "# !unzip severstal-steel-defect-detection.zip"
      ],
      "metadata": {
        "id": "wr1sVa1RTI2p"
      },
      "execution_count": 30,
      "outputs": []
    },
    {
      "cell_type": "markdown",
      "source": [
        "# learning first\n",
        "> https://www.kaggle.com/code/gpiosenka/steel-defect-classification-f1score-86"
      ],
      "metadata": {
        "id": "cUxAZYyKSorg"
      }
    },
    {
      "cell_type": "code",
      "source": [
        "import pandas as pd\n",
        "import numpy as np\n",
        "import os\n",
        "os.environ['TF_CPP_MIN_LOG_LEVEL'] = '2'\n",
        "import time\n",
        "import matplotlib\n",
        "import matplotlib.pyplot as plt\n",
        "import cv2\n",
        "import seaborn as sns\n",
        "sns.set_style('darkgrid')\n",
        "import shutil\n",
        "from sklearn.metrics import confusion_matrix, classification_report\n",
        "from sklearn.model_selection import train_test_split\n",
        "import tensorflow as tf\n",
        "from tensorflow import keras\n",
        "from tensorflow.keras.preprocessing.image import ImageDataGenerator\n",
        "from tensorflow.keras.layers import Dense, Activation,Dropout,Conv2D, MaxPooling2D,BatchNormalization\n",
        "from tensorflow.keras.optimizers import Adam, Adamax\n",
        "from tensorflow.keras.metrics import categorical_crossentropy\n",
        "from tensorflow.keras import regularizers\n",
        "from tensorflow.keras.models import Model\n",
        "from tensorflow.keras import backend as K\n",
        "import time\n",
        "\n",
        "from tqdm import tqdm\n",
        "from sklearn.metrics import f1_score\n",
        "from IPython.display import YouTubeVideo\n",
        "import sys\n",
        "if not sys.warnoptions:\n",
        "    import warnings\n",
        "    warnings.simplefilter(\"ignore\")\n"
      ],
      "metadata": {
        "id": "UHIAoH9jTWn_"
      },
      "execution_count": 31,
      "outputs": []
    },
    {
      "cell_type": "markdown",
      "source": [
        "## 自定義回調概念\n",
        "這個筆記本實現了一個自定義回調來調整訓練期間的學習率。\n",
        "回調有一個參數 dwell。 如果 dwell 設置為 True，則回調會監控驗證丟失。 它會跟踪您運行時迄今為止達到的最低驗證損失\n",
        "通過每個時期並將其存儲為最低損失，並將該時期的權重存儲為最佳權重。 在一個紀元結束時，將該紀元的驗證損失與最低損失進行比較。 如果當前時期結束時的驗證損失小於最低損失，則它成為最低損失，並且當前時期的權重成為最佳權重\n",
        "\n",
        "\n",
        "<br>\n",
        "<br>\n",
        "\n",
        "如果當前紀元結束時的驗證損失大於最低損失\n",
        "這意味著你已經移動到 N 空間中的一個位置（N 是可訓練參數的數量\n",
        "在比位置更不利（成本更高）的驗證成本函數表面上\n",
        "在由最佳權重定義的 Nspace 中。 因此，為什麼要將模型權重降低到這個程度\n",
        "有利位置？ 最好將模型權重重置為最佳權重，然後降低學習率並運行更多時期。 新的學習率設置為 new_lr=current_lr * factor，其中 factor 是回調實例化中用戶指定的參數。 默認情況下它設置為 .04，默認情況下駐留設置為 True。\n",
        "\n",
        "<br>\n",
        "<br>\n",
        "\n",
        "\n",
        "\n",
        "在訓練結束時，回調總是返回權重設置為\n",
        "最好的重量。 回調提供了一個功能，它會定期查詢用戶\n",
        "繼續並可選擇手動指定新的學習率或停止訓練。\n",
        "在培訓期間，回調提供了有關改進百分比的有用信息\n",
        "每個時期的驗證損失。 這對於決定何時停止訓練或手動指定新的學習率很有用。\n",
        "\n"
      ],
      "metadata": {
        "id": "S_rz31SmT1HK"
      }
    },
    {
      "cell_type": "markdown",
      "source": [
        "### load the data"
      ],
      "metadata": {
        "id": "IP2mR00bVu8L"
      }
    },
    {
      "cell_type": "code",
      "source": [
        "df = pd.read_csv(\"train.csv\")\n",
        "\n",
        "df.head()"
      ],
      "metadata": {
        "colab": {
          "base_uri": "https://localhost:8080/",
          "height": 206
        },
        "id": "gNy1CFZRTXik",
        "outputId": "47257819-aede-4f25-838e-85786d03ffdf"
      },
      "execution_count": 32,
      "outputs": [
        {
          "output_type": "execute_result",
          "data": {
            "text/plain": [
              "         ImageId  ClassId                                      EncodedPixels\n",
              "0  0002cc93b.jpg        1  29102 12 29346 24 29602 24 29858 24 30114 24 3...\n",
              "1  0007a71bf.jpg        3  18661 28 18863 82 19091 110 19347 110 19603 11...\n",
              "2  000a4bcdd.jpg        1  37607 3 37858 8 38108 14 38359 20 38610 25 388...\n",
              "3  000f6bf48.jpg        4  131973 1 132228 4 132483 6 132738 8 132993 11 ...\n",
              "4  0014fce06.jpg        3  229501 11 229741 33 229981 55 230221 77 230468..."
            ],
            "text/html": [
              "\n",
              "  <div id=\"df-8f05863f-2690-4f0e-816f-44ee33c499e2\">\n",
              "    <div class=\"colab-df-container\">\n",
              "      <div>\n",
              "<style scoped>\n",
              "    .dataframe tbody tr th:only-of-type {\n",
              "        vertical-align: middle;\n",
              "    }\n",
              "\n",
              "    .dataframe tbody tr th {\n",
              "        vertical-align: top;\n",
              "    }\n",
              "\n",
              "    .dataframe thead th {\n",
              "        text-align: right;\n",
              "    }\n",
              "</style>\n",
              "<table border=\"1\" class=\"dataframe\">\n",
              "  <thead>\n",
              "    <tr style=\"text-align: right;\">\n",
              "      <th></th>\n",
              "      <th>ImageId</th>\n",
              "      <th>ClassId</th>\n",
              "      <th>EncodedPixels</th>\n",
              "    </tr>\n",
              "  </thead>\n",
              "  <tbody>\n",
              "    <tr>\n",
              "      <th>0</th>\n",
              "      <td>0002cc93b.jpg</td>\n",
              "      <td>1</td>\n",
              "      <td>29102 12 29346 24 29602 24 29858 24 30114 24 3...</td>\n",
              "    </tr>\n",
              "    <tr>\n",
              "      <th>1</th>\n",
              "      <td>0007a71bf.jpg</td>\n",
              "      <td>3</td>\n",
              "      <td>18661 28 18863 82 19091 110 19347 110 19603 11...</td>\n",
              "    </tr>\n",
              "    <tr>\n",
              "      <th>2</th>\n",
              "      <td>000a4bcdd.jpg</td>\n",
              "      <td>1</td>\n",
              "      <td>37607 3 37858 8 38108 14 38359 20 38610 25 388...</td>\n",
              "    </tr>\n",
              "    <tr>\n",
              "      <th>3</th>\n",
              "      <td>000f6bf48.jpg</td>\n",
              "      <td>4</td>\n",
              "      <td>131973 1 132228 4 132483 6 132738 8 132993 11 ...</td>\n",
              "    </tr>\n",
              "    <tr>\n",
              "      <th>4</th>\n",
              "      <td>0014fce06.jpg</td>\n",
              "      <td>3</td>\n",
              "      <td>229501 11 229741 33 229981 55 230221 77 230468...</td>\n",
              "    </tr>\n",
              "  </tbody>\n",
              "</table>\n",
              "</div>\n",
              "      <button class=\"colab-df-convert\" onclick=\"convertToInteractive('df-8f05863f-2690-4f0e-816f-44ee33c499e2')\"\n",
              "              title=\"Convert this dataframe to an interactive table.\"\n",
              "              style=\"display:none;\">\n",
              "        \n",
              "  <svg xmlns=\"http://www.w3.org/2000/svg\" height=\"24px\"viewBox=\"0 0 24 24\"\n",
              "       width=\"24px\">\n",
              "    <path d=\"M0 0h24v24H0V0z\" fill=\"none\"/>\n",
              "    <path d=\"M18.56 5.44l.94 2.06.94-2.06 2.06-.94-2.06-.94-.94-2.06-.94 2.06-2.06.94zm-11 1L8.5 8.5l.94-2.06 2.06-.94-2.06-.94L8.5 2.5l-.94 2.06-2.06.94zm10 10l.94 2.06.94-2.06 2.06-.94-2.06-.94-.94-2.06-.94 2.06-2.06.94z\"/><path d=\"M17.41 7.96l-1.37-1.37c-.4-.4-.92-.59-1.43-.59-.52 0-1.04.2-1.43.59L10.3 9.45l-7.72 7.72c-.78.78-.78 2.05 0 2.83L4 21.41c.39.39.9.59 1.41.59.51 0 1.02-.2 1.41-.59l7.78-7.78 2.81-2.81c.8-.78.8-2.07 0-2.86zM5.41 20L4 18.59l7.72-7.72 1.47 1.35L5.41 20z\"/>\n",
              "  </svg>\n",
              "      </button>\n",
              "      \n",
              "  <style>\n",
              "    .colab-df-container {\n",
              "      display:flex;\n",
              "      flex-wrap:wrap;\n",
              "      gap: 12px;\n",
              "    }\n",
              "\n",
              "    .colab-df-convert {\n",
              "      background-color: #E8F0FE;\n",
              "      border: none;\n",
              "      border-radius: 50%;\n",
              "      cursor: pointer;\n",
              "      display: none;\n",
              "      fill: #1967D2;\n",
              "      height: 32px;\n",
              "      padding: 0 0 0 0;\n",
              "      width: 32px;\n",
              "    }\n",
              "\n",
              "    .colab-df-convert:hover {\n",
              "      background-color: #E2EBFA;\n",
              "      box-shadow: 0px 1px 2px rgba(60, 64, 67, 0.3), 0px 1px 3px 1px rgba(60, 64, 67, 0.15);\n",
              "      fill: #174EA6;\n",
              "    }\n",
              "\n",
              "    [theme=dark] .colab-df-convert {\n",
              "      background-color: #3B4455;\n",
              "      fill: #D2E3FC;\n",
              "    }\n",
              "\n",
              "    [theme=dark] .colab-df-convert:hover {\n",
              "      background-color: #434B5C;\n",
              "      box-shadow: 0px 1px 3px 1px rgba(0, 0, 0, 0.15);\n",
              "      filter: drop-shadow(0px 1px 2px rgba(0, 0, 0, 0.3));\n",
              "      fill: #FFFFFF;\n",
              "    }\n",
              "  </style>\n",
              "\n",
              "      <script>\n",
              "        const buttonEl =\n",
              "          document.querySelector('#df-8f05863f-2690-4f0e-816f-44ee33c499e2 button.colab-df-convert');\n",
              "        buttonEl.style.display =\n",
              "          google.colab.kernel.accessAllowed ? 'block' : 'none';\n",
              "\n",
              "        async function convertToInteractive(key) {\n",
              "          const element = document.querySelector('#df-8f05863f-2690-4f0e-816f-44ee33c499e2');\n",
              "          const dataTable =\n",
              "            await google.colab.kernel.invokeFunction('convertToInteractive',\n",
              "                                                     [key], {});\n",
              "          if (!dataTable) return;\n",
              "\n",
              "          const docLinkHtml = 'Like what you see? Visit the ' +\n",
              "            '<a target=\"_blank\" href=https://colab.research.google.com/notebooks/data_table.ipynb>data table notebook</a>'\n",
              "            + ' to learn more about interactive tables.';\n",
              "          element.innerHTML = '';\n",
              "          dataTable['output_type'] = 'display_data';\n",
              "          await google.colab.output.renderOutput(dataTable, element);\n",
              "          const docLink = document.createElement('div');\n",
              "          docLink.innerHTML = docLinkHtml;\n",
              "          element.appendChild(docLink);\n",
              "        }\n",
              "      </script>\n",
              "    </div>\n",
              "  </div>\n",
              "  "
            ]
          },
          "metadata": {},
          "execution_count": 32
        }
      ]
    },
    {
      "cell_type": "code",
      "source": [
        "# drop EncodedPixels\n",
        "df= df.drop(\"EncodedPixels\",axis=1)\n",
        "df.columns =['filepaths','labels']\n",
        "df.head()"
      ],
      "metadata": {
        "colab": {
          "base_uri": "https://localhost:8080/",
          "height": 206
        },
        "id": "uxA-gtgxU3AS",
        "outputId": "43d21b49-945b-4617-ada5-9c6f96de6e7b"
      },
      "execution_count": 33,
      "outputs": [
        {
          "output_type": "execute_result",
          "data": {
            "text/plain": [
              "       filepaths  labels\n",
              "0  0002cc93b.jpg       1\n",
              "1  0007a71bf.jpg       3\n",
              "2  000a4bcdd.jpg       1\n",
              "3  000f6bf48.jpg       4\n",
              "4  0014fce06.jpg       3"
            ],
            "text/html": [
              "\n",
              "  <div id=\"df-48c722ca-ba7a-4119-adb4-6e3d59f8e7af\">\n",
              "    <div class=\"colab-df-container\">\n",
              "      <div>\n",
              "<style scoped>\n",
              "    .dataframe tbody tr th:only-of-type {\n",
              "        vertical-align: middle;\n",
              "    }\n",
              "\n",
              "    .dataframe tbody tr th {\n",
              "        vertical-align: top;\n",
              "    }\n",
              "\n",
              "    .dataframe thead th {\n",
              "        text-align: right;\n",
              "    }\n",
              "</style>\n",
              "<table border=\"1\" class=\"dataframe\">\n",
              "  <thead>\n",
              "    <tr style=\"text-align: right;\">\n",
              "      <th></th>\n",
              "      <th>filepaths</th>\n",
              "      <th>labels</th>\n",
              "    </tr>\n",
              "  </thead>\n",
              "  <tbody>\n",
              "    <tr>\n",
              "      <th>0</th>\n",
              "      <td>0002cc93b.jpg</td>\n",
              "      <td>1</td>\n",
              "    </tr>\n",
              "    <tr>\n",
              "      <th>1</th>\n",
              "      <td>0007a71bf.jpg</td>\n",
              "      <td>3</td>\n",
              "    </tr>\n",
              "    <tr>\n",
              "      <th>2</th>\n",
              "      <td>000a4bcdd.jpg</td>\n",
              "      <td>1</td>\n",
              "    </tr>\n",
              "    <tr>\n",
              "      <th>3</th>\n",
              "      <td>000f6bf48.jpg</td>\n",
              "      <td>4</td>\n",
              "    </tr>\n",
              "    <tr>\n",
              "      <th>4</th>\n",
              "      <td>0014fce06.jpg</td>\n",
              "      <td>3</td>\n",
              "    </tr>\n",
              "  </tbody>\n",
              "</table>\n",
              "</div>\n",
              "      <button class=\"colab-df-convert\" onclick=\"convertToInteractive('df-48c722ca-ba7a-4119-adb4-6e3d59f8e7af')\"\n",
              "              title=\"Convert this dataframe to an interactive table.\"\n",
              "              style=\"display:none;\">\n",
              "        \n",
              "  <svg xmlns=\"http://www.w3.org/2000/svg\" height=\"24px\"viewBox=\"0 0 24 24\"\n",
              "       width=\"24px\">\n",
              "    <path d=\"M0 0h24v24H0V0z\" fill=\"none\"/>\n",
              "    <path d=\"M18.56 5.44l.94 2.06.94-2.06 2.06-.94-2.06-.94-.94-2.06-.94 2.06-2.06.94zm-11 1L8.5 8.5l.94-2.06 2.06-.94-2.06-.94L8.5 2.5l-.94 2.06-2.06.94zm10 10l.94 2.06.94-2.06 2.06-.94-2.06-.94-.94-2.06-.94 2.06-2.06.94z\"/><path d=\"M17.41 7.96l-1.37-1.37c-.4-.4-.92-.59-1.43-.59-.52 0-1.04.2-1.43.59L10.3 9.45l-7.72 7.72c-.78.78-.78 2.05 0 2.83L4 21.41c.39.39.9.59 1.41.59.51 0 1.02-.2 1.41-.59l7.78-7.78 2.81-2.81c.8-.78.8-2.07 0-2.86zM5.41 20L4 18.59l7.72-7.72 1.47 1.35L5.41 20z\"/>\n",
              "  </svg>\n",
              "      </button>\n",
              "      \n",
              "  <style>\n",
              "    .colab-df-container {\n",
              "      display:flex;\n",
              "      flex-wrap:wrap;\n",
              "      gap: 12px;\n",
              "    }\n",
              "\n",
              "    .colab-df-convert {\n",
              "      background-color: #E8F0FE;\n",
              "      border: none;\n",
              "      border-radius: 50%;\n",
              "      cursor: pointer;\n",
              "      display: none;\n",
              "      fill: #1967D2;\n",
              "      height: 32px;\n",
              "      padding: 0 0 0 0;\n",
              "      width: 32px;\n",
              "    }\n",
              "\n",
              "    .colab-df-convert:hover {\n",
              "      background-color: #E2EBFA;\n",
              "      box-shadow: 0px 1px 2px rgba(60, 64, 67, 0.3), 0px 1px 3px 1px rgba(60, 64, 67, 0.15);\n",
              "      fill: #174EA6;\n",
              "    }\n",
              "\n",
              "    [theme=dark] .colab-df-convert {\n",
              "      background-color: #3B4455;\n",
              "      fill: #D2E3FC;\n",
              "    }\n",
              "\n",
              "    [theme=dark] .colab-df-convert:hover {\n",
              "      background-color: #434B5C;\n",
              "      box-shadow: 0px 1px 3px 1px rgba(0, 0, 0, 0.15);\n",
              "      filter: drop-shadow(0px 1px 2px rgba(0, 0, 0, 0.3));\n",
              "      fill: #FFFFFF;\n",
              "    }\n",
              "  </style>\n",
              "\n",
              "      <script>\n",
              "        const buttonEl =\n",
              "          document.querySelector('#df-48c722ca-ba7a-4119-adb4-6e3d59f8e7af button.colab-df-convert');\n",
              "        buttonEl.style.display =\n",
              "          google.colab.kernel.accessAllowed ? 'block' : 'none';\n",
              "\n",
              "        async function convertToInteractive(key) {\n",
              "          const element = document.querySelector('#df-48c722ca-ba7a-4119-adb4-6e3d59f8e7af');\n",
              "          const dataTable =\n",
              "            await google.colab.kernel.invokeFunction('convertToInteractive',\n",
              "                                                     [key], {});\n",
              "          if (!dataTable) return;\n",
              "\n",
              "          const docLinkHtml = 'Like what you see? Visit the ' +\n",
              "            '<a target=\"_blank\" href=https://colab.research.google.com/notebooks/data_table.ipynb>data table notebook</a>'\n",
              "            + ' to learn more about interactive tables.';\n",
              "          element.innerHTML = '';\n",
              "          dataTable['output_type'] = 'display_data';\n",
              "          await google.colab.output.renderOutput(dataTable, element);\n",
              "          const docLink = document.createElement('div');\n",
              "          docLink.innerHTML = docLinkHtml;\n",
              "          element.appendChild(docLink);\n",
              "        }\n",
              "      </script>\n",
              "    </div>\n",
              "  </div>\n",
              "  "
            ]
          },
          "metadata": {},
          "execution_count": 33
        }
      ]
    },
    {
      "cell_type": "code",
      "source": [
        "img_dir = 'train_images'\n",
        "\n",
        "df['filepaths'] = df['filepaths'].apply(lambda x:os.path.join(img_dir,x))\n",
        "df['labels'] = df['labels'].apply(lambda x:str(x))\n",
        "df.head()"
      ],
      "metadata": {
        "colab": {
          "base_uri": "https://localhost:8080/",
          "height": 206
        },
        "id": "Bw2JGjGhVDwT",
        "outputId": "0e3a3d1a-c353-4023-e7ac-247bcdf5c379"
      },
      "execution_count": 34,
      "outputs": [
        {
          "output_type": "execute_result",
          "data": {
            "text/plain": [
              "                    filepaths labels\n",
              "0  train_images/0002cc93b.jpg      1\n",
              "1  train_images/0007a71bf.jpg      3\n",
              "2  train_images/000a4bcdd.jpg      1\n",
              "3  train_images/000f6bf48.jpg      4\n",
              "4  train_images/0014fce06.jpg      3"
            ],
            "text/html": [
              "\n",
              "  <div id=\"df-d5eb3492-e324-438f-9010-e7d1fde9f64c\">\n",
              "    <div class=\"colab-df-container\">\n",
              "      <div>\n",
              "<style scoped>\n",
              "    .dataframe tbody tr th:only-of-type {\n",
              "        vertical-align: middle;\n",
              "    }\n",
              "\n",
              "    .dataframe tbody tr th {\n",
              "        vertical-align: top;\n",
              "    }\n",
              "\n",
              "    .dataframe thead th {\n",
              "        text-align: right;\n",
              "    }\n",
              "</style>\n",
              "<table border=\"1\" class=\"dataframe\">\n",
              "  <thead>\n",
              "    <tr style=\"text-align: right;\">\n",
              "      <th></th>\n",
              "      <th>filepaths</th>\n",
              "      <th>labels</th>\n",
              "    </tr>\n",
              "  </thead>\n",
              "  <tbody>\n",
              "    <tr>\n",
              "      <th>0</th>\n",
              "      <td>train_images/0002cc93b.jpg</td>\n",
              "      <td>1</td>\n",
              "    </tr>\n",
              "    <tr>\n",
              "      <th>1</th>\n",
              "      <td>train_images/0007a71bf.jpg</td>\n",
              "      <td>3</td>\n",
              "    </tr>\n",
              "    <tr>\n",
              "      <th>2</th>\n",
              "      <td>train_images/000a4bcdd.jpg</td>\n",
              "      <td>1</td>\n",
              "    </tr>\n",
              "    <tr>\n",
              "      <th>3</th>\n",
              "      <td>train_images/000f6bf48.jpg</td>\n",
              "      <td>4</td>\n",
              "    </tr>\n",
              "    <tr>\n",
              "      <th>4</th>\n",
              "      <td>train_images/0014fce06.jpg</td>\n",
              "      <td>3</td>\n",
              "    </tr>\n",
              "  </tbody>\n",
              "</table>\n",
              "</div>\n",
              "      <button class=\"colab-df-convert\" onclick=\"convertToInteractive('df-d5eb3492-e324-438f-9010-e7d1fde9f64c')\"\n",
              "              title=\"Convert this dataframe to an interactive table.\"\n",
              "              style=\"display:none;\">\n",
              "        \n",
              "  <svg xmlns=\"http://www.w3.org/2000/svg\" height=\"24px\"viewBox=\"0 0 24 24\"\n",
              "       width=\"24px\">\n",
              "    <path d=\"M0 0h24v24H0V0z\" fill=\"none\"/>\n",
              "    <path d=\"M18.56 5.44l.94 2.06.94-2.06 2.06-.94-2.06-.94-.94-2.06-.94 2.06-2.06.94zm-11 1L8.5 8.5l.94-2.06 2.06-.94-2.06-.94L8.5 2.5l-.94 2.06-2.06.94zm10 10l.94 2.06.94-2.06 2.06-.94-2.06-.94-.94-2.06-.94 2.06-2.06.94z\"/><path d=\"M17.41 7.96l-1.37-1.37c-.4-.4-.92-.59-1.43-.59-.52 0-1.04.2-1.43.59L10.3 9.45l-7.72 7.72c-.78.78-.78 2.05 0 2.83L4 21.41c.39.39.9.59 1.41.59.51 0 1.02-.2 1.41-.59l7.78-7.78 2.81-2.81c.8-.78.8-2.07 0-2.86zM5.41 20L4 18.59l7.72-7.72 1.47 1.35L5.41 20z\"/>\n",
              "  </svg>\n",
              "      </button>\n",
              "      \n",
              "  <style>\n",
              "    .colab-df-container {\n",
              "      display:flex;\n",
              "      flex-wrap:wrap;\n",
              "      gap: 12px;\n",
              "    }\n",
              "\n",
              "    .colab-df-convert {\n",
              "      background-color: #E8F0FE;\n",
              "      border: none;\n",
              "      border-radius: 50%;\n",
              "      cursor: pointer;\n",
              "      display: none;\n",
              "      fill: #1967D2;\n",
              "      height: 32px;\n",
              "      padding: 0 0 0 0;\n",
              "      width: 32px;\n",
              "    }\n",
              "\n",
              "    .colab-df-convert:hover {\n",
              "      background-color: #E2EBFA;\n",
              "      box-shadow: 0px 1px 2px rgba(60, 64, 67, 0.3), 0px 1px 3px 1px rgba(60, 64, 67, 0.15);\n",
              "      fill: #174EA6;\n",
              "    }\n",
              "\n",
              "    [theme=dark] .colab-df-convert {\n",
              "      background-color: #3B4455;\n",
              "      fill: #D2E3FC;\n",
              "    }\n",
              "\n",
              "    [theme=dark] .colab-df-convert:hover {\n",
              "      background-color: #434B5C;\n",
              "      box-shadow: 0px 1px 3px 1px rgba(0, 0, 0, 0.15);\n",
              "      filter: drop-shadow(0px 1px 2px rgba(0, 0, 0, 0.3));\n",
              "      fill: #FFFFFF;\n",
              "    }\n",
              "  </style>\n",
              "\n",
              "      <script>\n",
              "        const buttonEl =\n",
              "          document.querySelector('#df-d5eb3492-e324-438f-9010-e7d1fde9f64c button.colab-df-convert');\n",
              "        buttonEl.style.display =\n",
              "          google.colab.kernel.accessAllowed ? 'block' : 'none';\n",
              "\n",
              "        async function convertToInteractive(key) {\n",
              "          const element = document.querySelector('#df-d5eb3492-e324-438f-9010-e7d1fde9f64c');\n",
              "          const dataTable =\n",
              "            await google.colab.kernel.invokeFunction('convertToInteractive',\n",
              "                                                     [key], {});\n",
              "          if (!dataTable) return;\n",
              "\n",
              "          const docLinkHtml = 'Like what you see? Visit the ' +\n",
              "            '<a target=\"_blank\" href=https://colab.research.google.com/notebooks/data_table.ipynb>data table notebook</a>'\n",
              "            + ' to learn more about interactive tables.';\n",
              "          element.innerHTML = '';\n",
              "          dataTable['output_type'] = 'display_data';\n",
              "          await google.colab.output.renderOutput(dataTable, element);\n",
              "          const docLink = document.createElement('div');\n",
              "          docLink.innerHTML = docLinkHtml;\n",
              "          element.appendChild(docLink);\n",
              "        }\n",
              "      </script>\n",
              "    </div>\n",
              "  </div>\n",
              "  "
            ]
          },
          "metadata": {},
          "execution_count": 34
        }
      ]
    },
    {
      "cell_type": "markdown",
      "source": [
        "user:a little data analysic "
      ],
      "metadata": {
        "id": "2QXkppfkXN_1"
      }
    },
    {
      "cell_type": "code",
      "source": [
        "labels_len = np.unique(df['labels'])\n",
        "labels_len"
      ],
      "metadata": {
        "colab": {
          "base_uri": "https://localhost:8080/"
        },
        "id": "A3fbTCYFXNSM",
        "outputId": "aef10717-b3ca-4c0a-f251-af446bc81690"
      },
      "execution_count": 35,
      "outputs": [
        {
          "output_type": "execute_result",
          "data": {
            "text/plain": [
              "array(['1', '2', '3', '4'], dtype=object)"
            ]
          },
          "metadata": {},
          "execution_count": 35
        }
      ]
    },
    {
      "cell_type": "code",
      "source": [
        "# type(df['labels'])\n",
        "count = df['labels'].value_counts()\n",
        "print(count)\n",
        "plt.hist(df['labels'])\n",
        "plt.xlabel(\"labels\")\n",
        "plt.ylabel(\"amount\")\n",
        "plt.show()\n",
        "\n"
      ],
      "metadata": {
        "colab": {
          "base_uri": "https://localhost:8080/",
          "height": 368
        },
        "id": "j_6NOKY3Xb7y",
        "outputId": "9266f8e5-f9cb-489d-a30b-acef06e6091c"
      },
      "execution_count": 36,
      "outputs": [
        {
          "output_type": "stream",
          "name": "stdout",
          "text": [
            "3    5150\n",
            "1     897\n",
            "4     801\n",
            "2     247\n",
            "Name: labels, dtype: int64\n"
          ]
        },
        {
          "output_type": "display_data",
          "data": {
            "text/plain": [
              "<Figure size 432x288 with 1 Axes>"
            ],
            "image/png": "[encoded data removed]"
          },
          "metadata": {}
        }
      ]
    },
    {
      "cell_type": "markdown",
      "source": [
        "### split datasets"
      ],
      "metadata": {
        "id": "d2uF0g9IVziO"
      }
    },
    {
      "cell_type": "code",
      "source": [
        "train_df, dummy_df = train_test_split(df, train_size=0.8, shuffle=True, random_state=123, stratify=df['labels'])\n",
        "valid_df, test_df= train_test_split(dummy_df, train_size=.5, shuffle=True, random_state=123, stratify=dummy_df['labels'])\n",
        "print(f\"train_df:{train_df.shape},test_df:{test_df.shape},valid_df:{valid_df.shape}\")\n"
      ],
      "metadata": {
        "colab": {
          "base_uri": "https://localhost:8080/"
        },
        "id": "UucrCI4sVRw-",
        "outputId": "bcf0faa3-ff21-4464-8ba6-43cf4eb1b126"
      },
      "execution_count": 37,
      "outputs": [
        {
          "output_type": "stream",
          "name": "stdout",
          "text": [
            "train_df:(5676, 2),test_df:(710, 2),valid_df:(709, 2)\n"
          ]
        }
      ]
    },
    {
      "cell_type": "markdown",
      "source": [
        "因為df的分佈太大，所以定義一個函數去限制在數據集採樣中，各個類別的數據都存在\n",
        "set max samples=1000. Set min_samples = 197 so all classes are included in the dataset.¶"
      ],
      "metadata": {
        "id": "yGEBUpQ_ZSa2"
      }
    },
    {
      "cell_type": "code",
      "source": [
        "max_samples = 1000\n",
        "min_samples = 247 \n",
        "\n",
        "def trim(df,max_samples,min_samples,column):\n",
        "  df=df.copy()\n",
        "  classes=df[column].unique()\n",
        "  class_count=len(classes)\n",
        "  length=len(df)\n",
        "\n",
        "  print(\"dataframe 初始化长度为\",length,\"with\",class_count,'classes')\n",
        "  groups=df.groupby(column)    \n",
        "  trimmed_df = pd.DataFrame(columns = df.columns)\n",
        "  groups=df.groupby(column)\n",
        "\n",
        "  for label in df[column].unique():\n",
        "    group = groups.get_group(label)\n",
        "    count = len(group)\n",
        "    if count > max_samples:\n",
        "      sampled_group = group.sample(n=max_samples,random_state=123,axis=0)\n",
        "      trimmed_df = pd.concat([trimmed_df,sampled_group],axis=0)\n",
        "    else:\n",
        "      if count >= min_samples:\n",
        "        sampled_group = group \n",
        "        trimmed_df = pd.concat([trimmed_df,sampled_group],axis=0)\n",
        "\n",
        "  print('after trimming, the maximum samples in any class is now ',max_samples, ' and the minimum samples in any class is ', min_samples)\n",
        "  classes = trimmed_df[column].unique()\n",
        "  class_count = len(classes)\n",
        "  length=len(trimmed_df)\n",
        "  print ('the trimmed dataframe now is of length ',length, ' with ', class_count, ' classes')\n",
        "  return trimmed_df, classes, class_count\n",
        "\n",
        "max_samples = 1000\n",
        "min_samples = 197\n",
        "column='labels'\n",
        "train_df,classes,class_count = trim(train_df,max_samples,min_samples,column)"
      ],
      "metadata": {
        "id": "qIM9voQxZiTL",
        "colab": {
          "base_uri": "https://localhost:8080/"
        },
        "outputId": "7904bd50-1d88-44f9-ef55-f47841ff8ff2"
      },
      "execution_count": 38,
      "outputs": [
        {
          "output_type": "stream",
          "name": "stdout",
          "text": [
            "dataframe 初始化长度为 5676 with 4 classes\n",
            "after trimming, the maximum samples in any class is now  1000  and the minimum samples in any class is  197\n",
            "the trimmed dataframe now is of length  2556  with  4  classes\n"
          ]
        }
      ]
    },
    {
      "cell_type": "code",
      "source": [
        "!pwd"
      ],
      "metadata": {
        "colab": {
          "base_uri": "https://localhost:8080/"
        },
        "id": "Xxe5FLeNQY1x",
        "outputId": "4eeb1c65-99f2-4f78-e5f7-7ed3c4d51919"
      },
      "execution_count": 39,
      "outputs": [
        {
          "output_type": "stream",
          "name": "stdout",
          "text": [
            "/content\n"
          ]
        }
      ]
    },
    {
      "cell_type": "markdown",
      "source": [
        "**定義一個函數去平衡labels train_df**\n",
        "现在让我们用增强图像来平衡数据集。下面的平衡函数为每个类创建所需数量的增强图像，并更新df以包括修剪图像和标签以及增强图像\n"
      ],
      "metadata": {
        "id": "8UpTml4VLxzP"
      }
    },
    {
      "cell_type": "code",
      "source": [
        "import albumentations as A\n",
        "\n",
        "def balance(df,n,column,working_dir,img_size):\n",
        "  def get_augmented_image(image):\n",
        "    width = int(image.shape[1]*.8)\n",
        "    height = int(image.shape[0]*0.8)\n",
        "    transform = A.Compose([\n",
        "        A.HorizontalFlip(p=.5),\n",
        "        A.Rotate(limit=30, p=.25),\n",
        "        A.RandomBrightnessContrast(p=.5),\n",
        "        A.RandomGamma(p=.5),\n",
        "        A.RandomCrop(width=width, height=height, p=.25) \n",
        "    ])\n",
        "    return transform(image=image)['image']\n",
        "  def dummy(image):\n",
        "    return image \n",
        "\n",
        "  df = df.copy()\n",
        "  print(\"初始的圖片尺寸\",len(df))\n",
        "  # directory to store augmented images\n",
        "  aug_dir = os.path.join(working_dir,'aug')\n",
        "  if os.path.isdir(aug_dir):\n",
        "    # start with an empty directory\n",
        "    shutil.rmtree(aug_dir)\n",
        "  os.mkdir(aug_dir)\n",
        "  for label in df[column].unique():\n",
        "    dir_path = os.path.join(aug_dir,label)\n",
        "    # make class directory within aug directory \n",
        "    os.mkdir(dir_path)\n",
        "  # create and store the augmented iamges \n",
        "  total = 0 \n",
        "  groups = df.groupby(column)\n",
        "  # for every class\n",
        "  for label in df[column].unique():\n",
        "    # a dataframe holding only rows with the specified label\n",
        "    group = groups.get_group(label)\n",
        "    # detemine how many samples there are in this class \n",
        "    sample_count = len(group)\n",
        "    if sample_count<n:\n",
        "      # if the class has less than target nu,ber of images \n",
        "      aug_img_count = 0 \n",
        "      # number of augmented.images to create \n",
        "      delta = n - sample_count \n",
        "      # define where to write the images \n",
        "      target_dir = os.path.join(aug_dir,label)\n",
        "      desc = f\"augmenting class {label}\"\n",
        "      for i in tqdm(range(delta), ncols=120, unit='files', colour='blue',desc=desc):\n",
        "        j= i % sample_count\n",
        "        img_path=group['filepaths'].iloc[j]\n",
        "        img=cv2.imread(img_path)\n",
        "        img=get_augmented_image(img)\n",
        "        fname=os.path.basename(img_path)\n",
        "        fname='aug' +str(i) +'-' +fname\n",
        "        dest_path=os.path.join(target_dir, fname)                \n",
        "        cv2.imwrite(dest_path, img)\n",
        "        aug_img_count +=1\n",
        "      total +=aug_img_count\n",
        "  print('Total Augmented images created= ', total)\n",
        "  # create aug_df and merge with train_df to create composite training set ndf \n",
        "  aug_fpaths = []\n",
        "  aug_labels = []\n",
        "  classlist = sorted(os.listdir(aug_dir))\n",
        "  for klass in classlist:\n",
        "    classpath = os.path.join(aug_dir,klass)\n",
        "    flist = sorted(os.listdir(classpath))\n",
        "    for f in flist:\n",
        "      fpath = os.path.join(classpath,f)\n",
        "      aug_fpaths.append(fpath)\n",
        "      aug_labels.append(klass)\n",
        "  Fseries = pd.Series(aug_fpaths,name='filepaths')\n",
        "  Lseries = pd.Series(aug_labels,name='labels')\n",
        "  aug_df = pd.concat([Fseries,Lseries],axis=1)\n",
        "  df = pd.concat([df,aug_df],axis=0).reset_index(drop=True)\n",
        "  print('Length of augmented dataframe is now ', len(df))\n",
        "  return df \n",
        "\n",
        "n=1000\n",
        "working_dir=r'working/'\n",
        "img_size = (100,625)\n",
        "column='labels'\n",
        "train_df=balance(train_df, n,column, working_dir, img_size)\n"
      ],
      "metadata": {
        "colab": {
          "base_uri": "https://localhost:8080/"
        },
        "id": "UBGJUltzK4va",
        "outputId": "c97a0b19-bac2-446f-cef5-92eb90dde620"
      },
      "execution_count": 40,
      "outputs": [
        {
          "output_type": "stream",
          "name": "stdout",
          "text": [
            "初始的圖片尺寸 2556\n"
          ]
        },
        {
          "output_type": "stream",
          "name": "stderr",
          "text": [
            "augmenting class 1: 100%|\u001b[34m██████████████████████████████████████████████████████████\u001b[0m| 282/282 [00:05<00:00, 53.02files/s]\u001b[0m\n",
            "augmenting class 4: 100%|\u001b[34m██████████████████████████████████████████████████████████\u001b[0m| 359/359 [00:07<00:00, 50.17files/s]\u001b[0m\n",
            "augmenting class 2: 100%|\u001b[34m██████████████████████████████████████████████████████████\u001b[0m| 803/803 [00:14<00:00, 54.35files/s]\u001b[0m"
          ]
        },
        {
          "output_type": "stream",
          "name": "stdout",
          "text": [
            "Total Augmented images created=  1444\n",
            "Length of augmented dataframe is now  4000\n"
          ]
        },
        {
          "output_type": "stream",
          "name": "stderr",
          "text": [
            "\n"
          ]
        }
      ]
    },
    {
      "cell_type": "code",
      "source": [
        "train_df.value_counts()"
      ],
      "metadata": {
        "id": "jg5m6k_MRs0S",
        "colab": {
          "base_uri": "https://localhost:8080/"
        },
        "outputId": "0777844c-ce8f-4e9c-97f9-3dc0acf79df7"
      },
      "execution_count": 41,
      "outputs": [
        {
          "output_type": "execute_result",
          "data": {
            "text/plain": [
              "filepaths                           labels\n",
              "train_images/0002cc93b.jpg          1         1\n",
              "working/aug/1/aug201-e52f2f2de.jpg  1         1\n",
              "working/aug/1/aug190-21fb2df8d.jpg  1         1\n",
              "working/aug/1/aug191-1f117b19e.jpg  1         1\n",
              "working/aug/1/aug192-7749df027.jpg  1         1\n",
              "                                             ..\n",
              "train_images/880f0b8cc.jpg          3         1\n",
              "train_images/8866a93f6.jpg          4         1\n",
              "train_images/8898932bd.jpg          4         1\n",
              "train_images/88df5f0d8.jpg          3         1\n",
              "working/aug/4/aug99-cb93f342e.jpg   4         1\n",
              "Length: 4000, dtype: int64"
            ]
          },
          "metadata": {},
          "execution_count": 41
        }
      ]
    },
    {
      "cell_type": "markdown",
      "source": [
        "https://www.kaggle.com/code/gpiosenka/steel-defect-classification-f1score-86#Create-a-function-to-show-example-training-images\n",
        "\n",
        "create the train_gen,test_gen ,final_test_gen and valid_gen \n"
      ],
      "metadata": {
        "id": "36WejzUcRzFz"
      }
    },
    {
      "cell_type": "code",
      "source": [
        "def make_gens(batch_size,ycol,train_df,test_df,valid_df,img_size):\n",
        "  trgen = ImageDataGenerator(horizontal_flip=True)\n",
        "  t_and_v_gen = ImageDataGenerator()\n",
        "  msg = '{0:70s} for train generator'.format(\" \")\n",
        "  print(msg,'\\r',end='')\n",
        "  train_gen = trgen.flow_from_dataframe(\n",
        "      train_df,\n",
        "      x_col='filepaths',\n",
        "      y_col = ycol,\n",
        "      target_size = img_size,\n",
        "      class_mode='categorical',\n",
        "      color_mode = 'rgb',\n",
        "      shuffle=True,\n",
        "      batch_size = batch_size)\n",
        "  msg = \"{0:70s} for valid generator\".format(\"\")\n",
        "  print(msg,'\\r',end=\"\")\n",
        "  valid_gen = t_and_v_gen.flow_from_dataframe(\n",
        "      valid_df,\n",
        "      x_col = 'filepaths',\n",
        "      y_col = ycol,\n",
        "      target_size = img_size,\n",
        "      class_mode = 'categorical',\n",
        "      color_mode = 'rgb',\n",
        "      shuffle=True,\n",
        "      batch_size=batch_size,\n",
        "\n",
        "  )\n",
        "  # for test gen we want to calculate the batch size and test steps \n",
        "  # such that h_size Xtest_shapes =number of samples in test set \n",
        "  length = len(test_df)\n",
        "  test_batch_size = sorted([int(length/n)\n",
        "   for n in range(1,length+1) if length %n ==0\n",
        "   and length /n <=80],reverse=True)[0]\n",
        "\n",
        "  test_steps = int(length/test_batch_size)\n",
        "  msg='{0:70s} for test generator'.format(' ')\n",
        "  print(msg, '\\r', end='') \n",
        "  test_gen = t_and_v_gen.flow_from_dataframe(\n",
        "      test_df,\n",
        "      x_col='filepaths',\n",
        "      y_col =ycol,\n",
        "      shuffle=True,\n",
        "      batch_size = test_batch_size\n",
        "  )\n",
        "  classes = list(train_gen.class_indices.keys())\n",
        "  class_indices = list(train_gen.class_indices.values())\n",
        "  class_count = len(classes) \n",
        "  labels = test_gen.labels \n",
        "  print ( 'test batch size: ' ,test_batch_size, '  test steps: ', test_steps, ' number of classes : ', class_count)\n",
        "  return train_gen, test_gen, valid_gen, test_steps\n",
        "\n",
        "\n",
        "bs =30 \n",
        "ycols = 'labels'\n",
        "train_gen,test_gen,valid_gen,test_steps = make_gens(\n",
        "    bs,ycols,train_df,test_df,valid_df,img_size\n",
        ")"
      ],
      "metadata": {
        "id": "0l-YhKhpRqX1",
        "colab": {
          "base_uri": "https://localhost:8080/"
        },
        "outputId": "f1859b86-e4cd-4b61-d877-3ea06e10086c"
      },
      "execution_count": 42,
      "outputs": [
        {
          "output_type": "stream",
          "name": "stdout",
          "text": [
            "                                                                       for train generator \rFound 4000 validated image filenames belonging to 4 classes.\n",
            "                                                                       for valid generator \rFound 709 validated image filenames belonging to 4 classes.\n",
            "                                                                       for test generator \rFound 710 validated image filenames belonging to 4 classes.\n",
            "test batch size:  71   test steps:  10  number of classes :  4\n"
          ]
        }
      ]
    },
    {
      "cell_type": "markdown",
      "source": [
        "create a function to calculate the F1 score metric "
      ],
      "metadata": {
        "id": "4J1lR_KGH-eD"
      }
    },
    {
      "cell_type": "code",
      "source": [
        "def F1_score(y_true,y_pred):\n",
        "  true_positives = K.sum(K.round(K.clip(y_true*y_pred,0,1)))\n",
        "  possible_positives = K.sum(K.round(K.clip(y_true,0,1)))\n",
        "  predicted_positives = K.sum(K.round(K.clip(y_pred,0,1)))\n",
        "  precision = true_positives/(predicted_positives + K.epsilon())\n",
        "  recall = true_positives / (possible_positives+K.epsilon())\n",
        "  f1_val = 2*(precision*recall)/(precision+recall+K.epsilon())\n",
        "  return f1_val"
      ],
      "metadata": {
        "id": "FenIaAcNHtAn"
      },
      "execution_count": 43,
      "outputs": []
    },
    {
      "cell_type": "markdown",
      "source": [
        "create a model using transfer learning with EffientNet\n",
        "> NOTE:experts advise you make the base model intitally not trainable when you do transfer learning.Then train for some number of epochs then fine tune model by making base model trainable and run more epochs,i have found this to be wrong\n",
        "> making the base model trainable from the outset leads to faster convergence and a lower validation loss for the same number of total epochs .insure you initialize the transfer model with imagenet weights"
      ],
      "metadata": {
        "id": "oXyFSy6AL2Ge"
      }
    },
    {
      "cell_type": "code",
      "source": [
        "def print_in_color(txt_msg,fore_tupple=(0,255,255),back_tupple=(100,100,100)):\n",
        "    #prints the text_msg in the foreground color specified by fore_tupple with the background specified by back_tupple \n",
        "    #text_msg is the text, fore_tupple is foregroud color tupple (r,g,b), back_tupple is background tupple (r,g,b)\n",
        "    # default parameter print in cyan foreground and gray background\n",
        "    rf,gf,bf=fore_tupple\n",
        "    rb,gb,bb=back_tupple\n",
        "    msg='{0}' + txt_msg\n",
        "    mat='\\33[38;2;' + str(rf) +';' + str(gf) + ';' + str(bf) + ';48;2;' + str(rb) + ';' +str(gb) + ';' + str(bb) +'m' \n",
        "    print(msg .format(mat), flush=True)\n",
        "    print('\\33[0m', flush=True) # returns default print color to back to black\n",
        "    return"
      ],
      "metadata": {
        "id": "zAaJoCgDUbwg"
      },
      "execution_count": 44,
      "outputs": []
    },
    {
      "cell_type": "code",
      "source": [
        "def make_model(img_size,lr,mod_num=3):\n",
        "  img_shape = (img_size[0],img_size [1],3)\n",
        "  if mod_num ==0:\n",
        "    base_model =tf.keras.applications.efficientnet.EfficientNetB0(\n",
        "         include_top=False,\n",
        "         weights = 'imagenet',\n",
        "         input_shape = img_shape,\n",
        "         pooling='max' )\n",
        "    msg = 'Created EfficientNetB0 model'\n",
        "  elif mod_num==3:\n",
        "    base_model = tf.keras.applications.efficientnet.EfficientNetB3(\n",
        "        include_top=False,\n",
        "        weights = 'imagenet',\n",
        "        input_shape=img_shape,\n",
        "        pooling='max'\n",
        "    )\n",
        "    msg = 'Created EfficientNetB3 model'\n",
        "  elif mod_num ==5:\n",
        "    base_model = tf.keras.applications.efficientnet.EfficientNetB5(\n",
        "        include_top=False,\n",
        "        weights = 'imagenet',\n",
        "        input_shape=img_shape,\n",
        "        pooling='max'\n",
        "    )\n",
        "    msg = 'Created EfficientNetB5 model'\n",
        "  else:\n",
        "    base_model = tf.keras.applications.efficientnet.EfficientNetB7(\n",
        "        include_top=False,\n",
        "        weights = 'imagenet',\n",
        "        input_shape=img_shape,\n",
        "        pooling='max'\n",
        "    )\n",
        "    msg = 'Created EfficientNetB7 model'\n",
        "  \n",
        "  base_model.trainable=False \n",
        "  x = base_model.output \n",
        "  x = BatchNormalization(axis=-1,momentum=0.99,epsilon=0.001)(x)\n",
        "  x = Dense(\n",
        "      256,\n",
        "      kernel_regularizer=regularizers.l2(l=0.016),\n",
        "      activity_regularizer = regularizers.l1(0.006),\n",
        "      bias_regularizer = regularizers.l1(0.004),\n",
        "      activation='relu')(x)\n",
        "  x = Dropout(rate=0.4,seed=123)(x)\n",
        "  output = Dense(class_count,activation='softmax')(x)\n",
        "  model = Model(inputs = base_model.input,outputs=output)\n",
        "\n",
        "  model.compile(Adamax(learning_rate=lr), loss='categorical_crossentropy', metrics=['accuracy', F1_score, 'AUC']) \n",
        "  msg=msg + f' with initial learning rate set to {lr}'\n",
        "  print_in_color(msg)\n",
        "  \n",
        "  return model\n",
        "lr = 0.001 \n",
        "model = make_model(img_size,lr)"
      ],
      "metadata": {
        "colab": {
          "base_uri": "https://localhost:8080/"
        },
        "id": "3t1rifppIyjo",
        "outputId": "5dd212e6-faa9-44bf-f6aa-281ec3caec86"
      },
      "execution_count": 45,
      "outputs": [
        {
          "output_type": "stream",
          "name": "stdout",
          "text": [
            "\u001b[38;2;0;255;255;48;2;100;100;100mCreated EfficientNetB3 model with initial learning rate set to 0.001\n",
            "\u001b[0m\n"
          ]
        }
      ]
    },
    {
      "cell_type": "markdown",
      "source": [
        "create a custom Keras callback to continue and optionally set LR or halt training "
      ],
      "metadata": {
        "id": "6yeA2AY_Og1d"
      }
    },
    {
      "cell_type": "code",
      "source": [
        "# class LR_ASK(keras.callbacks.Callback):\n",
        "#   def __init__(self,model,epochs,ask_epoch,dwell=True,factor=0.4):\n",
        "#     super(LR_ASK,self).__init__()\n",
        "#     self.model = model \n",
        "#     self.ask_epoch = ask_epoch \n",
        "#     self.epochs = epochs \n",
        "#     self.ask=True \n",
        "#     self.lowest_vloss = np.inf \n",
        "#     self.lowest_aloss = np.inf \n",
        "\n",
        "#     self.best_weights = self.model.get_weights()\n",
        "\n",
        "#     self.best_epoch = 1 \n",
        "#     self.plist=[]\n",
        "#     self.alist=[]\n",
        "#     self.dwell = dwell \n",
        "#     self.factor = factor \n",
        "#   def get_list(self):\n",
        "#     return self.plist,self.alist \n",
        "  \n",
        "#   def on_train_begin(self,logs=None):\n",
        "#     if self.ask_epoch == 0:\n",
        "#       print('you set ask_epoch = 0, ask_epoch will be set to 1', flush=True)\n",
        "#       self.ask_epoch=1\n",
        "#     if self.ask_epoch >= self.epochs: # you are running for epochs but ask_epoch>epochs\n",
        "#       print('ask_epoch >= epochs, will train for ', epochs, ' epochs', flush=True)\n",
        "#       self.ask=False # do not query the user\n",
        "#     if self.epochs == 1:\n",
        "#       self.ask=False # running only for 1 epoch so do not query user\n",
        "#     else:\n",
        "#       msg =f'Training will proceed until epoch {ask_epoch} then you will be asked to' \n",
        "#       print_in_color(msg)\n",
        "#       msg = 'Enter H to halt training or enter an integer for how many more epochs then be asked again'\n",
        "#       print_in_color(msg)\n",
        "#       if self.dwell:\n",
        "#         msg='learning rate will be automatically adjusted during training'\n",
        "#         print_in_color(msg)\n",
        "#     self.start_time = time.time()\n",
        "\n",
        "#   def on_train_end(self,logs=None):\n",
        "#     msg = f\"loading model with weights from epoch{self.best_epoch}\"\n",
        "#     print_in_color(msg)\n",
        "#     self.model.set_weights (self.best_weights)\n",
        "#     tr_duration = time.time() - self.start.time()\n",
        "#     hours = tr_duration //3600\n",
        "#     minutes = (tr_duration - (hours * 3600)) // 60\n",
        "#     seconds = tr_duration - ((hours * 3600) + (minutes * 60))\n",
        "#     msg = f'training elapsed time was {str(hours)} hours, {minutes:4.1f} minutes, {seconds:4.2f} seconds)'\n",
        "#     print_in_color(msg)\n",
        "\n",
        "#   def on_epoch_end(self,epoch,logs=None):\n",
        "#     vloss = logs.get('val_loss')\n",
        "#     aloss = logs.get('loss')\n",
        "#     if epoch>0:\n",
        "#       deltav = self.lowest_vloss - vloss \n",
        "#       pimprov = (deltav /self.lowest_vloss)*100\n",
        "#       self.plist.append(pimprov)\n",
        "#       deltaa=self.lowest_aloss-aloss\n",
        "#       aimprov=(deltaa/self.lowest_aloss) * 100\n",
        "#       self.alist.append(aimprov)\n",
        "#     else:\n",
        "#       pimprov = 0.0 \n",
        "#       aimprov = 0.0 \n",
        "#     if vloss < self.lowest_vloss:\n",
        "#       self.lowest_vloss = vloss \n",
        "#       self.best_weights = self.model.get_weights()\n",
        "#       self.best_epoch = epoch +1 \n",
        "#       msg=f'\\n validation loss of {vloss:7.4f} is {pimprov:7.4f} % below lowest loss, saving weights from epoch {str(epoch + 1):3s} as best weights'\n",
        "#       print_in_color(msg)\n",
        "\n",
        "#     else:\n",
        "#       pimprov = abs(pimprov)\n",
        "#       msg = f'\\n validation loss of {vloss:7.4f} is {pimprov:7.4f} % above lowest loss of {self.lowest_vloss:7.4f} keeping weights from epoch {str(self.best_epoch)} as best weights'\n",
        "#       print_in_color(msg)\n",
        "#       if self.dwell:\n",
        "#         # if dwell is True when the validatin loss increases the learning \n",
        "#         # rate is automatically reduced and model weights are set to best weights \n",
        "#         lr = float(tf.keras.backend.get_value(self.model.optimizer.lr))# get the current learning rate \n",
        "#         new_lr = lr * self.factor\n",
        "#         msg=f'learning rate was automatically adjusted from {lr:8.6f} to {new_lr:8.6f}, model weights set to best weights'\n",
        "#         print_in_color(msg)\n",
        "#         tf.keras.backend.set_value(self.model.optimzer.lr,new_lr)\n",
        "#         self.model.set_weights(self.best_weights)\n",
        "\n",
        "#     if aloss<self.lowest_aloss:\n",
        "#       self.lowest_aloss = aloss \n",
        "#     if self.ask:\n",
        "#       if epoch +1 ==self.ask_epoch:\n",
        "#         msg = 'press enter to continue or enter a commnet below'\n",
        "#         print_in_color(msg)\n",
        "#         comment = input(\" \")\n",
        "#         if comment !='':\n",
        "#           comment = 'User comment:'+comment\n",
        "#         msg='\\n Enter H to end training or  an integer for the number of additional epochs to run then ask again'\n",
        "#         print_in_color(msg) # cyan foreground\n",
        "#         ans=input()\n",
        "#         if ans =='H' or ans =='h'or ans =='0':\n",
        "#           msg = f'you enter {ans},training halted on epoch{epoch}+1 due to user input'\n",
        "#           print_in_color(msg)\n",
        "#           self.model.stop_training = True \n",
        "#         else:\n",
        "#           self.ask_epoch+= int(ans)\n",
        "#           if self.ask_epoch > self.epochs:\n",
        "#             print('\\nYou specified maximum epochs of as ', self.epochs, ' cannot train for ', self.ask_epoch, flush =True)\n",
        "#           else:\n",
        "#             msg = f'you entered {ans} training will continue to epoch{self.ask_epoch}'\n",
        "#             print_in_color(msg)\n",
        "#             if self.dwell== False:\n",
        "#               lr = float(tf.keras.backend.get_value(self.model.optimizer.lr))\n",
        "#               msg=f'current LR is  {lr:8.6f}  hit enter to keep  this LR or enter a new LR'\n",
        "#               print_in_color(msg) # cyan foreground\n",
        "#               ans=input(' ') \n",
        "#               if ans =='':\n",
        "#                 msg = f'keeping current lr of {lr:7.5f}'\n",
        "#                 print_in_color(msg)\n",
        "#               else:\n",
        "#                 new_lr = float(ans)\n",
        "#                 tf.keras.backend.set_value(self.model.optimizer.lr,new_lr)\n",
        "#                 msg = f'changing lr to {ans}'\n",
        "#                 print_in_color(msg)\n",
        "class LR_ASK(keras.callbacks.Callback):\n",
        "    def __init__ (self, model, epochs,  ask_epoch, dwell=True, factor=.4): # initialization of the callback\n",
        "        super(LR_ASK, self).__init__()\n",
        "        self.model=model               \n",
        "        self.ask_epoch=ask_epoch\n",
        "        self.epochs=epochs\n",
        "        self.ask=True # if True query the user on a specified epoch\n",
        "        self.lowest_vloss=np.inf\n",
        "        self.lowest_aloss=np.inf\n",
        "        self.best_weights=self.model.get_weights() # set best weights to model's initial weights\n",
        "        self.best_epoch=1\n",
        "        self.plist=[]\n",
        "        self.alist=[]\n",
        "        self.dwell= dwell\n",
        "        self.factor=factor\n",
        "        \n",
        "    def get_list(self): # define a function to return the list of % validation change\n",
        "        return self.plist, self.alist\n",
        "    def on_train_begin(self, logs=None): # this runs on the beginning of training\n",
        "        if self.ask_epoch == 0: \n",
        "            print('you set ask_epoch = 0, ask_epoch will be set to 1', flush=True)\n",
        "            self.ask_epoch=1\n",
        "        if self.ask_epoch >= self.epochs: # you are running for epochs but ask_epoch>epochs\n",
        "            print('ask_epoch >= epochs, will train for ', epochs, ' epochs', flush=True)\n",
        "            self.ask=False # do not query the user\n",
        "        if self.epochs == 1:\n",
        "            self.ask=False # running only for 1 epoch so do not query user\n",
        "        else:\n",
        "            msg =f'Training will proceed until epoch {ask_epoch} then you will be asked to' \n",
        "            print_in_color(msg )\n",
        "            msg='enter H to halt training or enter an integer for how many more epochs to run then be asked again'\n",
        "            print_in_color(msg)\n",
        "            if self.dwell:\n",
        "                msg='learning rate will be automatically adjusted during training'\n",
        "                print_in_color(msg, (0,255,0))\n",
        "        self.start_time= time.time() # set the time at which training started\n",
        "       \n",
        "    def on_train_end(self, logs=None):   # runs at the end of training  \n",
        "        msg=f'loading model with weights from epoch {self.best_epoch}'\n",
        "        print_in_color(msg, (0,255,255))\n",
        "        self.model.set_weights(self.best_weights) # set the weights of the model to the best weights\n",
        "        tr_duration=time.time() - self.start_time   # determine how long the training cycle lasted         \n",
        "        hours = tr_duration // 3600\n",
        "        minutes = (tr_duration - (hours * 3600)) // 60\n",
        "        seconds = tr_duration - ((hours * 3600) + (minutes * 60))\n",
        "        msg = f'training elapsed time was {str(hours)} hours, {minutes:4.1f} minutes, {seconds:4.2f} seconds)'\n",
        "        print_in_color (msg) # print out training duration time\n",
        "        \n",
        "    def on_epoch_end(self, epoch, logs=None):  # method runs on the end of each epoch\n",
        "        vloss=logs.get('val_loss')  # get the validation loss for this epoch\n",
        "        aloss=logs.get('loss')\n",
        "        if epoch >0:\n",
        "            deltav = self.lowest_vloss- vloss \n",
        "            pimprov=(deltav/self.lowest_vloss) * 100 \n",
        "            self.plist.append(pimprov)\n",
        "            deltaa=self.lowest_aloss-aloss\n",
        "            aimprov=(deltaa/self.lowest_aloss) * 100\n",
        "            self.alist.append(aimprov)\n",
        "        else:\n",
        "            pimprov=0.0 \n",
        "            aimprov=0.0\n",
        "        if vloss< self.lowest_vloss:\n",
        "            self.lowest_vloss=vloss\n",
        "            self.best_weights=self.model.get_weights() # set best weights to model's initial weights\n",
        "            self.best_epoch=epoch + 1            \n",
        "            msg=f'\\n validation loss of {vloss:7.4f} is {pimprov:7.4f} % below lowest loss, saving weights from epoch {str(epoch + 1):3s} as best weights'\n",
        "            print_in_color(msg, (0,255,0)) # green foreground\n",
        "        else: # validation loss increased\n",
        "            pimprov=abs(pimprov)\n",
        "            msg=f'\\n validation loss of {vloss:7.4f} is {pimprov:7.4f} % above lowest loss of {self.lowest_vloss:7.4f} keeping weights from epoch {str(self.best_epoch)} as best weights'\n",
        "            print_in_color(msg, (255,255,0)) # yellow foreground\n",
        "            if self.dwell: # if dwell is True when the validation loss increases the learning rate is automatically reduced and model weights are set to best weights\n",
        "                lr=float(tf.keras.backend.get_value(self.model.optimizer.lr)) # get the current learning rate\n",
        "                new_lr=lr * self.factor\n",
        "                msg=f'learning rate was automatically adjusted from {lr:8.6f} to {new_lr:8.6f}, model weights set to best weights'\n",
        "                print_in_color(msg) # cyan foreground\n",
        "                tf.keras.backend.set_value(self.model.optimizer.lr, new_lr) # set the learning rate in the optimizer\n",
        "                self.model.set_weights(self.best_weights) # set the weights of the model to the best weights      \n",
        "                \n",
        "        if aloss< self.lowest_aloss:\n",
        "            self.lowest_aloss=aloss        \n",
        "        if self.ask: # are the conditions right to query the user?\n",
        "            if epoch + 1 ==self.ask_epoch: # is this epoch the one for quering the user?\n",
        "                msg='press enter to continue or enter a comment  below '\n",
        "                print_in_color(msg)\n",
        "                comment=input(' ')\n",
        "                if comment !='':\n",
        "                    comment = 'User comment: ' + comment\n",
        "                    print_in_color(comment, (155,245,66))\n",
        "                msg='\\n Enter H to end training or  an integer for the number of additional epochs to run then ask again'\n",
        "                print_in_color(msg) # cyan foreground\n",
        "                ans=input()\n",
        "                \n",
        "                if ans == 'H' or ans =='h' or ans == '0': # quit training for these conditions\n",
        "                    msg=f'you entered {ans},  Training halted on epoch {epoch+1} due to user input\\n'\n",
        "                    print_in_color(msg)\n",
        "                    self.model.stop_training = True # halt training\n",
        "                else: # user wants to continue training\n",
        "                    self.ask_epoch += int(ans)\n",
        "                    if self.ask_epoch > self.epochs:\n",
        "                        print('\\nYou specified maximum epochs of as ', self.epochs, ' cannot train for ', self.ask_epoch, flush =True)\n",
        "                    else:\n",
        "                        msg=f'you entered {ans} Training will continue to epoch {self.ask_epoch}'\n",
        "                        print_in_color(msg) # cyan foreground\n",
        "                        if self.dwell==False:\n",
        "                            lr=float(tf.keras.backend.get_value(self.model.optimizer.lr)) # get the current learning rate\n",
        "                            msg=f'current LR is  {lr:8.6f}  hit enter to keep  this LR or enter a new LR'\n",
        "                            print_in_color(msg) # cyan foreground\n",
        "                            ans=input(' ')\n",
        "                            if ans =='':\n",
        "                                msg=f'keeping current LR of {lr:7.5f}'\n",
        "                                print_in_color(msg) # cyan foreground\n",
        "                            else:\n",
        "                                new_lr=float(ans)\n",
        "                                tf.keras.backend.set_value(self.model.optimizer.lr, new_lr) # set the learning rate in the optimizer\n",
        "                                msg=f' changing LR to {ans}'\n",
        "                                print_in_color(msg) # cyan foreground\n",
        "\n"
      ],
      "metadata": {
        "id": "cuk1ywFVOoxw"
      },
      "execution_count": 46,
      "outputs": []
    },
    {
      "cell_type": "markdown",
      "source": [
        "instantiate custom callback"
      ],
      "metadata": {
        "id": "r_EFXWGuTwLn"
      }
    },
    {
      "cell_type": "code",
      "source": [
        "epochs = 50\n",
        "ask_epoch = 5 \n",
        "ask = LR_ASK(model,epochs,ask_epoch)\n",
        "callbacks =[ask]\n"
      ],
      "metadata": {
        "id": "yBDS7fOOTzfi"
      },
      "execution_count": 47,
      "outputs": []
    },
    {
      "cell_type": "markdown",
      "source": [
        "## train the model\n",
        "Note unlike how you are told it is BETTER to make the base model trainable from the outset if you are doing transfer learning. The model will converge faster and have a lower validation losss. Ensure you initialize the transfer model with imagenet weights. I have done a lot of testing running both ways hand have always found this to be true¶\n"
      ],
      "metadata": {
        "id": "rPOQkj_FUh_v"
      }
    },
    {
      "cell_type": "code",
      "source": [
        " history=model.fit(x=train_gen,   epochs=epochs, verbose=1, callbacks=callbacks,  validation_data=valid_gen,\n",
        "               validation_steps=None,  shuffle=False,  initial_epoch=0)"
      ],
      "metadata": {
        "colab": {
          "base_uri": "https://localhost:8080/"
        },
        "id": "4Esk3Q53UkFB",
        "outputId": "d7925a80-2579-4da8-e604-dff70a5656d3"
      },
      "execution_count": 48,
      "outputs": [
        {
          "output_type": "stream",
          "name": "stdout",
          "text": [
            "\u001b[38;2;0;255;255;48;2;100;100;100mTraining will proceed until epoch 5 then you will be asked to\n",
            "\u001b[0m\n",
            "\u001b[38;2;0;255;255;48;2;100;100;100menter H to halt training or enter an integer for how many more epochs to run then be asked again\n",
            "\u001b[0m\n",
            "\u001b[38;2;0;255;0;48;2;100;100;100mlearning rate will be automatically adjusted during training\n",
            "\u001b[0m\n",
            "Epoch 1/50\n",
            "134/134 [==============================] - ETA: 0s - loss: 7.2972 - accuracy: 0.7315 - F1_score: 0.7224 - auc: 0.9085\u001b[38;2;0;255;0;48;2;100;100;100m\n",
            " validation loss of  6.2010 is  0.0000 % below lowest loss, saving weights from epoch 1   as best weights\n",
            "\u001b[0m\n",
            "134/134 [==============================] - 914s 7s/step - loss: 7.2972 - accuracy: 0.7315 - F1_score: 0.7224 - auc: 0.9085 - val_loss: 6.2010 - val_accuracy: 0.7574 - val_F1_score: 0.7480 - val_auc: 0.9266\n",
            "Epoch 2/50\n",
            "134/134 [==============================] - ETA: 0s - loss: 5.1723 - accuracy: 0.7993 - F1_score: 0.8002 - auc: 0.9487\u001b[38;2;0;255;0;48;2;100;100;100m\n",
            " validation loss of  4.5283 is 26.9755 % below lowest loss, saving weights from epoch 2   as best weights\n",
            "\u001b[0m\n",
            "134/134 [==============================] - 747s 6s/step - loss: 5.1723 - accuracy: 0.7993 - F1_score: 0.8002 - auc: 0.9487 - val_loss: 4.5283 - val_accuracy: 0.7913 - val_F1_score: 0.7856 - val_auc: 0.9296\n",
            "Epoch 3/50\n",
            "134/134 [==============================] - ETA: 0s - loss: 3.8508 - accuracy: 0.8307 - F1_score: 0.8245 - auc: 0.9610\u001b[38;2;0;255;0;48;2;100;100;100m\n",
            " validation loss of  3.3829 is 25.2927 % below lowest loss, saving weights from epoch 3   as best weights\n",
            "\u001b[0m\n",
            "134/134 [==============================] - 741s 6s/step - loss: 3.8508 - accuracy: 0.8307 - F1_score: 0.8245 - auc: 0.9610 - val_loss: 3.3829 - val_accuracy: 0.8138 - val_F1_score: 0.7940 - val_auc: 0.9483\n",
            "Epoch 4/50\n",
            "134/134 [==============================] - ETA: 0s - loss: 2.9381 - accuracy: 0.8432 - F1_score: 0.8348 - auc: 0.9641\u001b[38;2;0;255;0;48;2;100;100;100m\n",
            " validation loss of  2.6987 is 20.2273 % below lowest loss, saving weights from epoch 4   as best weights\n",
            "\u001b[0m\n",
            "134/134 [==============================] - 738s 6s/step - loss: 2.9381 - accuracy: 0.8432 - F1_score: 0.8348 - auc: 0.9641 - val_loss: 2.6987 - val_accuracy: 0.7898 - val_F1_score: 0.7787 - val_auc: 0.9352\n",
            "Epoch 5/50\n",
            "134/134 [==============================] - ETA: 0s - loss: 2.2900 - accuracy: 0.8568 - F1_score: 0.8435 - auc: 0.9677\u001b[38;2;0;255;0;48;2;100;100;100m\n",
            " validation loss of  2.1838 is 19.0781 % below lowest loss, saving weights from epoch 5   as best weights\n",
            "\u001b[0m\n",
            "\u001b[38;2;0;255;255;48;2;100;100;100mpress enter to continue or enter a comment  below \n",
            "\u001b[0m\n",
            " h\n",
            "\u001b[38;2;155;245;66;48;2;100;100;100mUser comment: h\n",
            "\u001b[38;2;155;245;66;48;2;100;100;100mUser comment: h\n",
            "\u001b[0m\n",
            "\u001b[0m\n",
            "\u001b[38;2;0;255;255;48;2;100;100;100m\n",
            " Enter H to end training or  an integer for the number of additional epochs to run then ask again\n",
            "\u001b[38;2;0;255;255;48;2;100;100;100m\n",
            " Enter H to end training or  an integer for the number of additional epochs to run then ask again\n",
            "\u001b[0m\n",
            "\u001b[0m\n",
            " h\n",
            "\u001b[38;2;0;255;255;48;2;100;100;100myou entered h,  Training halted on epoch 5 due to user input\n",
            "\n",
            "\u001b[38;2;0;255;255;48;2;100;100;100myou entered h,  Training halted on epoch 5 due to user input\n",
            "\n",
            "\u001b[0m\n",
            "\u001b[0m\n",
            "134/134 [==============================] - 1583s 12s/step - loss: 2.2900 - accuracy: 0.8568 - F1_score: 0.8435 - auc: 0.9677 - val_loss: 2.1838 - val_accuracy: 0.7969 - val_F1_score: 0.7801 - val_auc: 0.9342\n",
            "134/134 [==============================] - 1583s 12s/step - loss: 2.2900 - accuracy: 0.8568 - F1_score: 0.8435 - auc: 0.9677 - val_loss: 2.1838 - val_accuracy: 0.7969 - val_F1_score: 0.7801 - val_auc: 0.9342\n",
            "\u001b[38;2;0;255;255;48;2;100;100;100mloading model with weights from epoch 5\n",
            "\u001b[38;2;0;255;255;48;2;100;100;100mloading model with weights from epoch 5\n",
            "\u001b[0m\n",
            "\u001b[0m\n",
            "\u001b[38;2;0;255;255;48;2;100;100;100mtraining elapsed time was 1.0 hours, 18.0 minutes, 44.17 seconds)\n",
            "\u001b[38;2;0;255;255;48;2;100;100;100mtraining elapsed time was 1.0 hours, 18.0 minutes, 44.17 seconds)\n",
            "\u001b[0m\n",
            "\u001b[0m\n"
          ]
        }
      ]
    },
    {
      "cell_type": "markdown",
      "source": [
        "## define a function to plot the training data "
      ],
      "metadata": {
        "id": "CuDam7c9VE5A"
      }
    },
    {
      "cell_type": "code",
      "source": [
        "def tr_plot(tr_data):\n",
        "  start_epoch = 0 \n",
        "  # plot the training and validation data \n",
        "  tacc = tr_data.history['accuracy']\n",
        "  tloss = tr_data.history['loss']\n",
        "  vacc = tr_data.history['val_accuracy']\n",
        "  vloss = tr_data.history['val_loss']\n",
        "\n",
        "  tf1 = tr_data.history['F1_score']\n",
        "  vf1 =tr_data.history['val_F1_score']\n",
        "  tauc = tr_data.history['auc']\n",
        "  vauc = tr_data.history['val_auc']\n",
        "  epoch_count = len(tacc)+start_epoch \n",
        "  epochs = []\n",
        "  for i in range(start_epoch,epoch_count):\n",
        "    epochs.append(i+1)\n",
        "  index_loss = np.argmin(vloss)\n",
        "  # val_lowest = vloss[index_loss]\n",
        "  # index_acc = np.argmax(vacc)\n",
        "  # acc_highest = vacc[index_acc]\n",
        "  # auc_index = np.argmax(vauc)\n",
        "  val_lowest=vloss[index_loss]\n",
        "  index_acc=np.argmax(vacc)\n",
        "  acc_highest=vacc[index_acc]\n",
        "  auc_index=np.argmax(vauc)\n",
        "  val_highest_auc=vauc[auc_index]\n",
        "\n",
        "  plt.style.use('fivethirtyeight')\n",
        "  sc_label = 'best epoch = '+str(index_loss+1+start_epoch)\n",
        "  vc_label = 'best epoch = '+str(index_acc+1+start_epoch)\n",
        "  auc_label = 'best epoch = '+str(acc_highest+1+start_epoch)\n",
        "  fig,axes=plt.subplots(nrows=1, ncols=4, figsize=(25,10))\n",
        "  axes[0].plot(epochs,tloss, 'r', label='Training loss')\n",
        "  axes[0].plot(epochs,vloss,'g',label='Validation loss' )\n",
        "  axes[0].scatter(index_loss+1 +start_epoch,val_lowest, s=150, c= 'blue', label=sc_label)\n",
        "  axes[0].scatter(epochs, tloss, s=100, c='red')    \n",
        "  axes[0].set_title('Training and Validation Loss')\n",
        "  axes[0].set_xlabel('epochs', fontsize=18)\n",
        "  axes[0].set_ylabel('Loss', fontsize=18)\n",
        "  axes[0].legend()\n",
        "  axes[1].plot (epochs,tacc,'r',label= 'Training Accuracy')\n",
        "  axes[1].scatter(epochs, tacc, s=100, c='red')\n",
        "  axes[1].plot (epochs,vacc,'g',label= 'Validation Accuracy')\n",
        "  axes[1].scatter(index_acc+1 +start_epoch,acc_highest, s=150, c= 'blue', label=vc_label)\n",
        "  axes[1].set_title('Training and Validation Accuracy')\n",
        "  axes[1].set_xlabel('Epochs', fontsize=18)\n",
        "  axes[1].set_ylabel('Accuracy', fontsize=18)\n",
        "  axes[1].legend()\n",
        "  axes[2].plot (epochs,tf1,'r',label= 'Training F1 score')    \n",
        "  axes[2].plot (epochs,vf1,'g',label= 'Validation F1 score')\n",
        "  index_tf1 = np.argmax(tf1)\n",
        "  tf1max = tf1[index_tf1]\n",
        "  index_vf1 = np.argmax(vf1)\n",
        "  vf1max = vf1[index_vf1]\n",
        "  axes[2].scatter(index_vf1+1 +start_epoch,vf1max, s=150, c= 'blue', label=vc_label)    \n",
        "  axes[2].scatter(epochs, tf1, s=100, c='red')\n",
        "  axes[2].set_title('Training and Validation F1 score')\n",
        "  axes[2].set_xlabel('Epochs', fontsize=18)\n",
        "  axes[2].set_ylabel('F1  score', fontsize=18)\n",
        "  axes[2].legend()\n",
        "  axes[3].plot(epochs,tauc, 'r', label='Training AUC')\n",
        "  axes[3].plot(epochs,vauc,'g',label='Validation AUC' )\n",
        "  axes[3].scatter(auc_index+1 +start_epoch,val_highest_auc, s=150, c= 'blue', label=sc_label)\n",
        "  axes[3].scatter(epochs, tauc, s=100, c='red')    \n",
        "  axes[3].set_title('Training and Validation AUC')\n",
        "  axes[3].set_xlabel('Epochs', fontsize=18)\n",
        "  axes[3].set_ylabel('AUC', fontsize=18)\n",
        "  axes[3].legend()\n",
        "  plt.tight_layout    \n",
        "  plt.show()\n",
        "  return \n",
        "tr_plot(history)"
      ],
      "metadata": {
        "colab": {
          "base_uri": "https://localhost:8080/",
          "height": 324
        },
        "id": "mDDjCJhlU33m",
        "outputId": "5f1ebb1f-0f3f-4bf6-9a39-e3e6bc8b7bd0"
      },
      "execution_count": 57,
      "outputs": [
        {
          "output_type": "display_data",
          "data": {
            "text/plain": [
              "<Figure size 1800x720 with 4 Axes>"
            ],
            "image/png": "[encoded data removed]"
          },
          "metadata": {}
        }
      ]
    },
    {
      "cell_type": "markdown",
      "source": [
        "define a function to save training data to a csv file "
      ],
      "metadata": {
        "id": "TeC2nUOpeugf"
      }
    },
    {
      "cell_type": "code",
      "source": [
        "def save_history_to_csv(history,working_dir):\n",
        "  csvpath = os.path.join(working_dir,'history.csv')\n",
        "  trdict = history.history \n",
        "  keys = list(trdict.keys())\n",
        "  df = pd.DataFrame()\n",
        "  for key in keys:\n",
        "    data = list(trdict[key])\n",
        "    df[key] = data \n",
        "  df.to_csv(csvpath,index=False)\n",
        "  msg = f'training data has been saved to {csvpath}'\n",
        "  print_in_color(msg)\n",
        "   \n",
        "save_history_to_csv(history,working_dir)"
      ],
      "metadata": {
        "colab": {
          "base_uri": "https://localhost:8080/"
        },
        "id": "CrPTuag0exZU",
        "outputId": "03d33ea4-06d2-4f16-f17e-814651ffe62b"
      },
      "execution_count": 58,
      "outputs": [
        {
          "output_type": "stream",
          "name": "stdout",
          "text": [
            "\u001b[38;2;0;255;255;48;2;100;100;100mtraining data has been saved to working/history.csv\n",
            "\u001b[0m\n"
          ]
        }
      ]
    },
    {
      "cell_type": "markdown",
      "source": [
        "make predictions on the test set "
      ],
      "metadata": {
        "id": "aAHOHZ-mfOuC"
      }
    },
    {
      "cell_type": "code",
      "source": [
        "def predictor(test_gen):\n",
        "  y_pred = []\n",
        "  error_list = []\n",
        "  error_pred_list =[]\n",
        "  y_true = test_gen.labels \n",
        "  classes = list(test_gen.class_indices.keys())\n",
        "  class_count = len(classes)\n",
        "  errors = 0 \n",
        "  preds = model.predict(test_gen,verbose=1)\n",
        "  tests = len(preds)\n",
        "  for i,p in enumerate(preds):\n",
        "    pred_index = np.argmax(p)\n",
        "    true_index = test_gen.labels[i]\n",
        "    if pred_index != true_index:\n",
        "      errors = errors +1 \n",
        "      file = test_gen.filenames[i]\n",
        "      error_list.append(file)\n",
        "      error_class = classes[pred_index]\n",
        "      error_pred_list.append(error_class)\n",
        "    y_pred.append(pred_index)\n",
        "  acc = (1-errors/tests)*100\n",
        "  msg=f'there were {errors} errors in {tests} tests for an accuracy of {acc:6.2f}'\n",
        "  print_in_color(msg, (0,255,255), (100,100,100)) # cyan foreground\n",
        "  ypred = np.array(y_pred)\n",
        "  ytrue = np.array(y_true)\n",
        "  f1score = f1_score(y_true,ypred,average='weighted')*100 \n",
        "  if class_count <=30:\n",
        "    cm = confusion_matrix(y_true,ypred)\n",
        "    plt.figure(figsize=(12,8))\n",
        "    sns.heatmap(cm,annot=True,vmin=0,fmt='g',cmap='Blues',cbar=False)\n",
        "    plt.xticks(np.arange(class_count)+.5, classes, rotation=90)\n",
        "    plt.yticks(np.arange(class_count)+.5, classes, rotation=0)\n",
        "    plt.xlabel(\"Predicted\")\n",
        "    plt.ylabel(\"Actual\")\n",
        "    plt.title(\"Confusion Matrix\")\n",
        "    plt.show()\n",
        "  clr = classification_report(y_true,y_pred,target_names =classes,digits=4)\n",
        "  print(\"Classification Report:\\n----------------------\\n\", clr)\n",
        "  return errors, tests, error_list, error_pred_list, f1score\n",
        "\n",
        "errors, tests, error_list, error_pred_list, f1score =predictor(test_gen)"
      ],
      "metadata": {
        "colab": {
          "base_uri": "https://localhost:8080/",
          "height": 807
        },
        "id": "ZRQjZFUufOWY",
        "outputId": "51afa353-46f6-4996-e960-d479af76f7e7"
      },
      "execution_count": 60,
      "outputs": [
        {
          "output_type": "stream",
          "name": "stdout",
          "text": [
            "10/10 [==============================] - 107s 11s/step\n",
            "\u001b[38;2;0;255;255;48;2;100;100;100mthere were 465 errors in 710 tests for an accuracy of  34.51\n",
            "\u001b[0m\n"
          ]
        },
        {
          "output_type": "display_data",
          "data": {
            "text/plain": [
              "<Figure size 864x576 with 1 Axes>"
            ],
            "image/png": "[encoded data removed]"
          },
          "metadata": {}
        },
        {
          "output_type": "stream",
          "name": "stdout",
          "text": [
            "Classification Report:\n",
            "----------------------\n",
            "               precision    recall  f1-score   support\n",
            "\n",
            "           1     0.1298    0.3000    0.1812        90\n",
            "           2     0.0169    0.1200    0.0296        25\n",
            "           3     0.7379    0.4155    0.5317       515\n",
            "           4     0.0294    0.0125    0.0175        80\n",
            "\n",
            "    accuracy                         0.3451       710\n",
            "   macro avg     0.2285    0.2120    0.1900       710\n",
            "weighted avg     0.5556    0.3451    0.4116       710\n",
            "\n"
          ]
        }
      ]
    },
    {
      "cell_type": "markdown",
      "source": [
        "save the model "
      ],
      "metadata": {
        "id": "liLP8T9rxv3t"
      }
    },
    {
      "cell_type": "code",
      "source": [
        "def save_model(subject,classes,img_size,f1score,working_dir):\n",
        "  name=subject + '-' + str(len(classes)) + '-(' + str(img_size[0]) + ' X ' + str(img_size[1]) + ')'\n",
        "  save_id=f'{name}-{f1score:5.2f}.h5'\n",
        "  model_save_loc=os.path.join(working_dir, save_id)\n",
        "  model.save(model_save_loc)\n",
        "  msg= f'model was saved as {model_save_loc}'\n",
        "  print_in_color(msg, (0,255,255), (100,100,100)) # cyan foreground\n",
        "  "
      ],
      "metadata": {
        "id": "1naux-Q9xjHn"
      },
      "execution_count": 61,
      "outputs": []
    },
    {
      "cell_type": "code",
      "source": [
        "subejct = 'steel defects'\n",
        "save_model(subejct,classes,img_size,f1score,working_dir)"
      ],
      "metadata": {
        "colab": {
          "base_uri": "https://localhost:8080/"
        },
        "id": "0wqNnlkdyBLs",
        "outputId": "f3b8e3d5-41ed-4560-9d6b-c4cf43c80180"
      },
      "execution_count": 62,
      "outputs": [
        {
          "output_type": "stream",
          "name": "stdout",
          "text": [
            "\u001b[38;2;0;255;255;48;2;100;100;100mmodel was saved as working/steel defects-4-(100 X 625)-41.16.h5\n",
            "\u001b[0m\n"
          ]
        }
      ]
    },
    {
      "cell_type": "markdown",
      "source": [
        "make a dataframe of the test images and make a test generator"
      ],
      "metadata": {
        "id": "1lk18nJ_ye-5"
      }
    },
    {
      "cell_type": "code",
      "source": [
        "def make_test_gen(testdir,img_size):\n",
        "  flist=sorted(os.listdir(testdir))\n",
        "  filepaths=[]\n",
        "  for f in tqdm(flist, ncols=120, colour='blue', unit='files'):\n",
        "    fpath=os.path.join(testdir,f)\n",
        "    filepaths.append(fpath)\n",
        "  Fseries=pd.Series(filepaths, name='filepaths')\n",
        "  df=pd.concat([Fseries], axis=1)    \n",
        "  gen=ImageDataGenerator()\n",
        "  test_gen=gen.flow_from_dataframe(df, x_col='filepaths', y_col=None, class_mode=None, target_size=img_size, shuffle=False)\n",
        "  return test_gen\n",
        "\n",
        "testdir = 'test_images'\n",
        "test_gen= make_test_gen(testdir, img_size)\n",
        "    "
      ],
      "metadata": {
        "colab": {
          "base_uri": "https://localhost:8080/"
        },
        "id": "Q6GP1YUQyjJL",
        "outputId": "1616d819-3327-46e5-eeb7-b6186e24d68c"
      },
      "execution_count": 65,
      "outputs": [
        {
          "output_type": "stream",
          "name": "stderr",
          "text": [
            "100%|\u001b[34m████████████████████████████████████████████████████████████████████████\u001b[0m| 5506/5506 [00:00<00:00, 425050.39files/s]\u001b[0m"
          ]
        },
        {
          "output_type": "stream",
          "name": "stdout",
          "text": [
            "Found 5506 validated image filenames.\n"
          ]
        },
        {
          "output_type": "stream",
          "name": "stderr",
          "text": [
            "\n"
          ]
        }
      ]
    },
    {
      "cell_type": "markdown",
      "source": [
        "make predictions on test set and generate submission.csv file"
      ],
      "metadata": {
        "id": "Dn2Ynd1mz-8C"
      }
    },
    {
      "cell_type": "code",
      "source": [
        "preds = model.predict(test_gen,verbose=1)\n",
        "print(preds.shape)"
      ],
      "metadata": {
        "colab": {
          "base_uri": "https://localhost:8080/"
        },
        "id": "BYZqykHKzmSA",
        "outputId": "b1638a28-c16c-4278-92cd-d72c356769bf"
      },
      "execution_count": 66,
      "outputs": [
        {
          "output_type": "stream",
          "name": "stdout",
          "text": [
            "173/173 [==============================] - 876s 5s/step\n",
            "(5506, 4)\n"
          ]
        }
      ]
    },
    {
      "cell_type": "code",
      "source": [
        "files = []\n",
        "dummy = []\n",
        "klasses = []\n",
        "for i,p in enumerate(preds):\n",
        "  index = np.argmax(p)\n",
        "  klass = int(classes[index])\n",
        "  klasses.append(klass)\n",
        "  file = os.path.basename(test_gen.filenames[i])\n",
        "  files.append(file)\n",
        "  dummy.append('1 409600')\n",
        "Fseries=pd.Series(files, name='ImageId')\n",
        "Dseries=pd.Series(dummy, name='EncodedPix')\n",
        "Lseries=pd.Series(klasses, name='ClassId')\n",
        "submission_df=pd.concat([Fseries, Dseries, Lseries], axis=1)\n",
        "csvpath= os.path.join(working_dir, 'submission.csv')\n",
        "submission_df.to_csv(csvpath, index=False)\n",
        "df=pd.read_csv(csvpath)\n",
        "print (df.head())\n"
      ],
      "metadata": {
        "colab": {
          "base_uri": "https://localhost:8080/"
        },
        "id": "Ux0wEfFg0HYa",
        "outputId": "04d32fd0-d3d4-4bfd-9bc5-bd118aaf70b1"
      },
      "execution_count": 67,
      "outputs": [
        {
          "output_type": "stream",
          "name": "stdout",
          "text": [
            "         ImageId EncodedPix  ClassId\n",
            "0  0000f269f.jpg   1 409600        1\n",
            "1  000ccc2ac.jpg   1 409600        1\n",
            "2  002451917.jpg   1 409600        4\n",
            "3  003c5da97.jpg   1 409600        4\n",
            "4  0042e163f.jpg   1 409600        4\n"
          ]
        }
      ]
    },
    {
      "cell_type": "markdown",
      "source": [
        "# learning second\n",
        "https://www.kaggle.com/code/myroofs/severstal-steel-defect-detection-with-xception"
      ],
      "metadata": {
        "id": "KjK2YPm71C49"
      }
    }
  ]
}