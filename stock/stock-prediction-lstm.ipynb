{
 "cells": [
  {
   "cell_type": "code",
   "execution_count": 1,
   "id": "224e2b3d",
   "metadata": {
    "_cell_guid": "b1076dfc-b9ad-4769-8c92-a6c4dae69d19",
    "_uuid": "8f2839f25d086af736a60e9eeb907d3b93b6e0e5",
    "execution": {
     "iopub.execute_input": "2022-12-09T03:34:33.177786Z",
     "iopub.status.busy": "2022-12-09T03:34:33.177276Z",
     "iopub.status.idle": "2022-12-09T03:34:33.196619Z",
     "shell.execute_reply": "2022-12-09T03:34:33.195632Z"
    },
    "papermill": {
     "duration": 0.032039,
     "end_time": "2022-12-09T03:34:33.199407",
     "exception": false,
     "start_time": "2022-12-09T03:34:33.167368",
     "status": "completed"
    },
    "tags": []
   },
   "outputs": [
    {
     "name": "stdout",
     "output_type": "stream",
     "text": [
      "/kaggle/input/stock-prediction-dataset-adp/ADP-Data.csv\n"
     ]
    }
   ],
   "source": [
    "# This Python 3 environment comes with many helpful analytics libraries installed\n",
    "# It is defined by the kaggle/python Docker image: https://github.com/kaggle/docker-python\n",
    "# For example, here's several helpful packages to load\n",
    "\n",
    "import numpy as np # linear algebra\n",
    "import pandas as pd # data processing, CSV file I/O (e.g. pd.read_csv)\n",
    "\n",
    "# Input data files are available in the read-only \"../input/\" directory\n",
    "# For example, running this (by clicking run or pressing Shift+Enter) will list all files under the input directory\n",
    "\n",
    "import os\n",
    "for dirname, _, filenames in os.walk('/kaggle/input'):\n",
    "    for filename in filenames:\n",
    "        print(os.path.join(dirname, filename))\n",
    "\n",
    "# You can write up to 20GB to the current directory (/kaggle/working/) that gets preserved as output when you create a version using \"Save & Run All\" \n",
    "# You can also write temporary files to /kaggle/temp/, but they won't be saved outside of the current session"
   ]
  },
  {
   "cell_type": "markdown",
   "id": "5d4e8b60",
   "metadata": {
    "papermill": {
     "duration": 0.006888,
     "end_time": "2022-12-09T03:34:33.213331",
     "exception": false,
     "start_time": "2022-12-09T03:34:33.206443",
     "status": "completed"
    },
    "tags": []
   },
   "source": [
    "# load the dataset"
   ]
  },
  {
   "cell_type": "code",
   "execution_count": 2,
   "id": "980b983c",
   "metadata": {
    "execution": {
     "iopub.execute_input": "2022-12-09T03:34:33.228574Z",
     "iopub.status.busy": "2022-12-09T03:34:33.228189Z",
     "iopub.status.idle": "2022-12-09T03:34:33.326408Z",
     "shell.execute_reply": "2022-12-09T03:34:33.325315Z"
    },
    "papermill": {
     "duration": 0.109376,
     "end_time": "2022-12-09T03:34:33.329454",
     "exception": false,
     "start_time": "2022-12-09T03:34:33.220078",
     "status": "completed"
    },
    "tags": []
   },
   "outputs": [
    {
     "data": {
      "text/html": [
       "<div>\n",
       "<style scoped>\n",
       "    .dataframe tbody tr th:only-of-type {\n",
       "        vertical-align: middle;\n",
       "    }\n",
       "\n",
       "    .dataframe tbody tr th {\n",
       "        vertical-align: top;\n",
       "    }\n",
       "\n",
       "    .dataframe thead th {\n",
       "        text-align: right;\n",
       "    }\n",
       "</style>\n",
       "<table border=\"1\" class=\"dataframe\">\n",
       "  <thead>\n",
       "    <tr style=\"text-align: right;\">\n",
       "      <th></th>\n",
       "      <th>Date</th>\n",
       "      <th>High</th>\n",
       "      <th>Low</th>\n",
       "      <th>Open</th>\n",
       "      <th>Close</th>\n",
       "      <th>Volume</th>\n",
       "      <th>Adj Close</th>\n",
       "    </tr>\n",
       "  </thead>\n",
       "  <tbody>\n",
       "    <tr>\n",
       "      <th>0</th>\n",
       "      <td>1980-03-17</td>\n",
       "      <td>0.927141</td>\n",
       "      <td>0.908554</td>\n",
       "      <td>0.0</td>\n",
       "      <td>0.917847</td>\n",
       "      <td>1158040.1</td>\n",
       "      <td>0.520855</td>\n",
       "    </tr>\n",
       "    <tr>\n",
       "      <th>1</th>\n",
       "      <td>1980-03-18</td>\n",
       "      <td>0.930239</td>\n",
       "      <td>0.914749</td>\n",
       "      <td>0.0</td>\n",
       "      <td>0.927141</td>\n",
       "      <td>1622063.1</td>\n",
       "      <td>0.525637</td>\n",
       "    </tr>\n",
       "    <tr>\n",
       "      <th>2</th>\n",
       "      <td>1980-03-19</td>\n",
       "      <td>0.942631</td>\n",
       "      <td>0.927141</td>\n",
       "      <td>0.0</td>\n",
       "      <td>0.942631</td>\n",
       "      <td>1367859.1</td>\n",
       "      <td>0.533608</td>\n",
       "    </tr>\n",
       "    <tr>\n",
       "      <th>3</th>\n",
       "      <td>1980-03-20</td>\n",
       "      <td>0.961218</td>\n",
       "      <td>0.939533</td>\n",
       "      <td>0.0</td>\n",
       "      <td>0.939533</td>\n",
       "      <td>3046412.1</td>\n",
       "      <td>0.532014</td>\n",
       "    </tr>\n",
       "    <tr>\n",
       "      <th>4</th>\n",
       "      <td>1980-03-21</td>\n",
       "      <td>0.948826</td>\n",
       "      <td>0.936435</td>\n",
       "      <td>0.0</td>\n",
       "      <td>0.936435</td>\n",
       "      <td>1020851.1</td>\n",
       "      <td>0.530420</td>\n",
       "    </tr>\n",
       "    <tr>\n",
       "      <th>5</th>\n",
       "      <td>1980-03-24</td>\n",
       "      <td>0.942631</td>\n",
       "      <td>0.930239</td>\n",
       "      <td>0.0</td>\n",
       "      <td>0.930239</td>\n",
       "      <td>778752.1</td>\n",
       "      <td>0.527231</td>\n",
       "    </tr>\n",
       "    <tr>\n",
       "      <th>6</th>\n",
       "      <td>1980-03-25</td>\n",
       "      <td>0.942631</td>\n",
       "      <td>0.927141</td>\n",
       "      <td>0.0</td>\n",
       "      <td>0.930239</td>\n",
       "      <td>944186.1</td>\n",
       "      <td>0.527231</td>\n",
       "    </tr>\n",
       "    <tr>\n",
       "      <th>7</th>\n",
       "      <td>1980-03-26</td>\n",
       "      <td>0.942631</td>\n",
       "      <td>0.927141</td>\n",
       "      <td>0.0</td>\n",
       "      <td>0.942631</td>\n",
       "      <td>2332220.1</td>\n",
       "      <td>0.533608</td>\n",
       "    </tr>\n",
       "    <tr>\n",
       "      <th>8</th>\n",
       "      <td>1980-03-27</td>\n",
       "      <td>0.930239</td>\n",
       "      <td>0.911652</td>\n",
       "      <td>0.0</td>\n",
       "      <td>0.911652</td>\n",
       "      <td>770682.1</td>\n",
       "      <td>0.517667</td>\n",
       "    </tr>\n",
       "    <tr>\n",
       "      <th>9</th>\n",
       "      <td>1980-03-28</td>\n",
       "      <td>0.942631</td>\n",
       "      <td>0.930239</td>\n",
       "      <td>0.0</td>\n",
       "      <td>0.936435</td>\n",
       "      <td>459988.1</td>\n",
       "      <td>0.530420</td>\n",
       "    </tr>\n",
       "  </tbody>\n",
       "</table>\n",
       "</div>"
      ],
      "text/plain": [
       "         Date      High       Low  Open     Close     Volume  Adj Close\n",
       "0  1980-03-17  0.927141  0.908554   0.0  0.917847  1158040.1   0.520855\n",
       "1  1980-03-18  0.930239  0.914749   0.0  0.927141  1622063.1   0.525637\n",
       "2  1980-03-19  0.942631  0.927141   0.0  0.942631  1367859.1   0.533608\n",
       "3  1980-03-20  0.961218  0.939533   0.0  0.939533  3046412.1   0.532014\n",
       "4  1980-03-21  0.948826  0.936435   0.0  0.936435  1020851.1   0.530420\n",
       "5  1980-03-24  0.942631  0.930239   0.0  0.930239   778752.1   0.527231\n",
       "6  1980-03-25  0.942631  0.927141   0.0  0.930239   944186.1   0.527231\n",
       "7  1980-03-26  0.942631  0.927141   0.0  0.942631  2332220.1   0.533608\n",
       "8  1980-03-27  0.930239  0.911652   0.0  0.911652   770682.1   0.517667\n",
       "9  1980-03-28  0.942631  0.930239   0.0  0.936435   459988.1   0.530420"
      ]
     },
     "execution_count": 2,
     "metadata": {},
     "output_type": "execute_result"
    }
   ],
   "source": [
    "data_dir = '/kaggle/input/stock-prediction-dataset-adp/ADP-Data.csv'\n",
    "# to ingnore the first col use [index_col=0]\n",
    "data = pd.read_csv(data_dir,index_col=0)\n",
    "data[:10]"
   ]
  },
  {
   "cell_type": "markdown",
   "id": "d8e1df9f",
   "metadata": {
    "papermill": {
     "duration": 0.00723,
     "end_time": "2022-12-09T03:34:33.343881",
     "exception": false,
     "start_time": "2022-12-09T03:34:33.336651",
     "status": "completed"
    },
    "tags": []
   },
   "source": [
    "# a little data analysis "
   ]
  },
  {
   "cell_type": "code",
   "execution_count": 3,
   "id": "a35fbfce",
   "metadata": {
    "execution": {
     "iopub.execute_input": "2022-12-09T03:34:33.365568Z",
     "iopub.status.busy": "2022-12-09T03:34:33.364795Z",
     "iopub.status.idle": "2022-12-09T03:34:33.375143Z",
     "shell.execute_reply": "2022-12-09T03:34:33.374234Z"
    },
    "papermill": {
     "duration": 0.024331,
     "end_time": "2022-12-09T03:34:33.377836",
     "exception": false,
     "start_time": "2022-12-09T03:34:33.353505",
     "status": "completed"
    },
    "tags": []
   },
   "outputs": [
    {
     "data": {
      "text/plain": [
       "Date         0\n",
       "High         0\n",
       "Low          0\n",
       "Open         0\n",
       "Close        0\n",
       "Volume       0\n",
       "Adj Close    0\n",
       "dtype: int64"
      ]
     },
     "execution_count": 3,
     "metadata": {},
     "output_type": "execute_result"
    }
   ],
   "source": [
    "# check if it is null data \n",
    "data.isnull().sum()"
   ]
  },
  {
   "cell_type": "markdown",
   "id": "b9b66990",
   "metadata": {
    "papermill": {
     "duration": 0.007418,
     "end_time": "2022-12-09T03:34:33.393068",
     "exception": false,
     "start_time": "2022-12-09T03:34:33.385650",
     "status": "completed"
    },
    "tags": []
   },
   "source": [
    "## plotting high and low \n"
   ]
  },
  {
   "cell_type": "code",
   "execution_count": 4,
   "id": "673251ec",
   "metadata": {
    "execution": {
     "iopub.execute_input": "2022-12-09T03:34:33.411467Z",
     "iopub.status.busy": "2022-12-09T03:34:33.411018Z",
     "iopub.status.idle": "2022-12-09T03:34:33.418437Z",
     "shell.execute_reply": "2022-12-09T03:34:33.417082Z"
    },
    "papermill": {
     "duration": 0.019134,
     "end_time": "2022-12-09T03:34:33.420811",
     "exception": false,
     "start_time": "2022-12-09T03:34:33.401677",
     "status": "completed"
    },
    "tags": []
   },
   "outputs": [],
   "source": [
    "import matplotlib.pyplot as plt \n",
    "high = data['High']\n",
    "low = data['Low']"
   ]
  },
  {
   "cell_type": "markdown",
   "id": "e51425b2",
   "metadata": {
    "papermill": {
     "duration": 0.006591,
     "end_time": "2022-12-09T03:34:33.435996",
     "exception": false,
     "start_time": "2022-12-09T03:34:33.429405",
     "status": "completed"
    },
    "tags": []
   },
   "source": [
    "### convert 'Date' col from object to date"
   ]
  },
  {
   "cell_type": "code",
   "execution_count": 5,
   "id": "299f5807",
   "metadata": {
    "execution": {
     "iopub.execute_input": "2022-12-09T03:34:33.452188Z",
     "iopub.status.busy": "2022-12-09T03:34:33.451744Z",
     "iopub.status.idle": "2022-12-09T03:34:33.461156Z",
     "shell.execute_reply": "2022-12-09T03:34:33.459879Z"
    },
    "papermill": {
     "duration": 0.02049,
     "end_time": "2022-12-09T03:34:33.463430",
     "exception": false,
     "start_time": "2022-12-09T03:34:33.442940",
     "status": "completed"
    },
    "tags": []
   },
   "outputs": [
    {
     "data": {
      "text/plain": [
       "0"
      ]
     },
     "execution_count": 5,
     "metadata": {},
     "output_type": "execute_result"
    }
   ],
   "source": [
    "time = data['Date']\n",
    "time.duplicated().sum()\n",
    "# time[:5]\n"
   ]
  },
  {
   "cell_type": "code",
   "execution_count": 6,
   "id": "338b0e13",
   "metadata": {
    "execution": {
     "iopub.execute_input": "2022-12-09T03:34:33.482795Z",
     "iopub.status.busy": "2022-12-09T03:34:33.481603Z",
     "iopub.status.idle": "2022-12-09T03:34:33.490856Z",
     "shell.execute_reply": "2022-12-09T03:34:33.489975Z"
    },
    "papermill": {
     "duration": 0.020896,
     "end_time": "2022-12-09T03:34:33.493214",
     "exception": false,
     "start_time": "2022-12-09T03:34:33.472318",
     "status": "completed"
    },
    "tags": []
   },
   "outputs": [
    {
     "data": {
      "text/plain": [
       "0    1980-03-17\n",
       "1    1980-03-18\n",
       "2    1980-03-19\n",
       "3    1980-03-20\n",
       "4    1980-03-21\n",
       "Name: Date, dtype: object"
      ]
     },
     "execution_count": 6,
     "metadata": {},
     "output_type": "execute_result"
    }
   ],
   "source": [
    "time[:5]"
   ]
  },
  {
   "cell_type": "code",
   "execution_count": 7,
   "id": "dce39eb5",
   "metadata": {
    "execution": {
     "iopub.execute_input": "2022-12-09T03:34:33.511978Z",
     "iopub.status.busy": "2022-12-09T03:34:33.510827Z",
     "iopub.status.idle": "2022-12-09T03:34:33.524523Z",
     "shell.execute_reply": "2022-12-09T03:34:33.523472Z"
    },
    "papermill": {
     "duration": 0.026367,
     "end_time": "2022-12-09T03:34:33.527350",
     "exception": false,
     "start_time": "2022-12-09T03:34:33.500983",
     "status": "completed"
    },
    "tags": []
   },
   "outputs": [
    {
     "data": {
      "text/plain": [
       "0   1980-03-17\n",
       "1   1980-03-18\n",
       "2   1980-03-19\n",
       "3   1980-03-20\n",
       "4   1980-03-21\n",
       "Name: Date, dtype: datetime64[ns]"
      ]
     },
     "execution_count": 7,
     "metadata": {},
     "output_type": "execute_result"
    }
   ],
   "source": [
    "time = pd.to_datetime(time)\n",
    "time[:5]"
   ]
  },
  {
   "cell_type": "code",
   "execution_count": 8,
   "id": "8ce70c98",
   "metadata": {
    "execution": {
     "iopub.execute_input": "2022-12-09T03:34:33.545213Z",
     "iopub.status.busy": "2022-12-09T03:34:33.544344Z",
     "iopub.status.idle": "2022-12-09T03:34:33.937760Z",
     "shell.execute_reply": "2022-12-09T03:34:33.936389Z"
    },
    "papermill": {
     "duration": 0.405339,
     "end_time": "2022-12-09T03:34:33.940351",
     "exception": false,
     "start_time": "2022-12-09T03:34:33.535012",
     "status": "completed"
    },
    "tags": []
   },
   "outputs": [
    {
     "data": {
      "image/png": "[encoded data removed]",
      "text/plain": [
       "<Figure size 1440x504 with 1 Axes>"
      ]
     },
     "metadata": {
      "needs_background": "light"
     },
     "output_type": "display_data"
    }
   ],
   "source": [
    "plt.figure(figsize = (20,7))\n",
    "plt.plot(time,high,color='blue',label='high')\n",
    "plt.plot(time,low,color='red',label='low')\n",
    "plt.title('High&Low comparetion ')\n",
    "plt.xlabel('time')\n",
    "plt.ylabel('price')\n",
    "plt.legend(title='')\n",
    "plt.show()"
   ]
  },
  {
   "cell_type": "markdown",
   "id": "9418a783",
   "metadata": {
    "papermill": {
     "duration": 0.007932,
     "end_time": "2022-12-09T03:34:33.956610",
     "exception": false,
     "start_time": "2022-12-09T03:34:33.948678",
     "status": "completed"
    },
    "tags": []
   },
   "source": [
    "###  same as open and close "
   ]
  },
  {
   "cell_type": "code",
   "execution_count": 9,
   "id": "1db5ebb8",
   "metadata": {
    "execution": {
     "iopub.execute_input": "2022-12-09T03:34:33.974616Z",
     "iopub.status.busy": "2022-12-09T03:34:33.974146Z",
     "iopub.status.idle": "2022-12-09T03:34:34.308985Z",
     "shell.execute_reply": "2022-12-09T03:34:34.307937Z"
    },
    "papermill": {
     "duration": 0.347078,
     "end_time": "2022-12-09T03:34:34.311746",
     "exception": false,
     "start_time": "2022-12-09T03:34:33.964668",
     "status": "completed"
    },
    "tags": []
   },
   "outputs": [
    {
     "data": {
      "image/png": "[encoded data removed]",
      "text/plain": [
       "<Figure size 1440x504 with 1 Axes>"
      ]
     },
     "metadata": {
      "needs_background": "light"
     },
     "output_type": "display_data"
    }
   ],
   "source": [
    "open_data = data['Open']\n",
    "close_data = data['Close']\n",
    "plt.figure(figsize = (20,7))\n",
    "plt.plot(time,open_data,color='blue',label='open')\n",
    "plt.plot(time,close_data,color='red',label='close')\n",
    "plt.title('Open&Closecomparetion ')\n",
    "plt.xlabel('time')\n",
    "plt.ylabel('price')\n",
    "plt.legend(title='')\n",
    "plt.show()"
   ]
  },
  {
   "cell_type": "code",
   "execution_count": 10,
   "id": "2ad4e6c5",
   "metadata": {
    "execution": {
     "iopub.execute_input": "2022-12-09T03:34:34.331319Z",
     "iopub.status.busy": "2022-12-09T03:34:34.330918Z",
     "iopub.status.idle": "2022-12-09T03:34:34.709531Z",
     "shell.execute_reply": "2022-12-09T03:34:34.708260Z"
    },
    "papermill": {
     "duration": 0.391388,
     "end_time": "2022-12-09T03:34:34.712008",
     "exception": false,
     "start_time": "2022-12-09T03:34:34.320620",
     "status": "completed"
    },
    "tags": []
   },
   "outputs": [
    {
     "data": {
      "image/png": "[encoded data removed]",
      "text/plain": [
       "<Figure size 1440x504 with 1 Axes>"
      ]
     },
     "metadata": {
      "needs_background": "light"
     },
     "output_type": "display_data"
    }
   ],
   "source": [
    "plt.figure(figsize = (20,7))\n",
    "plt.plot(time,high,color='blue',label='high')\n",
    "plt.plot(time,low,color='red',label='low')\n",
    "plt.plot(time,open_data,color='green',label='open')\n",
    "plt.plot(time,close_data,color='yellow',label='close')\n",
    "plt.title('High&Low &Open&Close')\n",
    "plt.xlabel('time')\n",
    "plt.ylabel('price')\n",
    "plt.legend(title='')\n",
    "plt.show()"
   ]
  },
  {
   "cell_type": "markdown",
   "id": "28b7e9f9",
   "metadata": {
    "papermill": {
     "duration": 0.0093,
     "end_time": "2022-12-09T03:34:34.731239",
     "exception": false,
     "start_time": "2022-12-09T03:34:34.721939",
     "status": "completed"
    },
    "tags": []
   },
   "source": [
    "# predict close through lstm"
   ]
  },
  {
   "cell_type": "markdown",
   "id": "5632f729",
   "metadata": {
    "papermill": {
     "duration": 0.009902,
     "end_time": "2022-12-09T03:34:34.750890",
     "exception": false,
     "start_time": "2022-12-09T03:34:34.740988",
     "status": "completed"
    },
    "tags": []
   },
   "source": [
    "## set up datasets\n"
   ]
  },
  {
   "cell_type": "code",
   "execution_count": 11,
   "id": "06a059b3",
   "metadata": {
    "execution": {
     "iopub.execute_input": "2022-12-09T03:34:34.771844Z",
     "iopub.status.busy": "2022-12-09T03:34:34.771431Z",
     "iopub.status.idle": "2022-12-09T03:34:35.821036Z",
     "shell.execute_reply": "2022-12-09T03:34:35.819568Z"
    },
    "papermill": {
     "duration": 1.063443,
     "end_time": "2022-12-09T03:34:35.823985",
     "exception": false,
     "start_time": "2022-12-09T03:34:34.760542",
     "status": "completed"
    },
    "tags": []
   },
   "outputs": [],
   "source": [
    "import math\n",
    "from sklearn.preprocessing import MinMaxScaler\n",
    "time = data['Date']\n",
    "close = data['Close']\n",
    "# Regularization close\n",
    "scaler = MinMaxScaler(feature_range=(0,1))\n",
    "scaler_data = scaler.fit_transform(close.values.reshape(-1,1))"
   ]
  },
  {
   "cell_type": "code",
   "execution_count": 12,
   "id": "8cf3c82f",
   "metadata": {
    "execution": {
     "iopub.execute_input": "2022-12-09T03:34:35.845238Z",
     "iopub.status.busy": "2022-12-09T03:34:35.844439Z",
     "iopub.status.idle": "2022-12-09T03:34:35.852280Z",
     "shell.execute_reply": "2022-12-09T03:34:35.851084Z"
    },
    "papermill": {
     "duration": 0.020949,
     "end_time": "2022-12-09T03:34:35.854636",
     "exception": false,
     "start_time": "2022-12-09T03:34:35.833687",
     "status": "completed"
    },
    "tags": []
   },
   "outputs": [
    {
     "data": {
      "text/plain": [
       "array([[2.38152002e-05],\n",
       "       [5.95436144e-05],\n",
       "       [1.19091124e-04],\n",
       "       [1.07181576e-04],\n",
       "       [9.52722578e-05],\n",
       "       [7.14531622e-05],\n",
       "       [7.14531622e-05],\n",
       "       [1.19091124e-04],\n",
       "       [0.00000000e+00],\n",
       "       [9.52722578e-05]])"
      ]
     },
     "execution_count": 12,
     "metadata": {},
     "output_type": "execute_result"
    }
   ],
   "source": [
    "scaler_data[:10]"
   ]
  },
  {
   "cell_type": "code",
   "execution_count": 13,
   "id": "c677d552",
   "metadata": {
    "execution": {
     "iopub.execute_input": "2022-12-09T03:34:35.875762Z",
     "iopub.status.busy": "2022-12-09T03:34:35.875362Z",
     "iopub.status.idle": "2022-12-09T03:34:35.938536Z",
     "shell.execute_reply": "2022-12-09T03:34:35.937266Z"
    },
    "papermill": {
     "duration": 0.076652,
     "end_time": "2022-12-09T03:34:35.941013",
     "exception": false,
     "start_time": "2022-12-09T03:34:35.864361",
     "status": "completed"
    },
    "tags": []
   },
   "outputs": [
    {
     "name": "stdout",
     "output_type": "stream",
     "text": [
      "10752 8601 2151\n"
     ]
    }
   ],
   "source": [
    "from sklearn.model_selection import train_test_split\n",
    "train_data,test_data = train_test_split(scaler_data,test_size=0.2)\n",
    "print(len(scaler_data),len(train_data),len(test_data))"
   ]
  },
  {
   "cell_type": "markdown",
   "id": "6e660215",
   "metadata": {
    "papermill": {
     "duration": 0.009344,
     "end_time": "2022-12-09T03:34:35.960768",
     "exception": false,
     "start_time": "2022-12-09T03:34:35.951424",
     "status": "completed"
    },
    "tags": []
   },
   "source": [
    " Create a 360-days window of historical prices (i-360) as our feature data (x_train) and the following 360-days window as label data (y_train)."
   ]
  },
  {
   "cell_type": "code",
   "execution_count": 14,
   "id": "f9cadd85",
   "metadata": {
    "execution": {
     "iopub.execute_input": "2022-12-09T03:34:35.982156Z",
     "iopub.status.busy": "2022-12-09T03:34:35.981405Z",
     "iopub.status.idle": "2022-12-09T03:34:35.995033Z",
     "shell.execute_reply": "2022-12-09T03:34:35.994113Z"
    },
    "papermill": {
     "duration": 0.027004,
     "end_time": "2022-12-09T03:34:35.997518",
     "exception": false,
     "start_time": "2022-12-09T03:34:35.970514",
     "status": "completed"
    },
    "tags": []
   },
   "outputs": [],
   "source": [
    "x_train = []\n",
    "y_train = []\n",
    "for i in range(360,len(train_data)):\n",
    "    x_train.append(train_data[i-360:i,0])\n",
    "    y_train.append(train_data[i,0])"
   ]
  },
  {
   "cell_type": "markdown",
   "id": "2db5c63b",
   "metadata": {
    "papermill": {
     "duration": 0.009422,
     "end_time": "2022-12-09T03:34:36.016943",
     "exception": false,
     "start_time": "2022-12-09T03:34:36.007521",
     "status": "completed"
    },
    "tags": []
   },
   "source": [
    "convert the feattures data and label data into np.array"
   ]
  },
  {
   "cell_type": "code",
   "execution_count": 15,
   "id": "86306be7",
   "metadata": {
    "execution": {
     "iopub.execute_input": "2022-12-09T03:34:36.038266Z",
     "iopub.status.busy": "2022-12-09T03:34:36.037477Z",
     "iopub.status.idle": "2022-12-09T03:34:36.058992Z",
     "shell.execute_reply": "2022-12-09T03:34:36.057580Z"
    },
    "papermill": {
     "duration": 0.035185,
     "end_time": "2022-12-09T03:34:36.061667",
     "exception": false,
     "start_time": "2022-12-09T03:34:36.026482",
     "status": "completed"
    },
    "tags": []
   },
   "outputs": [],
   "source": [
    "x_train,y_train = np.array(x_train),np.array(y_train)\n",
    "x_train = np.reshape(x_train,(x_train.shape[0],x_train.shape[1],1))\n"
   ]
  },
  {
   "cell_type": "markdown",
   "id": "8a0f0d4f",
   "metadata": {
    "papermill": {
     "duration": 0.009274,
     "end_time": "2022-12-09T03:34:36.081320",
     "exception": false,
     "start_time": "2022-12-09T03:34:36.072046",
     "status": "completed"
    },
    "tags": []
   },
   "source": [
    "## prepare the test set"
   ]
  },
  {
   "cell_type": "markdown",
   "id": "2fb1820e",
   "metadata": {
    "papermill": {
     "duration": 0.009341,
     "end_time": "2022-12-09T03:34:36.100131",
     "exception": false,
     "start_time": "2022-12-09T03:34:36.090790",
     "status": "completed"
    },
    "tags": []
   },
   "source": [
    "## set up the model"
   ]
  },
  {
   "cell_type": "code",
   "execution_count": 16,
   "id": "92e69cef",
   "metadata": {
    "execution": {
     "iopub.execute_input": "2022-12-09T03:34:36.121401Z",
     "iopub.status.busy": "2022-12-09T03:34:36.120916Z",
     "iopub.status.idle": "2022-12-09T03:34:43.288624Z",
     "shell.execute_reply": "2022-12-09T03:34:43.287004Z"
    },
    "papermill": {
     "duration": 7.182025,
     "end_time": "2022-12-09T03:34:43.291607",
     "exception": false,
     "start_time": "2022-12-09T03:34:36.109582",
     "status": "completed"
    },
    "tags": []
   },
   "outputs": [
    {
     "name": "stderr",
     "output_type": "stream",
     "text": [
      "2022-12-09 03:34:42.618765: I tensorflow/core/common_runtime/process_util.cc:146] Creating new thread pool with default inter op setting: 2. Tune using inter_op_parallelism_threads for best performance.\n"
     ]
    },
    {
     "name": "stdout",
     "output_type": "stream",
     "text": [
      "Model: \"sequential\"\n",
      "_________________________________________________________________\n",
      "Layer (type)                 Output Shape              Param #   \n",
      "=================================================================\n",
      "lstm (LSTM)                  (None, 360, 8)            320       \n",
      "_________________________________________________________________\n",
      "lstm_1 (LSTM)                (None, 360, 16)           1600      \n",
      "_________________________________________________________________\n",
      "dropout (Dropout)            (None, 360, 16)           0         \n",
      "_________________________________________________________________\n",
      "dense (Dense)                (None, 360, 10)           170       \n",
      "_________________________________________________________________\n",
      "dense_1 (Dense)              (None, 360, 1)            11        \n",
      "=================================================================\n",
      "Total params: 2,101\n",
      "Trainable params: 2,101\n",
      "Non-trainable params: 0\n",
      "_________________________________________________________________\n"
     ]
    }
   ],
   "source": [
    "import tensorflow as tf \n",
    "from tensorflow.keras.layers import Dense,LSTM,Dropout\n",
    "import tensorflow.keras.layers as layers\n",
    "model = tf.keras.Sequential()\n",
    "model.add(layers.LSTM(8,return_sequences=True,input_shape=(x_train.shape[1],1)))\n",
    "model.add(layers.LSTM(16,return_sequences=True))\n",
    "model.add(Dropout(0.2))\n",
    "model.add(Dense(10))\n",
    "model.add(Dense(1))\n",
    "model.summary()"
   ]
  },
  {
   "cell_type": "code",
   "execution_count": 17,
   "id": "1ce6e59a",
   "metadata": {
    "execution": {
     "iopub.execute_input": "2022-12-09T03:34:43.318671Z",
     "iopub.status.busy": "2022-12-09T03:34:43.317506Z",
     "iopub.status.idle": "2022-12-09T03:51:45.711373Z",
     "shell.execute_reply": "2022-12-09T03:51:45.709934Z"
    },
    "papermill": {
     "duration": 1022.409904,
     "end_time": "2022-12-09T03:51:45.714457",
     "exception": false,
     "start_time": "2022-12-09T03:34:43.304553",
     "status": "completed"
    },
    "tags": []
   },
   "outputs": [
    {
     "name": "stderr",
     "output_type": "stream",
     "text": [
      "2022-12-09 03:34:43.412167: I tensorflow/compiler/mlir/mlir_graph_optimization_pass.cc:185] None of the MLIR Optimization Passes are enabled (registered 2)\n"
     ]
    },
    {
     "name": "stdout",
     "output_type": "stream",
     "text": [
      "Epoch 1/5\n",
      "1031/1031 [==============================] - 208s 197ms/step - loss: 0.0439 - accuracy: 1.2134e-04\n",
      "Epoch 2/5\n",
      "1031/1031 [==============================] - 204s 198ms/step - loss: 0.0433 - accuracy: 1.2134e-04\n",
      "Epoch 3/5\n",
      "1031/1031 [==============================] - 203s 197ms/step - loss: 0.0434 - accuracy: 1.2134e-04\n",
      "Epoch 4/5\n",
      "1031/1031 [==============================] - 203s 197ms/step - loss: 0.0434 - accuracy: 1.2134e-04\n",
      "Epoch 5/5\n",
      "1031/1031 [==============================] - 204s 198ms/step - loss: 0.0434 - accuracy: 1.2134e-04\n"
     ]
    }
   ],
   "source": [
    "model.compile(optimizer='adam',loss='mse',metrics=['accuracy'])\n",
    "history = model.fit(x_train,y_train,batch_size=8,epochs=5)"
   ]
  },
  {
   "cell_type": "code",
   "execution_count": 18,
   "id": "b80f80f7",
   "metadata": {
    "execution": {
     "iopub.execute_input": "2022-12-09T03:51:46.401726Z",
     "iopub.status.busy": "2022-12-09T03:51:46.401303Z",
     "iopub.status.idle": "2022-12-09T03:51:46.608795Z",
     "shell.execute_reply": "2022-12-09T03:51:46.607882Z"
    },
    "papermill": {
     "duration": 0.554154,
     "end_time": "2022-12-09T03:51:46.611040",
     "exception": false,
     "start_time": "2022-12-09T03:51:46.056886",
     "status": "completed"
    },
    "tags": []
   },
   "outputs": [
    {
     "data": {
      "image/png": "[encoded data removed]",
      "text/plain": [
       "<Figure size 432x288 with 1 Axes>"
      ]
     },
     "metadata": {
      "needs_background": "light"
     },
     "output_type": "display_data"
    }
   ],
   "source": [
    "import matplotlib.pyplot as plt \n",
    "\n",
    "plt.plot(history.history['loss'])\n",
    "plt.plot(history.history['accuracy'])\n",
    "plt.title('model loss')\n",
    "plt.ylabel('loss')\n",
    "plt.xlabel('epoch')\n",
    "plt.legend(['loss','accuracy'], loc='upper right')\n",
    "plt.show()"
   ]
  }
 ],
 "metadata": {
  "kernelspec": {
   "display_name": "Python 3",
   "language": "python",
   "name": "python3"
  },
  "language_info": {
   "codemirror_mode": {
    "name": "ipython",
    "version": 3
   },
   "file_extension": ".py",
   "mimetype": "text/x-python",
   "name": "python",
   "nbconvert_exporter": "python",
   "pygments_lexer": "ipython3",
   "version": "3.7.12"
  },
  "papermill": {
   "default_parameters": {},
   "duration": 1045.837199,
   "end_time": "2022-12-09T03:51:50.117993",
   "environment_variables": {},
   "exception": null,
   "input_path": "__notebook__.ipynb",
   "output_path": "__notebook__.ipynb",
   "parameters": {},
   "start_time": "2022-12-09T03:34:24.280794",
   "version": "2.3.4"
  }
 },
 "nbformat": 4,
 "nbformat_minor": 5
}
