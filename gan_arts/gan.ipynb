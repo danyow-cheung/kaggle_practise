{
  "cells": [
    {
      "cell_type": "code",
      "source": [
        "# !pip install -q kaggle "
      ],
      "metadata": {
        "id": "pkV9k8x_3AXP"
      },
      "execution_count": null,
      "outputs": []
    },
    {
      "cell_type": "code",
      "source": [
        "# !mkdir ~/.kaggle"
      ],
      "metadata": {
        "id": "GWn2HjUm3Gg6"
      },
      "execution_count": null,
      "outputs": []
    },
    {
      "cell_type": "code",
      "source": [
        "# !cp kaggle.json ~/.kaggle/"
      ],
      "metadata": {
        "id": "CVZLA-aC3Pwh"
      },
      "execution_count": null,
      "outputs": []
    },
    {
      "cell_type": "code",
      "source": [
        "# !kaggle competitions download -c gan-getting-started"
      ],
      "metadata": {
        "id": "zmluME5P3Vwt"
      },
      "execution_count": null,
      "outputs": []
    },
    {
      "cell_type": "code",
      "source": [
        "# !unzip gan-getting-started.zip"
      ],
      "metadata": {
        "colab": {
          "base_uri": "https://localhost:8080/"
        },
        "id": "up3v_VeZ3a8E",
        "outputId": "8c1cc273-e6e7-463f-865b-f555e44fffd3"
      },
      "execution_count": 16,
      "outputs": [
        {
          "output_type": "stream",
          "name": "stdout",
          "text": [
            "Archive:  gan-getting-started.zip\n",
            "replace monet_jpg/000c1e3bff.jpg? [y]es, [n]o, [A]ll, [N]one, [r]ename: n\n",
            "replace monet_jpg/011835cfbf.jpg? [y]es, [n]o, [A]ll, [N]one, [r]ename: n\n",
            "replace monet_jpg/0260d15306.jpg? [y]es, [n]o, [A]ll, [N]one, [r]ename: n\n",
            "replace monet_jpg/049e293b93.jpg? [y]es, [n]o, [A]ll, [N]one, [r]ename: "
          ]
        }
      ]
    },
    {
      "cell_type": "markdown",
      "metadata": {
        "id": "6XhKoEs62_m2"
      },
      "source": [
        "# learning by copying😜\n",
        "> ~https://www.kaggle.com/code/amyjang/monet-cyclegan-tutorial~\n",
        "> https://www.kaggle.com/code/peakwhisky/monet-dcgan\n",
        "\n",
        "\n"
      ]
    },
    {
      "cell_type": "code",
      "source": [
        "# !pip3 install tensorflow_addons"
      ],
      "metadata": {
        "id": "juVoTLEr3PQj"
      },
      "execution_count": null,
      "outputs": []
    },
    {
      "cell_type": "code",
      "execution_count": 58,
      "metadata": {
        "id": "HQ6_eLpq2_m4"
      },
      "outputs": [],
      "source": [
        "import numpy as np # linear algebra\n",
        "import pandas as pd # data processing, CSV file I/O (e.g. pd.read_csv)\n",
        "import tensorflow as tf\n",
        "from tensorflow import keras\n",
        "from tensorflow.keras import layers\n",
        "import matplotlib.pyplot as plt\n",
        "import glob\n",
        "import time"
      ]
    },
    {
      "cell_type": "code",
      "source": [
        "image_feature_description = {\n",
        "    \n",
        "    'image_name':tf.io.FixedLenFeature([], tf.string),\n",
        "    'image':tf.io.FixedLenFeature([], tf.string),\n",
        "    'target':tf.io.FixedLenFeature([], tf.string)\n",
        "}\n"
      ],
      "metadata": {
        "id": "hfqm023dXd-T"
      },
      "execution_count": 59,
      "outputs": []
    },
    {
      "cell_type": "code",
      "source": [
        "IMG_SIZE = [256,256]\n",
        "def decode_image(image):\n",
        "  image = tf.image.decode_jpeg(image,channels=3)\n",
        "  image = (tf.cast(image,tf.float32)/127.5)-1 \n",
        "  image = tf.reshape(image,[*IMG_SIZE,3])\n",
        "  return image\n",
        "\n",
        "def parse_image_function(example_proto):\n",
        "  example= tf.io.parse_single_example(example_proto, image_feature_description)\n",
        "  image = decode_image(example['image'])\n",
        "  return image"
      ],
      "metadata": {
        "id": "0EvEj4HeXqQq"
      },
      "execution_count": 60,
      "outputs": []
    },
    {
      "cell_type": "code",
      "source": [
        "AUTOTUNE = tf.data.AUTOTUNE \n",
        "def load_data(filename):\n",
        "  raw_ds = tf.data.TFRecordDataset(filename)\n",
        "  raw_ds = raw_ds.map(parse_image_function,num_parallel_calls=AUTOTUNE)\n",
        "  return raw_ds \n",
        "\n"
      ],
      "metadata": {
        "id": "F_CWh8dkYA2N"
      },
      "execution_count": 70,
      "outputs": []
    },
    {
      "cell_type": "code",
      "source": [
        "import os \n",
        "MONET_FILENAMES = os.listdir('monet_tfrec')\n",
        "print(len(MONET_FILENAMES))"
      ],
      "metadata": {
        "colab": {
          "base_uri": "https://localhost:8080/"
        },
        "id": "Zzo74l6oYSQS",
        "outputId": "c87f0ba3-54a4-449b-c550-33bea21f85f9"
      },
      "execution_count": 63,
      "outputs": [
        {
          "output_type": "stream",
          "name": "stdout",
          "text": [
            "5\n"
          ]
        }
      ]
    },
    {
      "cell_type": "code",
      "source": [
        "MONET_FILENAMES"
      ],
      "metadata": {
        "colab": {
          "base_uri": "https://localhost:8080/"
        },
        "id": "uiFcanm5YtVx",
        "outputId": "f5f5c4c8-876d-4761-9735-cd2d38b25be9"
      },
      "execution_count": 64,
      "outputs": [
        {
          "output_type": "execute_result",
          "data": {
            "text/plain": [
              "['monet08-60.tfrec',\n",
              " 'monet00-60.tfrec',\n",
              " 'monet12-60.tfrec',\n",
              " 'monet16-60.tfrec',\n",
              " 'monet04-60.tfrec']"
            ]
          },
          "metadata": {},
          "execution_count": 64
        }
      ]
    },
    {
      "cell_type": "code",
      "source": [
        "monet_tfrec ='monet_tfrec'\n",
        "MONET_PATHS= [os.path.join(monet_tfrec,filename) for filename in MONET_FILENAMES]"
      ],
      "metadata": {
        "id": "1f18ufKqYayU"
      },
      "execution_count": 65,
      "outputs": []
    },
    {
      "cell_type": "code",
      "source": [
        "MONET_PATHS"
      ],
      "metadata": {
        "colab": {
          "base_uri": "https://localhost:8080/"
        },
        "id": "tDal25MVYuKR",
        "outputId": "d33f322e-8715-4a67-ff27-be8ea766bd21"
      },
      "execution_count": 66,
      "outputs": [
        {
          "output_type": "execute_result",
          "data": {
            "text/plain": [
              "['monet_tfrec/monet08-60.tfrec',\n",
              " 'monet_tfrec/monet00-60.tfrec',\n",
              " 'monet_tfrec/monet12-60.tfrec',\n",
              " 'monet_tfrec/monet16-60.tfrec',\n",
              " 'monet_tfrec/monet04-60.tfrec']"
            ]
          },
          "metadata": {},
          "execution_count": 66
        }
      ]
    },
    {
      "cell_type": "code",
      "source": [
        "monet_ds = load_data(MONET_PATHS).batch(1)"
      ],
      "metadata": {
        "id": "rMnT_6CGYv68"
      },
      "execution_count": 71,
      "outputs": []
    },
    {
      "cell_type": "code",
      "source": [
        "sample = next(iter(monet_ds))\n",
        "plt.imshow(sample[0])\n",
        "plt.show()"
      ],
      "metadata": {
        "colab": {
          "base_uri": "https://localhost:8080/",
          "height": 307
        },
        "id": "oZh7xPYSY2yZ",
        "outputId": "f01cc4a4-1578-4881-dd6a-545fb4420c5d"
      },
      "execution_count": 72,
      "outputs": [
        {
          "output_type": "stream",
          "name": "stderr",
          "text": [
            "WARNING:matplotlib.image:Clipping input data to the valid range for imshow with RGB data ([0..1] for floats or [0..255] for integers).\n"
          ]
        },
        {
          "output_type": "display_data",
          "data": {
            "text/plain": [
              "<Figure size 432x288 with 1 Axes>"
            ],
            "image/png": "[encoded data removed]"
          },
          "metadata": {
            "needs_background": "light"
          }
        }
      ]
    },
    {
      "cell_type": "code",
      "source": [
        "sample.shape"
      ],
      "metadata": {
        "colab": {
          "base_uri": "https://localhost:8080/"
        },
        "id": "CqjZ0oTAZHlt",
        "outputId": "6f4e08ec-fe73-4da0-dc8a-2c82818192f0"
      },
      "execution_count": 73,
      "outputs": [
        {
          "output_type": "execute_result",
          "data": {
            "text/plain": [
              "TensorShape([1, 256, 256, 3])"
            ]
          },
          "metadata": {},
          "execution_count": 73
        }
      ]
    },
    {
      "cell_type": "markdown",
      "source": [
        "(28,28) for tutorial DCGAN checking "
      ],
      "metadata": {
        "id": "BiHA3KjhZT8j"
      }
    },
    {
      "cell_type": "code",
      "source": [
        "IMG_SIZE = 28 \n",
        "resize = keras.layers.Resizing(IMG_SIZE,IMG_SIZE)\n",
        "tutorial_ds = monet_ds.map(lambda x:resize(x))"
      ],
      "metadata": {
        "id": "ErW8_xz9ZNCI"
      },
      "execution_count": 74,
      "outputs": []
    },
    {
      "cell_type": "code",
      "source": [
        "sample = next(iter(tutorial_ds))\n",
        "plt.imshow(sample[0,:,:,:])\n",
        "plt.show()"
      ],
      "metadata": {
        "colab": {
          "base_uri": "https://localhost:8080/",
          "height": 303
        },
        "id": "Wi7EJqQsZKiW",
        "outputId": "d4334e8f-4827-4763-c4cc-603435015555"
      },
      "execution_count": 76,
      "outputs": [
        {
          "output_type": "stream",
          "name": "stderr",
          "text": [
            "WARNING:matplotlib.image:Clipping input data to the valid range for imshow with RGB data ([0..1] for floats or [0..255] for integers).\n"
          ]
        },
        {
          "output_type": "display_data",
          "data": {
            "text/plain": [
              "<Figure size 432x288 with 1 Axes>"
            ],
            "image/png": "[encoded data removed]"
          },
          "metadata": {
            "needs_background": "light"
          }
        }
      ]
    },
    {
      "cell_type": "markdown",
      "source": [
        "## Implementing DCGAN models "
      ],
      "metadata": {
        "id": "zUBvtf0UZrFk"
      }
    },
    {
      "cell_type": "code",
      "source": [
        "noise_shape = 100 \n",
        "def generator_model():\n",
        "  model = keras.Sequential()\n",
        "  \n",
        "  model.add(layers.Dense(8*8*512,use_bias=False,input_shape =(noise_shape,)))\n",
        "  model.add(layers.BatchNormalization())\n",
        "  model.add(layers.LeakyReLU())\n",
        "  model.add(layers.Reshape((8,8,512)))\n",
        "  \n",
        "  assert model.output_shape ==(None,8,8,512)\n",
        "  \n",
        "  model.add(layers.Conv2DTranspose(\n",
        "      filters=256,kernel_size=(5,5),\n",
        "      strides =(2,2),padding='same',\n",
        "      use_bias=False))\n",
        "  model.add(layers.BatchNormalization())\n",
        "  model.add(layers.LeakyReLU())\n",
        "  assert model.output_shape ==(None,16,16,256)\n",
        "\n",
        "  model.add(layers.Conv2DTranspose(\n",
        "      filters=128,kernel_size=(5,5),\n",
        "      strides =(2,2),padding='same',\n",
        "      use_bias=False))\n",
        "  model.add(layers.BatchNormalization())\n",
        "  model.add(layers.LeakyReLU())\n",
        "  assert model.output_shape ==(None,32,32,128)\n",
        "\n",
        "  model.add(layers.Conv2DTranspose(\n",
        "      filters=64,kernel_size=(5,5),\n",
        "      strides =(2,2),padding='same',\n",
        "      use_bias=False,activation='tanh'))\n",
        "  model.add(layers.BatchNormalization())\n",
        "  model.add(layers.LeakyReLU())\n",
        "  assert model.output_shape ==(None,64,64,64)\n",
        "\n",
        "  model.add(layers.Conv2DTranspose(\n",
        "      filters=32,kernel_size=(5,5),\n",
        "      strides =(2,2),padding='same',\n",
        "      use_bias=False,activation='tanh'))\n",
        "  model.add(layers.BatchNormalization())\n",
        "  model.add(layers.LeakyReLU())\n",
        "  assert model.output_shape ==(None,128,128,32)\n",
        "\n",
        "  model.add(layers.Conv2DTranspose(\n",
        "      filters=3,kernel_size=(5,5),\n",
        "      strides =(2,2),padding='same',\n",
        "      use_bias=False,activation='tanh'))\n",
        "  model.add(layers.BatchNormalization())\n",
        "  model.add(layers.LeakyReLU())\n",
        "  assert model.output_shape ==(None,256,256,3)\n",
        "  return model "
      ],
      "metadata": {
        "id": "kg0qrhf3Znr2"
      },
      "execution_count": 78,
      "outputs": []
    },
    {
      "cell_type": "code",
      "source": [
        "def tutorial_generator_model():\n",
        "  model = tf.keras.Sequential()\n",
        "  model.add(layers.Dense(7*7*256,use_bias=False,input_shape=(100,)))\n",
        "  model.add(layers.BatchNormalization())\n",
        "  model.add(layers.LeakyReLU())\n",
        "  model.add(layers.Reshape((7,7,256)))\n",
        "  "
      ],
      "metadata": {
        "id": "_fn6XHz5bMQr"
      },
      "execution_count": null,
      "outputs": []
    }
  ],
  "metadata": {
    "kernelspec": {
      "display_name": "myenvs",
      "language": "python",
      "name": "python3"
    },
    "language_info": {
      "codemirror_mode": {
        "name": "ipython",
        "version": 3
      },
      "file_extension": ".py",
      "mimetype": "text/x-python",
      "name": "python",
      "nbconvert_exporter": "python",
      "pygments_lexer": "ipython3",
      "version": "3.9.2"
    },
    "orig_nbformat": 4,
    "vscode": {
      "interpreter": {
        "hash": "a051216bf3a65c020b643b52ab15d0714db61718a99958c54a11e422694469a1"
      }
    },
    "colab": {
      "provenance": []
    }
  },
  "nbformat": 4,
  "nbformat_minor": 0
}