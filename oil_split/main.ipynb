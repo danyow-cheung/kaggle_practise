{
 "cells": [
  {
   "cell_type": "markdown",
   "metadata": {},
   "source": [
    "# [數據集](https://www.kaggle.com/datasets/sudhanshu2198/oil-spill-detection)\n",
    "该数据集是从海洋的卫星图像开始开发的，其中一些包含石油泄漏，一些没有。\n",
    "图像被分割成多个部分，并使用计算机视觉算法进行处理，以提供描述图像部分或补丁内容的特征向量。\n",
    "任务是，\n",
    "**给定一个描述卫星图像中某块区域内容的矢量，然后预测该区域是否包含漏油** 例如，非法或意外向海洋倾倒石油。\n",
    "\n",
    "有两类，目标是使用<u>给定海洋区域的特征</u>来区分溢出和非溢出。\n",
    "非溢出：否定情况或多数类别。\n",
    "石油泄漏：正面案例或少数群体。"
   ]
  },
  {
   "cell_type": "code",
   "execution_count": 2,
   "metadata": {},
   "outputs": [
    {
     "data": {
      "text/html": [
       "<div>\n",
       "<style scoped>\n",
       "    .dataframe tbody tr th:only-of-type {\n",
       "        vertical-align: middle;\n",
       "    }\n",
       "\n",
       "    .dataframe tbody tr th {\n",
       "        vertical-align: top;\n",
       "    }\n",
       "\n",
       "    .dataframe thead th {\n",
       "        text-align: right;\n",
       "    }\n",
       "</style>\n",
       "<table border=\"1\" class=\"dataframe\">\n",
       "  <thead>\n",
       "    <tr style=\"text-align: right;\">\n",
       "      <th></th>\n",
       "      <th>f_1</th>\n",
       "      <th>f_2</th>\n",
       "      <th>f_3</th>\n",
       "      <th>f_4</th>\n",
       "      <th>f_5</th>\n",
       "      <th>f_6</th>\n",
       "      <th>f_7</th>\n",
       "      <th>f_8</th>\n",
       "      <th>f_9</th>\n",
       "      <th>f_10</th>\n",
       "      <th>...</th>\n",
       "      <th>f_41</th>\n",
       "      <th>f_42</th>\n",
       "      <th>f_43</th>\n",
       "      <th>f_44</th>\n",
       "      <th>f_45</th>\n",
       "      <th>f_46</th>\n",
       "      <th>f_47</th>\n",
       "      <th>f_48</th>\n",
       "      <th>f_49</th>\n",
       "      <th>target</th>\n",
       "    </tr>\n",
       "  </thead>\n",
       "  <tbody>\n",
       "    <tr>\n",
       "      <th>0</th>\n",
       "      <td>1</td>\n",
       "      <td>2558</td>\n",
       "      <td>1506.09</td>\n",
       "      <td>456.63</td>\n",
       "      <td>90</td>\n",
       "      <td>6395000</td>\n",
       "      <td>40.88</td>\n",
       "      <td>7.89</td>\n",
       "      <td>29780.0</td>\n",
       "      <td>0.19</td>\n",
       "      <td>...</td>\n",
       "      <td>2850.00</td>\n",
       "      <td>1000.00</td>\n",
       "      <td>763.16</td>\n",
       "      <td>135.46</td>\n",
       "      <td>3.73</td>\n",
       "      <td>0</td>\n",
       "      <td>33243.19</td>\n",
       "      <td>65.74</td>\n",
       "      <td>7.95</td>\n",
       "      <td>1</td>\n",
       "    </tr>\n",
       "    <tr>\n",
       "      <th>1</th>\n",
       "      <td>2</td>\n",
       "      <td>22325</td>\n",
       "      <td>79.11</td>\n",
       "      <td>841.03</td>\n",
       "      <td>180</td>\n",
       "      <td>55812500</td>\n",
       "      <td>51.11</td>\n",
       "      <td>1.21</td>\n",
       "      <td>61900.0</td>\n",
       "      <td>0.02</td>\n",
       "      <td>...</td>\n",
       "      <td>5750.00</td>\n",
       "      <td>11500.00</td>\n",
       "      <td>9593.48</td>\n",
       "      <td>1648.80</td>\n",
       "      <td>0.60</td>\n",
       "      <td>0</td>\n",
       "      <td>51572.04</td>\n",
       "      <td>65.73</td>\n",
       "      <td>6.26</td>\n",
       "      <td>0</td>\n",
       "    </tr>\n",
       "    <tr>\n",
       "      <th>2</th>\n",
       "      <td>3</td>\n",
       "      <td>115</td>\n",
       "      <td>1449.85</td>\n",
       "      <td>608.43</td>\n",
       "      <td>88</td>\n",
       "      <td>287500</td>\n",
       "      <td>40.42</td>\n",
       "      <td>7.34</td>\n",
       "      <td>3340.0</td>\n",
       "      <td>0.18</td>\n",
       "      <td>...</td>\n",
       "      <td>1400.00</td>\n",
       "      <td>250.00</td>\n",
       "      <td>150.00</td>\n",
       "      <td>45.13</td>\n",
       "      <td>9.33</td>\n",
       "      <td>1</td>\n",
       "      <td>31692.84</td>\n",
       "      <td>65.81</td>\n",
       "      <td>7.84</td>\n",
       "      <td>1</td>\n",
       "    </tr>\n",
       "    <tr>\n",
       "      <th>3</th>\n",
       "      <td>4</td>\n",
       "      <td>1201</td>\n",
       "      <td>1562.53</td>\n",
       "      <td>295.65</td>\n",
       "      <td>66</td>\n",
       "      <td>3002500</td>\n",
       "      <td>42.40</td>\n",
       "      <td>7.97</td>\n",
       "      <td>18030.0</td>\n",
       "      <td>0.19</td>\n",
       "      <td>...</td>\n",
       "      <td>6041.52</td>\n",
       "      <td>761.58</td>\n",
       "      <td>453.21</td>\n",
       "      <td>144.97</td>\n",
       "      <td>13.33</td>\n",
       "      <td>1</td>\n",
       "      <td>37696.21</td>\n",
       "      <td>65.67</td>\n",
       "      <td>8.07</td>\n",
       "      <td>1</td>\n",
       "    </tr>\n",
       "    <tr>\n",
       "      <th>4</th>\n",
       "      <td>5</td>\n",
       "      <td>312</td>\n",
       "      <td>950.27</td>\n",
       "      <td>440.86</td>\n",
       "      <td>37</td>\n",
       "      <td>780000</td>\n",
       "      <td>41.43</td>\n",
       "      <td>7.03</td>\n",
       "      <td>3350.0</td>\n",
       "      <td>0.17</td>\n",
       "      <td>...</td>\n",
       "      <td>1320.04</td>\n",
       "      <td>710.63</td>\n",
       "      <td>512.54</td>\n",
       "      <td>109.16</td>\n",
       "      <td>2.58</td>\n",
       "      <td>0</td>\n",
       "      <td>29038.17</td>\n",
       "      <td>65.66</td>\n",
       "      <td>7.35</td>\n",
       "      <td>0</td>\n",
       "    </tr>\n",
       "    <tr>\n",
       "      <th>5</th>\n",
       "      <td>6</td>\n",
       "      <td>54</td>\n",
       "      <td>1438.13</td>\n",
       "      <td>544.91</td>\n",
       "      <td>82</td>\n",
       "      <td>135000</td>\n",
       "      <td>44.67</td>\n",
       "      <td>6.92</td>\n",
       "      <td>1570.0</td>\n",
       "      <td>0.15</td>\n",
       "      <td>...</td>\n",
       "      <td>608.28</td>\n",
       "      <td>200.00</td>\n",
       "      <td>150.00</td>\n",
       "      <td>52.22</td>\n",
       "      <td>4.06</td>\n",
       "      <td>0</td>\n",
       "      <td>30967.25</td>\n",
       "      <td>65.77</td>\n",
       "      <td>7.85</td>\n",
       "      <td>1</td>\n",
       "    </tr>\n",
       "    <tr>\n",
       "      <th>6</th>\n",
       "      <td>7</td>\n",
       "      <td>116</td>\n",
       "      <td>1446.29</td>\n",
       "      <td>580.94</td>\n",
       "      <td>97</td>\n",
       "      <td>290000</td>\n",
       "      <td>41.53</td>\n",
       "      <td>6.24</td>\n",
       "      <td>3660.0</td>\n",
       "      <td>0.15</td>\n",
       "      <td>...</td>\n",
       "      <td>1060.66</td>\n",
       "      <td>403.11</td>\n",
       "      <td>164.58</td>\n",
       "      <td>114.82</td>\n",
       "      <td>6.44</td>\n",
       "      <td>0</td>\n",
       "      <td>31258.37</td>\n",
       "      <td>65.79</td>\n",
       "      <td>7.85</td>\n",
       "      <td>1</td>\n",
       "    </tr>\n",
       "    <tr>\n",
       "      <th>7</th>\n",
       "      <td>8</td>\n",
       "      <td>57</td>\n",
       "      <td>28.68</td>\n",
       "      <td>715.39</td>\n",
       "      <td>141</td>\n",
       "      <td>142500</td>\n",
       "      <td>51.67</td>\n",
       "      <td>0.83</td>\n",
       "      <td>1810.0</td>\n",
       "      <td>0.02</td>\n",
       "      <td>...</td>\n",
       "      <td>500.00</td>\n",
       "      <td>360.56</td>\n",
       "      <td>165.71</td>\n",
       "      <td>132.47</td>\n",
       "      <td>3.02</td>\n",
       "      <td>0</td>\n",
       "      <td>51985.06</td>\n",
       "      <td>65.67</td>\n",
       "      <td>6.25</td>\n",
       "      <td>0</td>\n",
       "    </tr>\n",
       "    <tr>\n",
       "      <th>8</th>\n",
       "      <td>9</td>\n",
       "      <td>188</td>\n",
       "      <td>964.23</td>\n",
       "      <td>456.23</td>\n",
       "      <td>22</td>\n",
       "      <td>470000</td>\n",
       "      <td>38.90</td>\n",
       "      <td>5.89</td>\n",
       "      <td>3720.0</td>\n",
       "      <td>0.15</td>\n",
       "      <td>...</td>\n",
       "      <td>1569.24</td>\n",
       "      <td>492.44</td>\n",
       "      <td>256.77</td>\n",
       "      <td>124.72</td>\n",
       "      <td>6.11</td>\n",
       "      <td>0</td>\n",
       "      <td>28871.82</td>\n",
       "      <td>65.67</td>\n",
       "      <td>7.36</td>\n",
       "      <td>1</td>\n",
       "    </tr>\n",
       "    <tr>\n",
       "      <th>9</th>\n",
       "      <td>10</td>\n",
       "      <td>64</td>\n",
       "      <td>903.02</td>\n",
       "      <td>274.88</td>\n",
       "      <td>33</td>\n",
       "      <td>160000</td>\n",
       "      <td>41.22</td>\n",
       "      <td>7.90</td>\n",
       "      <td>1850.0</td>\n",
       "      <td>0.19</td>\n",
       "      <td>...</td>\n",
       "      <td>471.70</td>\n",
       "      <td>223.61</td>\n",
       "      <td>182.83</td>\n",
       "      <td>50.12</td>\n",
       "      <td>2.58</td>\n",
       "      <td>0</td>\n",
       "      <td>32053.95</td>\n",
       "      <td>65.58</td>\n",
       "      <td>7.35</td>\n",
       "      <td>1</td>\n",
       "    </tr>\n",
       "  </tbody>\n",
       "</table>\n",
       "<p>10 rows × 50 columns</p>\n",
       "</div>"
      ],
      "text/plain": [
       "   f_1    f_2      f_3     f_4  f_5       f_6    f_7   f_8      f_9  f_10  \\\n",
       "0    1   2558  1506.09  456.63   90   6395000  40.88  7.89  29780.0  0.19   \n",
       "1    2  22325    79.11  841.03  180  55812500  51.11  1.21  61900.0  0.02   \n",
       "2    3    115  1449.85  608.43   88    287500  40.42  7.34   3340.0  0.18   \n",
       "3    4   1201  1562.53  295.65   66   3002500  42.40  7.97  18030.0  0.19   \n",
       "4    5    312   950.27  440.86   37    780000  41.43  7.03   3350.0  0.17   \n",
       "5    6     54  1438.13  544.91   82    135000  44.67  6.92   1570.0  0.15   \n",
       "6    7    116  1446.29  580.94   97    290000  41.53  6.24   3660.0  0.15   \n",
       "7    8     57    28.68  715.39  141    142500  51.67  0.83   1810.0  0.02   \n",
       "8    9    188   964.23  456.23   22    470000  38.90  5.89   3720.0  0.15   \n",
       "9   10     64   903.02  274.88   33    160000  41.22  7.90   1850.0  0.19   \n",
       "\n",
       "   ...     f_41      f_42     f_43     f_44   f_45  f_46      f_47   f_48  \\\n",
       "0  ...  2850.00   1000.00   763.16   135.46   3.73     0  33243.19  65.74   \n",
       "1  ...  5750.00  11500.00  9593.48  1648.80   0.60     0  51572.04  65.73   \n",
       "2  ...  1400.00    250.00   150.00    45.13   9.33     1  31692.84  65.81   \n",
       "3  ...  6041.52    761.58   453.21   144.97  13.33     1  37696.21  65.67   \n",
       "4  ...  1320.04    710.63   512.54   109.16   2.58     0  29038.17  65.66   \n",
       "5  ...   608.28    200.00   150.00    52.22   4.06     0  30967.25  65.77   \n",
       "6  ...  1060.66    403.11   164.58   114.82   6.44     0  31258.37  65.79   \n",
       "7  ...   500.00    360.56   165.71   132.47   3.02     0  51985.06  65.67   \n",
       "8  ...  1569.24    492.44   256.77   124.72   6.11     0  28871.82  65.67   \n",
       "9  ...   471.70    223.61   182.83    50.12   2.58     0  32053.95  65.58   \n",
       "\n",
       "   f_49  target  \n",
       "0  7.95       1  \n",
       "1  6.26       0  \n",
       "2  7.84       1  \n",
       "3  8.07       1  \n",
       "4  7.35       0  \n",
       "5  7.85       1  \n",
       "6  7.85       1  \n",
       "7  6.25       0  \n",
       "8  7.36       1  \n",
       "9  7.35       1  \n",
       "\n",
       "[10 rows x 50 columns]"
      ]
     },
     "execution_count": 2,
     "metadata": {},
     "output_type": "execute_result"
    }
   ],
   "source": [
    "import numpy as np\n",
    "import pandas as pd \n",
    "\n",
    "data = pd.read_csv('oil_spill.csv')\n",
    "data[:10]"
   ]
  },
  {
   "cell_type": "code",
   "execution_count": null,
   "metadata": {},
   "outputs": [],
   "source": [
    "# # 檢查是否包含非空數據\n",
    "# data.isna().any()"
   ]
  },
  {
   "cell_type": "markdown",
   "metadata": {},
   "source": [
    "# 機器學習部分"
   ]
  },
  {
   "cell_type": "code",
   "execution_count": 7,
   "metadata": {},
   "outputs": [],
   "source": [
    "from sklearn.model_selection import train_test_split \n",
    "X = data[['f_2','f_3']]\n",
    "# X.shape(937, 2)\n",
    "Y = data[['target']]\n",
    "# Y.shape (937, 1)\n",
    "\n",
    "x_train,x_test,y_train,y_test = train_test_split(X,Y,test_size=0.2)\n"
   ]
  },
  {
   "cell_type": "code",
   "execution_count": 8,
   "metadata": {},
   "outputs": [],
   "source": [
    "from sklearn.neighbors import KNeighborsClassifier\n",
    "knn_classifier = KNeighborsClassifier(n_neighbors=3)\n"
   ]
  },
  {
   "cell_type": "code",
   "execution_count": 10,
   "metadata": {},
   "outputs": [
    {
     "name": "stdout",
     "output_type": "stream",
     "text": [
      "(749, 2) (749, 1) (188, 2) (188, 1)\n"
     ]
    }
   ],
   "source": [
    "print(x_train.shape,y_train.shape,x_test.shape,y_test.shape)"
   ]
  },
  {
   "cell_type": "code",
   "execution_count": 9,
   "metadata": {},
   "outputs": [
    {
     "name": "stderr",
     "output_type": "stream",
     "text": [
      "/Library/Frameworks/Python.framework/Versions/3.9/lib/python3.9/site-packages/sklearn/neighbors/_classification.py:198: DataConversionWarning: A column-vector y was passed when a 1d array was expected. Please change the shape of y to (n_samples,), for example using ravel().\n",
      "  return self._fit(X, y)\n"
     ]
    },
    {
     "data": {
      "text/plain": [
       "KNeighborsClassifier(n_neighbors=3)"
      ]
     },
     "execution_count": 9,
     "metadata": {},
     "output_type": "execute_result"
    }
   ],
   "source": [
    "knn_classifier.fit(x_train,y_train)"
   ]
  },
  {
   "cell_type": "code",
   "execution_count": 11,
   "metadata": {},
   "outputs": [],
   "source": [
    "y_pred = knn_classifier.predict(x_test)"
   ]
  },
  {
   "cell_type": "code",
   "execution_count": 12,
   "metadata": {},
   "outputs": [
    {
     "data": {
      "text/plain": [
       "0.9521276595744681"
      ]
     },
     "execution_count": 12,
     "metadata": {},
     "output_type": "execute_result"
    }
   ],
   "source": [
    "# 直接使用sklearn中的api查看精准度\n",
    "from sklearn.metrics import accuracy_score\n",
    "accuracy_score(y_test,y_pred)"
   ]
  },
  {
   "cell_type": "markdown",
   "metadata": {},
   "source": [
    "# 深度學習部分\n",
    "參考<br>\n",
    "https://www.kaggle.com/code/kkhandekar/oil-spills-prediction\n"
   ]
  },
  {
   "cell_type": "code",
   "execution_count": 13,
   "metadata": {},
   "outputs": [
    {
     "name": "stdout",
     "output_type": "stream",
     "text": [
      "(749, 49) (749, 1) (188, 49) (188, 1)\n"
     ]
    }
   ],
   "source": [
    "# 重新配置數據集\n",
    "X = data.drop('target',axis=1)\n",
    "Y = data[['target']]\n",
    "\n",
    "x_train,x_test,y_train,y_test = train_test_split(X,Y,test_size=0.2)\n",
    "print(x_train.shape,y_train.shape,x_test.shape,y_test.shape)"
   ]
  },
  {
   "cell_type": "code",
   "execution_count": 14,
   "metadata": {},
   "outputs": [
    {
     "name": "stdout",
     "output_type": "stream",
     "text": [
      "49 1\n"
     ]
    }
   ],
   "source": [
    "input_shape = X.shape[1]\n",
    "output_shape = Y.shape[1]\n",
    "# 輸入特徵和輸出特徵\n",
    "print(input_shape,output_shape)"
   ]
  },
  {
   "cell_type": "markdown",
   "metadata": {},
   "source": [
    "## 構建模型"
   ]
  },
  {
   "cell_type": "code",
   "execution_count": 28,
   "metadata": {},
   "outputs": [
    {
     "name": "stdout",
     "output_type": "stream",
     "text": [
      "Model: \"sequential_1\"\n",
      "_________________________________________________________________\n",
      " Layer (type)                Output Shape              Param #   \n",
      "=================================================================\n",
      " dense_3 (Dense)             (None, 8)                 400       \n",
      "                                                                 \n",
      " dropout_2 (Dropout)         (None, 8)                 0         \n",
      "                                                                 \n",
      " dense_4 (Dense)             (None, 16)                144       \n",
      "                                                                 \n",
      " dropout_3 (Dropout)         (None, 16)                0         \n",
      "                                                                 \n",
      " dense_5 (Dense)             (None, 1)                 17        \n",
      "                                                                 \n",
      "=================================================================\n",
      "Total params: 561\n",
      "Trainable params: 561\n",
      "Non-trainable params: 0\n",
      "_________________________________________________________________\n"
     ]
    }
   ],
   "source": [
    "from tensorflow.keras.layers import Dense,Input,Dropout\n",
    "from tensorflow.keras.models import Sequential\n",
    "import tensorflow as tf \n",
    "\n",
    "model = Sequential()\n",
    "model.add(Input(shape=input_shape))\n",
    "\n",
    "model.add(Dense(units=8,activation='relu',))\n",
    "model.add(Dropout(0.2))\n",
    "model.add(Dense(units=16,activation='relu',))\n",
    "model.add(Dropout(0.2))\n",
    "model.add(Dense(output_shape,activation='sigmoid'))\n",
    "model.summary()\n"
   ]
  },
  {
   "cell_type": "code",
   "execution_count": 35,
   "metadata": {},
   "outputs": [],
   "source": [
    "# 最後輸出01是二分類結果，所以直接用二分交叉熵作為損失函數\n",
    "model.compile(loss='binary_crossentropy', optimizer='adam', metrics=['accuracy', 'Precision'])\n"
   ]
  },
  {
   "cell_type": "code",
   "execution_count": 36,
   "metadata": {},
   "outputs": [
    {
     "name": "stdout",
     "output_type": "stream",
     "text": [
      "Epoch 1/10\n",
      "24/24 [==============================] - 1s 1ms/step - loss: 1698.8746 - accuracy: 0.8465 - precision: 0.0349\n",
      "Epoch 2/10\n",
      "24/24 [==============================] - 0s 1ms/step - loss: 2061.3523 - accuracy: 0.8398 - precision: 0.0430\n",
      "Epoch 3/10\n",
      "24/24 [==============================] - 0s 1ms/step - loss: 1155.4333 - accuracy: 0.8331 - precision: 0.0408\n",
      "Epoch 4/10\n",
      "24/24 [==============================] - 0s 1ms/step - loss: 1530.6333 - accuracy: 0.7917 - precision: 0.0584\n",
      "Epoch 5/10\n",
      "24/24 [==============================] - 0s 1ms/step - loss: 2852.8347 - accuracy: 0.8131 - precision: 0.0354\n",
      "Epoch 6/10\n",
      "24/24 [==============================] - 0s 1ms/step - loss: 587.4107 - accuracy: 0.8024 - precision: 0.0331 \n",
      "Epoch 7/10\n",
      "24/24 [==============================] - 0s 1ms/step - loss: 847.2066 - accuracy: 0.7704 - precision: 0.0276\n",
      "Epoch 8/10\n",
      "24/24 [==============================] - 0s 1ms/step - loss: 448.8929 - accuracy: 0.7583 - precision: 0.0380\n",
      "Epoch 9/10\n",
      "24/24 [==============================] - 0s 1ms/step - loss: 1904.1228 - accuracy: 0.7196 - precision: 0.0321\n",
      "Epoch 10/10\n",
      "24/24 [==============================] - 0s 1ms/step - loss: 409.8440 - accuracy: 0.7824 - precision: 0.0429\n"
     ]
    }
   ],
   "source": [
    "history =model.fit(x = x_train,y = y_train,batch_size=32,epochs=10,shuffle=True)"
   ]
  },
  {
   "cell_type": "code",
   "execution_count": 38,
   "metadata": {},
   "outputs": [
    {
     "name": "stdout",
     "output_type": "stream",
     "text": [
      "dict_keys(['loss', 'accuracy', 'precision'])\n"
     ]
    },
    {
     "data": {
      "image/png": "[encoded data removed]",
      "text/plain": [
       "<Figure size 432x288 with 1 Axes>"
      ]
     },
     "metadata": {
      "needs_background": "light"
     },
     "output_type": "display_data"
    },
    {
     "data": {
      "image/png": "[encoded data removed]",
      "text/plain": [
       "<Figure size 432x288 with 1 Axes>"
      ]
     },
     "metadata": {
      "needs_background": "light"
     },
     "output_type": "display_data"
    },
    {
     "data": {
      "image/png": "[encoded data removed]",
      "text/plain": [
       "<Figure size 432x288 with 1 Axes>"
      ]
     },
     "metadata": {
      "needs_background": "light"
     },
     "output_type": "display_data"
    }
   ],
   "source": [
    "import matplotlib.pyplot as plt \n",
    "\n",
    "print(history.history.keys())\n",
    "\"\"\"Accuracy\"\"\"\n",
    "plt.plot(history.history['accuracy'])\n",
    "plt.title('model accuracy')\n",
    "plt.ylabel('accuracy')\n",
    "plt.xlabel('epoch')\n",
    "plt.legend(['train', 'validation'], loc='upper left')\n",
    "plt.show()\n",
    "\"\"\"Loss\"\"\"\n",
    "plt.plot(history.history['loss'])\n",
    "plt.title('model loss')\n",
    "plt.ylabel('loss')\n",
    "plt.xlabel('epoch')\n",
    "plt.legend(['train', 'validation'], loc='upper left')\n",
    "plt.show()\n",
    "\"\"\"precision\"\"\"\n",
    "plt.plot(history.history['precision'])\n",
    "plt.title('model precision')\n",
    "plt.ylabel('precision')\n",
    "plt.xlabel('epoch')\n",
    "plt.legend(['train', 'validation'], loc='upper left')\n",
    "plt.show()\n"
   ]
  },
  {
   "cell_type": "code",
   "execution_count": 41,
   "metadata": {},
   "outputs": [
    {
     "name": "stdout",
     "output_type": "stream",
     "text": [
      "0.7823765277862549\n"
     ]
    }
   ],
   "source": [
    "# 查看模型的精確度\n",
    "print(history.history['accuracy'][-1])"
   ]
  },
  {
   "cell_type": "code",
   "execution_count": null,
   "metadata": {},
   "outputs": [],
   "source": []
  }
 ],
 "metadata": {
  "kernelspec": {
   "display_name": "Python 3.9.2 64-bit",
   "language": "python",
   "name": "python3"
  },
  "language_info": {
   "codemirror_mode": {
    "name": "ipython",
    "version": 3
   },
   "file_extension": ".py",
   "mimetype": "text/x-python",
   "name": "python",
   "nbconvert_exporter": "python",
   "pygments_lexer": "ipython3",
   "version": "3.9.2 (v3.9.2:1a79785e3e, Feb 19 2021, 09:06:10) \n[Clang 6.0 (clang-600.0.57)]"
  },
  "orig_nbformat": 4,
  "vscode": {
   "interpreter": {
    "hash": "397704579725e15f5c7cb49fe5f0341eb7531c82d19f2c29d197e8b64ab5776b"
   }
  }
 },
 "nbformat": 4,
 "nbformat_minor": 2
}
