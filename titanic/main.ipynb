{
 "cells": [
  {
   "cell_type": "code",
   "execution_count": 1,
   "id": "cc8d033c",
   "metadata": {
    "_cell_guid": "b1076dfc-b9ad-4769-8c92-a6c4dae69d19",
    "_uuid": "8f2839f25d086af736a60e9eeb907d3b93b6e0e5",
    "execution": {
     "iopub.execute_input": "2022-11-27T08:38:07.077527Z",
     "iopub.status.busy": "2022-11-27T08:38:07.076879Z",
     "iopub.status.idle": "2022-11-27T08:38:07.089832Z",
     "shell.execute_reply": "2022-11-27T08:38:07.088584Z"
    },
    "papermill": {
     "duration": 0.024336,
     "end_time": "2022-11-27T08:38:07.091911",
     "exception": false,
     "start_time": "2022-11-27T08:38:07.067575",
     "status": "completed"
    },
    "tags": []
   },
   "outputs": [
    {
     "name": "stdout",
     "output_type": "stream",
     "text": [
      "/kaggle/input/titanic/train.csv\n",
      "/kaggle/input/titanic/test.csv\n",
      "/kaggle/input/titanic/gender_submission.csv\n"
     ]
    }
   ],
   "source": [
    "import numpy as np # linear algebra\n",
    "import pandas as pd # data processing, CSV file I/O (e.g. pd.read_csv)\n",
    "import os\n",
    "for dirname, _, filenames in os.walk('/kaggle/input'):\n",
    "    for filename in filenames:\n",
    "        print(os.path.join(dirname, filename))"
   ]
  },
  {
   "cell_type": "markdown",
   "id": "1282a683",
   "metadata": {
    "papermill": {
     "duration": 0.006295,
     "end_time": "2022-11-27T08:38:07.104870",
     "exception": false,
     "start_time": "2022-11-27T08:38:07.098575",
     "status": "completed"
    },
    "tags": []
   },
   "source": [
    "# 实现内容\n",
    "\n",
    "## 数据集内容解析\n",
    "\n",
    "## 少量的数据分析内容\n",
    "## 在年龄上与存活率进行逻辑斯蒂回归\n",
    "\n",
    "## 以多个属性和存活率做K近邻预测\n",
    "\n",
    "\n",
    "\n"
   ]
  },
  {
   "cell_type": "markdown",
   "id": "1cc41a04",
   "metadata": {
    "papermill": {
     "duration": 0.006085,
     "end_time": "2022-11-27T08:38:07.117194",
     "exception": false,
     "start_time": "2022-11-27T08:38:07.111109",
     "status": "completed"
    },
    "tags": []
   },
   "source": [
    "## 数据集内容解析\n",
    "看简介了解到，根据所给的数据（即属性）来判断存活率受什么影响最大，也可以是输入预测的属性来预测存活率"
   ]
  },
  {
   "cell_type": "markdown",
   "id": "938fe4d2",
   "metadata": {
    "papermill": {
     "duration": 0.006153,
     "end_time": "2022-11-27T08:38:07.129627",
     "exception": false,
     "start_time": "2022-11-27T08:38:07.123474",
     "status": "completed"
    },
    "tags": []
   },
   "source": [
    "## 数据分析"
   ]
  },
  {
   "cell_type": "code",
   "execution_count": 2,
   "id": "8f9e0acf",
   "metadata": {
    "execution": {
     "iopub.execute_input": "2022-11-27T08:38:07.143872Z",
     "iopub.status.busy": "2022-11-27T08:38:07.143496Z",
     "iopub.status.idle": "2022-11-27T08:38:07.182147Z",
     "shell.execute_reply": "2022-11-27T08:38:07.181289Z"
    },
    "papermill": {
     "duration": 0.047918,
     "end_time": "2022-11-27T08:38:07.183876",
     "exception": false,
     "start_time": "2022-11-27T08:38:07.135958",
     "status": "completed"
    },
    "tags": []
   },
   "outputs": [
    {
     "data": {
      "text/html": [
       "<div>\n",
       "<style scoped>\n",
       "    .dataframe tbody tr th:only-of-type {\n",
       "        vertical-align: middle;\n",
       "    }\n",
       "\n",
       "    .dataframe tbody tr th {\n",
       "        vertical-align: top;\n",
       "    }\n",
       "\n",
       "    .dataframe thead th {\n",
       "        text-align: right;\n",
       "    }\n",
       "</style>\n",
       "<table border=\"1\" class=\"dataframe\">\n",
       "  <thead>\n",
       "    <tr style=\"text-align: right;\">\n",
       "      <th></th>\n",
       "      <th>PassengerId</th>\n",
       "      <th>Survived</th>\n",
       "      <th>Pclass</th>\n",
       "      <th>Name</th>\n",
       "      <th>Sex</th>\n",
       "      <th>Age</th>\n",
       "      <th>SibSp</th>\n",
       "      <th>Parch</th>\n",
       "      <th>Ticket</th>\n",
       "      <th>Fare</th>\n",
       "      <th>Cabin</th>\n",
       "      <th>Embarked</th>\n",
       "    </tr>\n",
       "  </thead>\n",
       "  <tbody>\n",
       "    <tr>\n",
       "      <th>0</th>\n",
       "      <td>1</td>\n",
       "      <td>0</td>\n",
       "      <td>3</td>\n",
       "      <td>Braund, Mr. Owen Harris</td>\n",
       "      <td>male</td>\n",
       "      <td>22.0</td>\n",
       "      <td>1</td>\n",
       "      <td>0</td>\n",
       "      <td>A/5 21171</td>\n",
       "      <td>7.2500</td>\n",
       "      <td>NaN</td>\n",
       "      <td>S</td>\n",
       "    </tr>\n",
       "    <tr>\n",
       "      <th>1</th>\n",
       "      <td>2</td>\n",
       "      <td>1</td>\n",
       "      <td>1</td>\n",
       "      <td>Cumings, Mrs. John Bradley (Florence Briggs Th...</td>\n",
       "      <td>female</td>\n",
       "      <td>38.0</td>\n",
       "      <td>1</td>\n",
       "      <td>0</td>\n",
       "      <td>PC 17599</td>\n",
       "      <td>71.2833</td>\n",
       "      <td>C85</td>\n",
       "      <td>C</td>\n",
       "    </tr>\n",
       "    <tr>\n",
       "      <th>2</th>\n",
       "      <td>3</td>\n",
       "      <td>1</td>\n",
       "      <td>3</td>\n",
       "      <td>Heikkinen, Miss. Laina</td>\n",
       "      <td>female</td>\n",
       "      <td>26.0</td>\n",
       "      <td>0</td>\n",
       "      <td>0</td>\n",
       "      <td>STON/O2. 3101282</td>\n",
       "      <td>7.9250</td>\n",
       "      <td>NaN</td>\n",
       "      <td>S</td>\n",
       "    </tr>\n",
       "    <tr>\n",
       "      <th>3</th>\n",
       "      <td>4</td>\n",
       "      <td>1</td>\n",
       "      <td>1</td>\n",
       "      <td>Futrelle, Mrs. Jacques Heath (Lily May Peel)</td>\n",
       "      <td>female</td>\n",
       "      <td>35.0</td>\n",
       "      <td>1</td>\n",
       "      <td>0</td>\n",
       "      <td>113803</td>\n",
       "      <td>53.1000</td>\n",
       "      <td>C123</td>\n",
       "      <td>S</td>\n",
       "    </tr>\n",
       "    <tr>\n",
       "      <th>4</th>\n",
       "      <td>5</td>\n",
       "      <td>0</td>\n",
       "      <td>3</td>\n",
       "      <td>Allen, Mr. William Henry</td>\n",
       "      <td>male</td>\n",
       "      <td>35.0</td>\n",
       "      <td>0</td>\n",
       "      <td>0</td>\n",
       "      <td>373450</td>\n",
       "      <td>8.0500</td>\n",
       "      <td>NaN</td>\n",
       "      <td>S</td>\n",
       "    </tr>\n",
       "  </tbody>\n",
       "</table>\n",
       "</div>"
      ],
      "text/plain": [
       "   PassengerId  Survived  Pclass  \\\n",
       "0            1         0       3   \n",
       "1            2         1       1   \n",
       "2            3         1       3   \n",
       "3            4         1       1   \n",
       "4            5         0       3   \n",
       "\n",
       "                                                Name     Sex   Age  SibSp  \\\n",
       "0                            Braund, Mr. Owen Harris    male  22.0      1   \n",
       "1  Cumings, Mrs. John Bradley (Florence Briggs Th...  female  38.0      1   \n",
       "2                             Heikkinen, Miss. Laina  female  26.0      0   \n",
       "3       Futrelle, Mrs. Jacques Heath (Lily May Peel)  female  35.0      1   \n",
       "4                           Allen, Mr. William Henry    male  35.0      0   \n",
       "\n",
       "   Parch            Ticket     Fare Cabin Embarked  \n",
       "0      0         A/5 21171   7.2500   NaN        S  \n",
       "1      0          PC 17599  71.2833   C85        C  \n",
       "2      0  STON/O2. 3101282   7.9250   NaN        S  \n",
       "3      0            113803  53.1000  C123        S  \n",
       "4      0            373450   8.0500   NaN        S  "
      ]
     },
     "execution_count": 2,
     "metadata": {},
     "output_type": "execute_result"
    }
   ],
   "source": [
    "import numpy as np \n",
    "import pandas as pd \n",
    "train_data = pd.read_csv(\"/kaggle/input/titanic/train.csv\")\n",
    "train_data[:5]"
   ]
  },
  {
   "cell_type": "markdown",
   "id": "18088f95",
   "metadata": {
    "papermill": {
     "duration": 0.00648,
     "end_time": "2022-11-27T08:38:07.198304",
     "exception": false,
     "start_time": "2022-11-27T08:38:07.191824",
     "status": "completed"
    },
    "tags": []
   },
   "source": [
    "### 查看是否存在空数据，需要进行数据清洗的内容"
   ]
  },
  {
   "cell_type": "code",
   "execution_count": 3,
   "id": "32e8130e",
   "metadata": {
    "execution": {
     "iopub.execute_input": "2022-11-27T08:38:07.213274Z",
     "iopub.status.busy": "2022-11-27T08:38:07.212577Z",
     "iopub.status.idle": "2022-11-27T08:38:07.220290Z",
     "shell.execute_reply": "2022-11-27T08:38:07.219550Z"
    },
    "papermill": {
     "duration": 0.016908,
     "end_time": "2022-11-27T08:38:07.221906",
     "exception": false,
     "start_time": "2022-11-27T08:38:07.204998",
     "status": "completed"
    },
    "tags": []
   },
   "outputs": [
    {
     "data": {
      "text/plain": [
       "PassengerId    False\n",
       "Survived       False\n",
       "Pclass         False\n",
       "Name           False\n",
       "Sex            False\n",
       "Age             True\n",
       "SibSp          False\n",
       "Parch          False\n",
       "Ticket         False\n",
       "Fare           False\n",
       "Cabin           True\n",
       "Embarked        True\n",
       "dtype: bool"
      ]
     },
     "execution_count": 3,
     "metadata": {},
     "output_type": "execute_result"
    }
   ],
   "source": [
    "train_data.isna().any()"
   ]
  },
  {
   "cell_type": "markdown",
   "id": "0485d805",
   "metadata": {
    "papermill": {
     "duration": 0.006335,
     "end_time": "2022-11-27T08:38:07.235261",
     "exception": false,
     "start_time": "2022-11-27T08:38:07.228926",
     "status": "completed"
    },
    "tags": []
   },
   "source": [
    "### 删除数据中的空白内容"
   ]
  },
  {
   "cell_type": "code",
   "execution_count": 4,
   "id": "9d297a4e",
   "metadata": {
    "execution": {
     "iopub.execute_input": "2022-11-27T08:38:07.250024Z",
     "iopub.status.busy": "2022-11-27T08:38:07.249589Z",
     "iopub.status.idle": "2022-11-27T08:38:07.258367Z",
     "shell.execute_reply": "2022-11-27T08:38:07.257819Z"
    },
    "papermill": {
     "duration": 0.018342,
     "end_time": "2022-11-27T08:38:07.260152",
     "exception": false,
     "start_time": "2022-11-27T08:38:07.241810",
     "status": "completed"
    },
    "tags": []
   },
   "outputs": [],
   "source": [
    "train_data.dropna(inplace=True)"
   ]
  },
  {
   "cell_type": "code",
   "execution_count": 5,
   "id": "ae83a755",
   "metadata": {
    "execution": {
     "iopub.execute_input": "2022-11-27T08:38:07.275957Z",
     "iopub.status.busy": "2022-11-27T08:38:07.274521Z",
     "iopub.status.idle": "2022-11-27T08:38:07.282970Z",
     "shell.execute_reply": "2022-11-27T08:38:07.282247Z"
    },
    "papermill": {
     "duration": 0.018213,
     "end_time": "2022-11-27T08:38:07.285224",
     "exception": false,
     "start_time": "2022-11-27T08:38:07.267011",
     "status": "completed"
    },
    "tags": []
   },
   "outputs": [
    {
     "data": {
      "text/plain": [
       "PassengerId    False\n",
       "Survived       False\n",
       "Pclass         False\n",
       "Name           False\n",
       "Sex            False\n",
       "Age            False\n",
       "SibSp          False\n",
       "Parch          False\n",
       "Ticket         False\n",
       "Fare           False\n",
       "Cabin          False\n",
       "Embarked       False\n",
       "dtype: bool"
      ]
     },
     "execution_count": 5,
     "metadata": {},
     "output_type": "execute_result"
    }
   ],
   "source": [
    "train_data.isna().any()"
   ]
  },
  {
   "cell_type": "markdown",
   "id": "5088972d",
   "metadata": {
    "papermill": {
     "duration": 0.006957,
     "end_time": "2022-11-27T08:38:07.299698",
     "exception": false,
     "start_time": "2022-11-27T08:38:07.292741",
     "status": "completed"
    },
    "tags": []
   },
   "source": [
    "### 查看存活下来的年龄分布以及占总人数的多少"
   ]
  },
  {
   "cell_type": "code",
   "execution_count": 6,
   "id": "b8e5db49",
   "metadata": {
    "execution": {
     "iopub.execute_input": "2022-11-27T08:38:07.316008Z",
     "iopub.status.busy": "2022-11-27T08:38:07.315525Z",
     "iopub.status.idle": "2022-11-27T08:38:07.329916Z",
     "shell.execute_reply": "2022-11-27T08:38:07.328819Z"
    },
    "papermill": {
     "duration": 0.024868,
     "end_time": "2022-11-27T08:38:07.331889",
     "exception": false,
     "start_time": "2022-11-27T08:38:07.307021",
     "status": "completed"
    },
    "tags": []
   },
   "outputs": [
    {
     "data": {
      "text/plain": [
       "1    0.672131\n",
       "0    0.327869\n",
       "Name: Survived, dtype: float64"
      ]
     },
     "execution_count": 6,
     "metadata": {},
     "output_type": "execute_result"
    }
   ],
   "source": [
    "survived = train_data['Survived']\n",
    "survived.value_counts(1)"
   ]
  },
  {
   "cell_type": "code",
   "execution_count": 7,
   "id": "ed1b14e6",
   "metadata": {
    "execution": {
     "iopub.execute_input": "2022-11-27T08:38:07.347805Z",
     "iopub.status.busy": "2022-11-27T08:38:07.347491Z",
     "iopub.status.idle": "2022-11-27T08:38:07.353747Z",
     "shell.execute_reply": "2022-11-27T08:38:07.352664Z"
    },
    "papermill": {
     "duration": 0.01672,
     "end_time": "2022-11-27T08:38:07.355943",
     "exception": false,
     "start_time": "2022-11-27T08:38:07.339223",
     "status": "completed"
    },
    "tags": []
   },
   "outputs": [],
   "source": [
    "# 对年纪和存活率进行聚合\n",
    "survived_age = train_data[['Age','Survived']]\n",
    "survived_age_true = survived_age.loc[survived_age['Survived']==1]"
   ]
  },
  {
   "cell_type": "code",
   "execution_count": 8,
   "id": "7cfbe85b",
   "metadata": {
    "execution": {
     "iopub.execute_input": "2022-11-27T08:38:07.372001Z",
     "iopub.status.busy": "2022-11-27T08:38:07.371651Z",
     "iopub.status.idle": "2022-11-27T08:38:07.594831Z",
     "shell.execute_reply": "2022-11-27T08:38:07.592894Z"
    },
    "papermill": {
     "duration": 0.233839,
     "end_time": "2022-11-27T08:38:07.597229",
     "exception": false,
     "start_time": "2022-11-27T08:38:07.363390",
     "status": "completed"
    },
    "tags": []
   },
   "outputs": [
    {
     "data": {
      "text/plain": [
       "<AxesSubplot:ylabel='Frequency'>"
      ]
     },
     "execution_count": 8,
     "metadata": {},
     "output_type": "execute_result"
    },
    {
     "data": {
      "image/png": "[encoded data removed]",
      "text/plain": [
       "<Figure size 432x288 with 1 Axes>"
      ]
     },
     "metadata": {
      "needs_background": "light"
     },
     "output_type": "display_data"
    }
   ],
   "source": [
    "survived_age_true['Age'].plot(kind='hist')"
   ]
  },
  {
   "cell_type": "markdown",
   "id": "155e88b5",
   "metadata": {
    "papermill": {
     "duration": 0.007559,
     "end_time": "2022-11-27T08:38:07.612617",
     "exception": false,
     "start_time": "2022-11-27T08:38:07.605058",
     "status": "completed"
    },
    "tags": []
   },
   "source": [
    "## 单一属性 逻辑斯蒂回归\n",
    "\n",
    "### 划分数据"
   ]
  },
  {
   "cell_type": "code",
   "execution_count": 9,
   "id": "c25732d5",
   "metadata": {
    "execution": {
     "iopub.execute_input": "2022-11-27T08:38:07.630146Z",
     "iopub.status.busy": "2022-11-27T08:38:07.629824Z",
     "iopub.status.idle": "2022-11-27T08:38:07.634435Z",
     "shell.execute_reply": "2022-11-27T08:38:07.633326Z"
    },
    "papermill": {
     "duration": 0.015399,
     "end_time": "2022-11-27T08:38:07.636013",
     "exception": false,
     "start_time": "2022-11-27T08:38:07.620614",
     "status": "completed"
    },
    "tags": []
   },
   "outputs": [],
   "source": [
    "X_age = train_data['Age']\n",
    "y_age = train_data['Survived']\n"
   ]
  },
  {
   "cell_type": "code",
   "execution_count": 10,
   "id": "58b04084",
   "metadata": {
    "execution": {
     "iopub.execute_input": "2022-11-27T08:38:07.653529Z",
     "iopub.status.busy": "2022-11-27T08:38:07.653223Z",
     "iopub.status.idle": "2022-11-27T08:38:08.583594Z",
     "shell.execute_reply": "2022-11-27T08:38:08.582326Z"
    },
    "papermill": {
     "duration": 0.94239,
     "end_time": "2022-11-27T08:38:08.586059",
     "exception": false,
     "start_time": "2022-11-27T08:38:07.643669",
     "status": "completed"
    },
    "tags": []
   },
   "outputs": [],
   "source": [
    "from sklearn.model_selection import train_test_split \n",
    "x_train,x_test,y_train,y_test = train_test_split(X_age,y_age,test_size=0.2)"
   ]
  },
  {
   "cell_type": "code",
   "execution_count": 11,
   "id": "ebcd7037",
   "metadata": {
    "execution": {
     "iopub.execute_input": "2022-11-27T08:38:08.603491Z",
     "iopub.status.busy": "2022-11-27T08:38:08.603151Z",
     "iopub.status.idle": "2022-11-27T08:38:08.609271Z",
     "shell.execute_reply": "2022-11-27T08:38:08.607841Z"
    },
    "papermill": {
     "duration": 0.017784,
     "end_time": "2022-11-27T08:38:08.611956",
     "exception": false,
     "start_time": "2022-11-27T08:38:08.594172",
     "status": "completed"
    },
    "tags": []
   },
   "outputs": [
    {
     "name": "stdout",
     "output_type": "stream",
     "text": [
      "(146,) (146,)\n",
      "(37,) (37,)\n"
     ]
    }
   ],
   "source": [
    "\n",
    "print(x_train.shape, y_train.shape)\n",
    "print(x_test.shape, y_test.shape)"
   ]
  },
  {
   "cell_type": "markdown",
   "id": "d91c6424",
   "metadata": {
    "papermill": {
     "duration": 0.007267,
     "end_time": "2022-11-27T08:38:08.627639",
     "exception": false,
     "start_time": "2022-11-27T08:38:08.620372",
     "status": "completed"
    },
    "tags": []
   },
   "source": [
    "### 构建模型"
   ]
  },
  {
   "cell_type": "code",
   "execution_count": 12,
   "id": "40bf8c55",
   "metadata": {
    "execution": {
     "iopub.execute_input": "2022-11-27T08:38:08.645194Z",
     "iopub.status.busy": "2022-11-27T08:38:08.644134Z",
     "iopub.status.idle": "2022-11-27T08:38:08.649482Z",
     "shell.execute_reply": "2022-11-27T08:38:08.648288Z"
    },
    "papermill": {
     "duration": 0.016356,
     "end_time": "2022-11-27T08:38:08.651485",
     "exception": false,
     "start_time": "2022-11-27T08:38:08.635129",
     "status": "completed"
    },
    "tags": []
   },
   "outputs": [],
   "source": [
    "x_train = np.array(x_train).reshape(-1,1)"
   ]
  },
  {
   "cell_type": "code",
   "execution_count": 13,
   "id": "6e0ab18c",
   "metadata": {
    "execution": {
     "iopub.execute_input": "2022-11-27T08:38:08.667508Z",
     "iopub.status.busy": "2022-11-27T08:38:08.667192Z",
     "iopub.status.idle": "2022-11-27T08:38:08.740824Z",
     "shell.execute_reply": "2022-11-27T08:38:08.739284Z"
    },
    "papermill": {
     "duration": 0.084524,
     "end_time": "2022-11-27T08:38:08.743341",
     "exception": false,
     "start_time": "2022-11-27T08:38:08.658817",
     "status": "completed"
    },
    "tags": []
   },
   "outputs": [],
   "source": [
    "from sklearn.linear_model import LogisticRegression\n",
    "reg = LogisticRegression(random_state=72)"
   ]
  },
  {
   "cell_type": "code",
   "execution_count": 14,
   "id": "6203a15b",
   "metadata": {
    "execution": {
     "iopub.execute_input": "2022-11-27T08:38:08.760246Z",
     "iopub.status.busy": "2022-11-27T08:38:08.759927Z",
     "iopub.status.idle": "2022-11-27T08:38:08.778817Z",
     "shell.execute_reply": "2022-11-27T08:38:08.777512Z"
    },
    "papermill": {
     "duration": 0.030131,
     "end_time": "2022-11-27T08:38:08.781259",
     "exception": false,
     "start_time": "2022-11-27T08:38:08.751128",
     "status": "completed"
    },
    "tags": []
   },
   "outputs": [
    {
     "data": {
      "text/plain": [
       "LogisticRegression(random_state=72)"
      ]
     },
     "execution_count": 14,
     "metadata": {},
     "output_type": "execute_result"
    }
   ],
   "source": [
    "reg.fit(x_train,y_train)"
   ]
  },
  {
   "cell_type": "code",
   "execution_count": 15,
   "id": "d11fc9af",
   "metadata": {
    "execution": {
     "iopub.execute_input": "2022-11-27T08:38:08.798239Z",
     "iopub.status.busy": "2022-11-27T08:38:08.797953Z",
     "iopub.status.idle": "2022-11-27T08:38:08.803250Z",
     "shell.execute_reply": "2022-11-27T08:38:08.801934Z"
    },
    "papermill": {
     "duration": 0.016034,
     "end_time": "2022-11-27T08:38:08.805177",
     "exception": false,
     "start_time": "2022-11-27T08:38:08.789143",
     "status": "completed"
    },
    "tags": []
   },
   "outputs": [],
   "source": [
    "x_test = np.array(x_test).reshape(-1,1)\n",
    "y_pred = reg.predict(x_test)"
   ]
  },
  {
   "cell_type": "markdown",
   "id": "5e878108",
   "metadata": {
    "papermill": {
     "duration": 0.007438,
     "end_time": "2022-11-27T08:38:08.821010",
     "exception": false,
     "start_time": "2022-11-27T08:38:08.813572",
     "status": "completed"
    },
    "tags": []
   },
   "source": [
    "**调用sklearn中的一个检测精度api**"
   ]
  },
  {
   "cell_type": "code",
   "execution_count": 16,
   "id": "a38092c1",
   "metadata": {
    "execution": {
     "iopub.execute_input": "2022-11-27T08:38:08.837719Z",
     "iopub.status.busy": "2022-11-27T08:38:08.837390Z",
     "iopub.status.idle": "2022-11-27T08:38:08.844559Z",
     "shell.execute_reply": "2022-11-27T08:38:08.843831Z"
    },
    "papermill": {
     "duration": 0.017663,
     "end_time": "2022-11-27T08:38:08.846302",
     "exception": false,
     "start_time": "2022-11-27T08:38:08.828639",
     "status": "completed"
    },
    "tags": []
   },
   "outputs": [
    {
     "data": {
      "text/plain": [
       "0.7297297297297297"
      ]
     },
     "execution_count": 16,
     "metadata": {},
     "output_type": "execute_result"
    }
   ],
   "source": [
    "from sklearn.metrics import accuracy_score\n",
    "accuracy_score(y_test,y_pred)"
   ]
  },
  {
   "cell_type": "markdown",
   "id": "6e1fc121",
   "metadata": {
    "papermill": {
     "duration": 0.007517,
     "end_time": "2022-11-27T08:38:08.861658",
     "exception": false,
     "start_time": "2022-11-27T08:38:08.854141",
     "status": "completed"
    },
    "tags": []
   },
   "source": [
    "预测数据"
   ]
  },
  {
   "cell_type": "code",
   "execution_count": 17,
   "id": "6ed6ee14",
   "metadata": {
    "execution": {
     "iopub.execute_input": "2022-11-27T08:38:08.878249Z",
     "iopub.status.busy": "2022-11-27T08:38:08.877948Z",
     "iopub.status.idle": "2022-11-27T08:38:08.884795Z",
     "shell.execute_reply": "2022-11-27T08:38:08.884035Z"
    },
    "papermill": {
     "duration": 0.017221,
     "end_time": "2022-11-27T08:38:08.886603",
     "exception": false,
     "start_time": "2022-11-27T08:38:08.869382",
     "status": "completed"
    },
    "tags": []
   },
   "outputs": [
    {
     "data": {
      "text/plain": [
       "array([0])"
      ]
     },
     "execution_count": 17,
     "metadata": {},
     "output_type": "execute_result"
    }
   ],
   "source": [
    "# 数字为输入\n",
    "single_test = np.array([60]).reshape(-1,1)\n",
    "single_test.shape\n",
    "reg.predict(single_test)"
   ]
  },
  {
   "cell_type": "markdown",
   "id": "ccf218a4",
   "metadata": {
    "papermill": {
     "duration": 0.007329,
     "end_time": "2022-11-27T08:38:08.901860",
     "exception": false,
     "start_time": "2022-11-27T08:38:08.894531",
     "status": "completed"
    },
    "tags": []
   },
   "source": [
    "## 多个属性 k近邻"
   ]
  },
  {
   "cell_type": "code",
   "execution_count": 18,
   "id": "dbfdffc4",
   "metadata": {
    "execution": {
     "iopub.execute_input": "2022-11-27T08:38:08.919364Z",
     "iopub.status.busy": "2022-11-27T08:38:08.918964Z",
     "iopub.status.idle": "2022-11-27T08:38:08.931577Z",
     "shell.execute_reply": "2022-11-27T08:38:08.930869Z"
    },
    "papermill": {
     "duration": 0.024487,
     "end_time": "2022-11-27T08:38:08.933975",
     "exception": false,
     "start_time": "2022-11-27T08:38:08.909488",
     "status": "completed"
    },
    "tags": []
   },
   "outputs": [],
   "source": [
    "# 重新导入数据\n",
    "train_data = pd.read_csv(\"/kaggle/input/titanic/train.csv\")\n",
    "train_data.dropna(inplace=True)\n"
   ]
  },
  {
   "cell_type": "code",
   "execution_count": 19,
   "id": "0b755cb5",
   "metadata": {
    "execution": {
     "iopub.execute_input": "2022-11-27T08:38:08.953994Z",
     "iopub.status.busy": "2022-11-27T08:38:08.953602Z",
     "iopub.status.idle": "2022-11-27T08:38:08.965776Z",
     "shell.execute_reply": "2022-11-27T08:38:08.964404Z"
    },
    "papermill": {
     "duration": 0.025694,
     "end_time": "2022-11-27T08:38:08.968002",
     "exception": false,
     "start_time": "2022-11-27T08:38:08.942308",
     "status": "completed"
    },
    "tags": []
   },
   "outputs": [
    {
     "data": {
      "text/html": [
       "<div>\n",
       "<style scoped>\n",
       "    .dataframe tbody tr th:only-of-type {\n",
       "        vertical-align: middle;\n",
       "    }\n",
       "\n",
       "    .dataframe tbody tr th {\n",
       "        vertical-align: top;\n",
       "    }\n",
       "\n",
       "    .dataframe thead th {\n",
       "        text-align: right;\n",
       "    }\n",
       "</style>\n",
       "<table border=\"1\" class=\"dataframe\">\n",
       "  <thead>\n",
       "    <tr style=\"text-align: right;\">\n",
       "      <th></th>\n",
       "      <th>Pclass</th>\n",
       "      <th>Age</th>\n",
       "      <th>Fare</th>\n",
       "    </tr>\n",
       "  </thead>\n",
       "  <tbody>\n",
       "    <tr>\n",
       "      <th>1</th>\n",
       "      <td>1</td>\n",
       "      <td>38.0</td>\n",
       "      <td>71.2833</td>\n",
       "    </tr>\n",
       "    <tr>\n",
       "      <th>3</th>\n",
       "      <td>1</td>\n",
       "      <td>35.0</td>\n",
       "      <td>53.1000</td>\n",
       "    </tr>\n",
       "    <tr>\n",
       "      <th>6</th>\n",
       "      <td>1</td>\n",
       "      <td>54.0</td>\n",
       "      <td>51.8625</td>\n",
       "    </tr>\n",
       "  </tbody>\n",
       "</table>\n",
       "</div>"
      ],
      "text/plain": [
       "   Pclass   Age     Fare\n",
       "1       1  38.0  71.2833\n",
       "3       1  35.0  53.1000\n",
       "6       1  54.0  51.8625"
      ]
     },
     "execution_count": 19,
     "metadata": {},
     "output_type": "execute_result"
    }
   ],
   "source": [
    "# 定义数据集\n",
    "df = train_data.drop(columns=['PassengerId','Name','Cabin','Embarked','SibSp','Parch','Ticket','Sex','Survived'])\n",
    "y = train_data['Survived']\n",
    "df[:3]"
   ]
  },
  {
   "cell_type": "code",
   "execution_count": 20,
   "id": "7f9aee9d",
   "metadata": {
    "execution": {
     "iopub.execute_input": "2022-11-27T08:38:08.992380Z",
     "iopub.status.busy": "2022-11-27T08:38:08.991871Z",
     "iopub.status.idle": "2022-11-27T08:38:08.998045Z",
     "shell.execute_reply": "2022-11-27T08:38:08.996695Z"
    },
    "papermill": {
     "duration": 0.021603,
     "end_time": "2022-11-27T08:38:09.000538",
     "exception": false,
     "start_time": "2022-11-27T08:38:08.978935",
     "status": "completed"
    },
    "tags": []
   },
   "outputs": [
    {
     "name": "stdout",
     "output_type": "stream",
     "text": [
      "(146, 3) (146,)\n",
      "(37, 3) (37,)\n"
     ]
    }
   ],
   "source": [
    "# X_train, y_train, X_test, y_test = train_test_split(df, y, test_size=0.2,)\n",
    "\n",
    "x_train,x_test,y_train ,y_test = train_test_split(df,y,test_size=0.2)\n",
    "print(x_train.shape, y_train.shape)\n",
    "print(x_test.shape, y_test.shape)"
   ]
  },
  {
   "cell_type": "code",
   "execution_count": 21,
   "id": "ce2f02b9",
   "metadata": {
    "execution": {
     "iopub.execute_input": "2022-11-27T08:38:09.031565Z",
     "iopub.status.busy": "2022-11-27T08:38:09.030685Z",
     "iopub.status.idle": "2022-11-27T08:38:09.036460Z",
     "shell.execute_reply": "2022-11-27T08:38:09.035530Z"
    },
    "papermill": {
     "duration": 0.026886,
     "end_time": "2022-11-27T08:38:09.038571",
     "exception": false,
     "start_time": "2022-11-27T08:38:09.011685",
     "status": "completed"
    },
    "tags": []
   },
   "outputs": [],
   "source": [
    "X_train = np.array(x_train).reshape(-1,1)\n",
    "X_test = np.array(x_test).reshape(-1,1)"
   ]
  },
  {
   "cell_type": "code",
   "execution_count": 22,
   "id": "87ca49fe",
   "metadata": {
    "execution": {
     "iopub.execute_input": "2022-11-27T08:38:09.056859Z",
     "iopub.status.busy": "2022-11-27T08:38:09.056243Z",
     "iopub.status.idle": "2022-11-27T08:38:09.116574Z",
     "shell.execute_reply": "2022-11-27T08:38:09.115539Z"
    },
    "papermill": {
     "duration": 0.071697,
     "end_time": "2022-11-27T08:38:09.118568",
     "exception": false,
     "start_time": "2022-11-27T08:38:09.046871",
     "status": "completed"
    },
    "tags": []
   },
   "outputs": [],
   "source": [
    "from sklearn.neighbors import KNeighborsClassifier\n",
    "knn_classifier = KNeighborsClassifier(n_neighbors=3)"
   ]
  },
  {
   "cell_type": "code",
   "execution_count": 23,
   "id": "1a1f7dec",
   "metadata": {
    "execution": {
     "iopub.execute_input": "2022-11-27T08:38:09.139053Z",
     "iopub.status.busy": "2022-11-27T08:38:09.138365Z",
     "iopub.status.idle": "2022-11-27T08:38:09.147277Z",
     "shell.execute_reply": "2022-11-27T08:38:09.146204Z"
    },
    "papermill": {
     "duration": 0.022058,
     "end_time": "2022-11-27T08:38:09.148997",
     "exception": false,
     "start_time": "2022-11-27T08:38:09.126939",
     "status": "completed"
    },
    "tags": []
   },
   "outputs": [
    {
     "data": {
      "text/plain": [
       "KNeighborsClassifier(n_neighbors=3)"
      ]
     },
     "execution_count": 23,
     "metadata": {},
     "output_type": "execute_result"
    }
   ],
   "source": [
    "knn_classifier.fit(x_train,y_train)"
   ]
  },
  {
   "cell_type": "code",
   "execution_count": 24,
   "id": "f866d123",
   "metadata": {
    "execution": {
     "iopub.execute_input": "2022-11-27T08:38:09.167837Z",
     "iopub.status.busy": "2022-11-27T08:38:09.167140Z",
     "iopub.status.idle": "2022-11-27T08:38:09.178171Z",
     "shell.execute_reply": "2022-11-27T08:38:09.176923Z"
    },
    "papermill": {
     "duration": 0.023253,
     "end_time": "2022-11-27T08:38:09.180697",
     "exception": false,
     "start_time": "2022-11-27T08:38:09.157444",
     "status": "completed"
    },
    "tags": []
   },
   "outputs": [
    {
     "data": {
      "text/plain": [
       "(37,)"
      ]
     },
     "execution_count": 24,
     "metadata": {},
     "output_type": "execute_result"
    }
   ],
   "source": [
    "y_pred = knn_classifier.predict(x_test)\n",
    "y_pred.shape"
   ]
  },
  {
   "cell_type": "code",
   "execution_count": 25,
   "id": "2004171f",
   "metadata": {
    "execution": {
     "iopub.execute_input": "2022-11-27T08:38:09.198472Z",
     "iopub.status.busy": "2022-11-27T08:38:09.198191Z",
     "iopub.status.idle": "2022-11-27T08:38:09.204986Z",
     "shell.execute_reply": "2022-11-27T08:38:09.203809Z"
    },
    "papermill": {
     "duration": 0.017576,
     "end_time": "2022-11-27T08:38:09.206624",
     "exception": false,
     "start_time": "2022-11-27T08:38:09.189048",
     "status": "completed"
    },
    "tags": []
   },
   "outputs": [
    {
     "data": {
      "text/plain": [
       "0.7567567567567568"
      ]
     },
     "execution_count": 25,
     "metadata": {},
     "output_type": "execute_result"
    }
   ],
   "source": [
    "# 直接使用sklearn中的api查看精准度\n",
    "from sklearn.metrics import accuracy_score\n",
    "accuracy_score(y_test,y_pred)\n"
   ]
  },
  {
   "cell_type": "code",
   "execution_count": null,
   "id": "9df335c7",
   "metadata": {
    "papermill": {
     "duration": 0.011734,
     "end_time": "2022-11-27T08:38:09.227423",
     "exception": false,
     "start_time": "2022-11-27T08:38:09.215689",
     "status": "completed"
    },
    "tags": []
   },
   "outputs": [],
   "source": []
  }
 ],
 "metadata": {
  "kernelspec": {
   "display_name": "Python 3.9.2 64-bit",
   "language": "python",
   "name": "python3"
  },
  "language_info": {
   "codemirror_mode": {
    "name": "ipython",
    "version": 3
   },
   "file_extension": ".py",
   "mimetype": "text/x-python",
   "name": "python",
   "nbconvert_exporter": "python",
   "pygments_lexer": "ipython3",
   "version": "3.9.2"
  },
  "papermill": {
   "default_parameters": {},
   "duration": 9.774827,
   "end_time": "2022-11-27T08:38:09.958273",
   "environment_variables": {},
   "exception": null,
   "input_path": "__notebook__.ipynb",
   "output_path": "__notebook__.ipynb",
   "parameters": {},
   "start_time": "2022-11-27T08:38:00.183446",
   "version": "2.3.4"
  },
  "vscode": {
   "interpreter": {
    "hash": "397704579725e15f5c7cb49fe5f0341eb7531c82d19f2c29d197e8b64ab5776b"
   }
  }
 },
 "nbformat": 4,
 "nbformat_minor": 5
}
